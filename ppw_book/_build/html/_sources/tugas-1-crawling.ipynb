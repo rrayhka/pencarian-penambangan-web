{
  "nbformat": 4,
  "nbformat_minor": 0,
  "metadata": {
    "colab": {
      "provenance": [],
      "toc_visible": true
    },
    "kernelspec": {
      "name": "python3",
      "display_name": "Python 3"
    },
    "language_info": {
      "name": "python"
    }
  },
  "cells": [
    {
      "cell_type": "markdown",
      "source": [
        "# Crawling Web Berita CNBC Indonesia"
      ],
      "metadata": {
        "id": "ctmIWTyIViJb"
      }
    },
    {
      "cell_type": "markdown",
      "source": [
        "## Apa itu Crawling?\n",
        "\n",
        "Crawling adalah proses di mana mesin pencari mengunjungi halaman-halaman web untuk menemukan dan mengindeks konten. Dalam proses ini, bot atau robot yang dikenal sebagai \"crawler\" atau \"spider\" mengumpulkan informasi dari berbagai halaman web untuk memastikan bahwa konten terbaru dan relevan tersedia dalam indeks mesin pencari.\n",
        "\n"
      ],
      "metadata": {
        "id": "r8MjcHNNV5nh"
      }
    },
    {
      "cell_type": "markdown",
      "source": [
        "## Proses Crawling\n",
        "\n",
        "Pada contoh ini, proses crawling dilakukan pada website CNBC Indonesia untuk mengumpulkan data berita. Artikel-artikel berita akan diambil dari beberapa kategori yang berbeda, seperti Research, News, Tech, dan Market."
      ],
      "metadata": {
        "id": "DmT8Wmo8WDd_"
      }
    },
    {
      "cell_type": "markdown",
      "source": [
        "## Tool atau libray yang diperlukan"
      ],
      "metadata": {
        "id": "PpM-0GTtWNY9"
      }
    },
    {
      "cell_type": "code",
      "execution_count": 1,
      "metadata": {
        "id": "pOBXk9C1Sn97"
      },
      "outputs": [],
      "source": [
        "import requests\n",
        "from bs4 import BeautifulSoup\n",
        "import pandas as pd"
      ]
    },
    {
      "cell_type": "markdown",
      "source": [
        "\n",
        "- **Requests** digunakan untuk mengambil konten HTML/HTTP dari sebuah website.\n",
        "- **BeautifulSoup** berfungsi untuk mengurai dan memproses data dari HTML/XML.\n",
        "- **Pandas** digunakan untuk menyimpan data dalam format yang mudah dibaca dan diproses."
      ],
      "metadata": {
        "id": "BI5sazE7WZu-"
      }
    },
    {
      "cell_type": "markdown",
      "source": [
        "## Code Program"
      ],
      "metadata": {
        "id": "I50jpU9QWfwc"
      }
    },
    {
      "cell_type": "markdown",
      "source": [
        "#### Inisialisasi Variabel dan URL"
      ],
      "metadata": {
        "id": "ES9mNcl6Wmus"
      }
    },
    {
      "cell_type": "code",
      "source": [
        "judul = []\n",
        "tanggal = []\n",
        "isi = []\n",
        "url_list = []\n",
        "kategori_list = []\n",
        "\n",
        "base_urls = [\n",
        "    \"https://www.cnbcindonesia.com/research/indeks/127/\",\n",
        "    \"https://www.cnbcindonesia.com/news/indeks/3/\",\n",
        "    \"https://www.cnbcindonesia.com/tech/indeks/12/\",\n",
        "    \"https://www.cnbcindonesia.com/market/indeks/5/\"\n",
        "]\n",
        "categories = [\n",
        "    \"Research\",\n",
        "    \"News\",\n",
        "    \"Tech\",\n",
        "    \"Market\"\n",
        "]"
      ],
      "metadata": {
        "id": "mozJuDBQSv58"
      },
      "execution_count": 20,
      "outputs": []
    },
    {
      "cell_type": "markdown",
      "source": [
        "\n",
        "Variabel-variabel ini digunakan untuk menyimpan data yang akan diambil dari website. `base_urls` adalah daftar URL yang akan dikunjungi untuk mengambil artikel."
      ],
      "metadata": {
        "id": "cwcq13poWzeB"
      }
    },
    {
      "cell_type": "markdown",
      "source": [
        "#### Proses Pengambilan Data"
      ],
      "metadata": {
        "id": "X5YSAfcNW20J"
      }
    },
    {
      "cell_type": "code",
      "source": [
        "payload = {'tipe': 'artikel'}\n",
        "\n",
        "for news, category in zip(base_urls, categories):\n",
        "    for page in range(1, 11):  # Mengambil dari halaman 1 hingga 10\n",
        "        url = f\"{news}{page}\"\n",
        "        response = requests.get(url, params=payload)\n",
        "        if response.status_code == 200:\n",
        "            soup = BeautifulSoup(response.content, \"html.parser\")\n",
        "            articles = soup.find_all(\"article\")\n",
        "\n",
        "            # Menambahkan kategori ke dalam list\n",
        "            kategori = category  # Menggunakan kategori dari list `categories`\n",
        "\n",
        "            # Pada kode dibawah ini akan mengunjungi satu persatu artikel yang ada di halaman ke-n\n",
        "            for article in articles:\n",
        "                link = article.find(\"a\")[\"href\"]  # Untuk mendapatkan link\n",
        "                article_response = requests.get(link)\n",
        "                if article_response.status_code == 200:\n",
        "                    articleFull = BeautifulSoup(article_response.content, \"html.parser\")\n",
        "                    judulArtikel = articleFull.find(\n",
        "                        \"h1\", class_=\"mb-4 text-32 font-extrabold\"\n",
        "                    ).text.strip()  # Untuk mendapatkan judul artikel\n",
        "                    tanggalArtikel = articleFull.find(\n",
        "                        \"div\", class_=\"text-cm text-gray\"\n",
        "                    ).text.strip()  # Untuk mendapatkan tanggal artikel diterbitkan\n",
        "\n",
        "                    # Isi artikel terdapat pada tag div dengan class detail-text\n",
        "                    artikel_element = articleFull.find(\"div\", class_=\"detail-text\")\n",
        "                    # Mengambil semua isi artikel yang terdapat di tag p\n",
        "                    artikelTeks = [p.get_text(strip=True) for p in artikel_element.find_all(\"p\")]\n",
        "                    artikel_content = \"\\n\".join(artikelTeks)\n",
        "\n",
        "                    # Menambahkan judul, tanggal, isi, dan url ke dalam list yang sudah diinisialisasikan\n",
        "                    judul.append(judulArtikel)\n",
        "                    tanggal.append(tanggalArtikel)\n",
        "                    isi.append(artikel_content)\n",
        "                    url_list.append(link)\n",
        "                    kategori_list.append(kategori)\n",
        "                else:\n",
        "                    print(f\"Error: {article_response.status_code}\")\n",
        "        else:\n",
        "            print(f\"Error : {response.status_code}\")\n"
      ],
      "metadata": {
        "id": "sPlhEuPKXJ1j"
      },
      "execution_count": 21,
      "outputs": []
    },
    {
      "cell_type": "markdown",
      "source": [
        "Setiap artikel diambil dan data seperti judul, tanggal, dan isi artikel diproses dan disimpan dalam list yang telah disiapkan. Jika ada error dalam pengambilan data, status error akan diprint"
      ],
      "metadata": {
        "id": "AgYzkLG-YgW8"
      }
    },
    {
      "cell_type": "markdown",
      "source": [
        "##### Mengecek apakahh panjang hasil scrapping"
      ],
      "metadata": {
        "id": "1aySOWR3bRdS"
      }
    },
    {
      "cell_type": "code",
      "source": [
        "print(len(judul), len(tanggal), len(isi), len(url_list), len(kategori_list))"
      ],
      "metadata": {
        "colab": {
          "base_uri": "https://localhost:8080/"
        },
        "id": "IPAxh5E3TKeP",
        "outputId": "d227dcae-ea4b-4b07-dd82-25b7996d9a94"
      },
      "execution_count": 22,
      "outputs": [
        {
          "output_type": "stream",
          "name": "stdout",
          "text": [
            "400 400 400 400 400\n"
          ]
        }
      ]
    },
    {
      "cell_type": "markdown",
      "source": [
        "### Convert data ke dalam csv"
      ],
      "metadata": {
        "id": "0MKkRAcGbdjt"
      }
    },
    {
      "cell_type": "code",
      "source": [
        "# Membuat dataframe dari list data\n",
        "df = pd.DataFrame({\"judul\": judul, \"tanggal\": tanggal, \"isi\": isi, \"url\": url_list, \"kategori\": kategori_list})\n",
        "\n",
        "# Menyimpan dataframe ke file csv\n",
        "df.to_csv(\"data-artikel-cnbc.csv\", index=False)"
      ],
      "metadata": {
        "id": "uM-_hSs-TN2M"
      },
      "execution_count": 25,
      "outputs": []
    },
    {
      "cell_type": "markdown",
      "source": [
        "Setelah semua data dikumpulkan, data tersebut disimpan ke dalam sebuah dataframe menggunakan Pandas dan disimpan dalam format CSV untuk analisis lebih lanjut.\n"
      ],
      "metadata": {
        "id": "HwytvXGce22U"
      }
    },
    {
      "cell_type": "code",
      "source": [
        "df.head()"
      ],
      "metadata": {
        "colab": {
          "base_uri": "https://localhost:8080/",
          "height": 397
        },
        "id": "QZs5Hy56TeKv",
        "outputId": "e8261eaa-f5fb-4524-a309-40ef1c1c2e6d"
      },
      "execution_count": 24,
      "outputs": [
        {
          "output_type": "execute_result",
          "data": {
            "text/plain": [
              "                                               judul                  tanggal  \\\n",
              "0  10 Provinsi Ini Alami Deflasi Parah, Ada Kalim...  04 September 2024 11:50   \n",
              "1  Tol Langit SATRIA 1: Menjangkau Pedalaman Indo...  04 September 2024 11:40   \n",
              "2  Deret Kesederhanaan Paus Fransiskus: Arloji Ra...  04 September 2024 10:10   \n",
              "3  Daftar 10 Negara dengan Utang IMF Terbesar di ...  04 September 2024 09:20   \n",
              "4  Pahami Disini! Perbedaan Pastor dan Uskup Dala...  04 September 2024 08:25   \n",
              "\n",
              "                                                 isi  \\\n",
              "0  Jakarta, CNBC Indonesia-Memasuki September 202...   \n",
              "1  Jakarta, CNBC Indonesia- Satelit SATRIA-1 dilu...   \n",
              "2  Jakarta, CNBC Indonesia -Paus Fransiskus menua...   \n",
              "3  Jakarta, CNBC Indonesia-Memasuki periode Septe...   \n",
              "4  Jakarta, CNBC Indonesia -Dalam Gereja Katolik,...   \n",
              "\n",
              "                                                 url  kategori  \n",
              "0  https://www.cnbcindonesia.com/research/2024090...  Research  \n",
              "1  https://www.cnbcindonesia.com/research/2024090...  Research  \n",
              "2  https://www.cnbcindonesia.com/research/2024090...  Research  \n",
              "3  https://www.cnbcindonesia.com/research/2024090...  Research  \n",
              "4  https://www.cnbcindonesia.com/research/2024090...  Research  "
            ],
            "text/html": [
              "\n",
              "  <div id=\"df-181c1a40-3a06-456f-b2d8-e85f9d5936a6\" class=\"colab-df-container\">\n",
              "    <div>\n",
              "<style scoped>\n",
              "    .dataframe tbody tr th:only-of-type {\n",
              "        vertical-align: middle;\n",
              "    }\n",
              "\n",
              "    .dataframe tbody tr th {\n",
              "        vertical-align: top;\n",
              "    }\n",
              "\n",
              "    .dataframe thead th {\n",
              "        text-align: right;\n",
              "    }\n",
              "</style>\n",
              "<table border=\"1\" class=\"dataframe\">\n",
              "  <thead>\n",
              "    <tr style=\"text-align: right;\">\n",
              "      <th></th>\n",
              "      <th>judul</th>\n",
              "      <th>tanggal</th>\n",
              "      <th>isi</th>\n",
              "      <th>url</th>\n",
              "      <th>kategori</th>\n",
              "    </tr>\n",
              "  </thead>\n",
              "  <tbody>\n",
              "    <tr>\n",
              "      <th>0</th>\n",
              "      <td>10 Provinsi Ini Alami Deflasi Parah, Ada Kalim...</td>\n",
              "      <td>04 September 2024 11:50</td>\n",
              "      <td>Jakarta, CNBC Indonesia-Memasuki September 202...</td>\n",
              "      <td>https://www.cnbcindonesia.com/research/2024090...</td>\n",
              "      <td>Research</td>\n",
              "    </tr>\n",
              "    <tr>\n",
              "      <th>1</th>\n",
              "      <td>Tol Langit SATRIA 1: Menjangkau Pedalaman Indo...</td>\n",
              "      <td>04 September 2024 11:40</td>\n",
              "      <td>Jakarta, CNBC Indonesia- Satelit SATRIA-1 dilu...</td>\n",
              "      <td>https://www.cnbcindonesia.com/research/2024090...</td>\n",
              "      <td>Research</td>\n",
              "    </tr>\n",
              "    <tr>\n",
              "      <th>2</th>\n",
              "      <td>Deret Kesederhanaan Paus Fransiskus: Arloji Ra...</td>\n",
              "      <td>04 September 2024 10:10</td>\n",
              "      <td>Jakarta, CNBC Indonesia -Paus Fransiskus menua...</td>\n",
              "      <td>https://www.cnbcindonesia.com/research/2024090...</td>\n",
              "      <td>Research</td>\n",
              "    </tr>\n",
              "    <tr>\n",
              "      <th>3</th>\n",
              "      <td>Daftar 10 Negara dengan Utang IMF Terbesar di ...</td>\n",
              "      <td>04 September 2024 09:20</td>\n",
              "      <td>Jakarta, CNBC Indonesia-Memasuki periode Septe...</td>\n",
              "      <td>https://www.cnbcindonesia.com/research/2024090...</td>\n",
              "      <td>Research</td>\n",
              "    </tr>\n",
              "    <tr>\n",
              "      <th>4</th>\n",
              "      <td>Pahami Disini! Perbedaan Pastor dan Uskup Dala...</td>\n",
              "      <td>04 September 2024 08:25</td>\n",
              "      <td>Jakarta, CNBC Indonesia -Dalam Gereja Katolik,...</td>\n",
              "      <td>https://www.cnbcindonesia.com/research/2024090...</td>\n",
              "      <td>Research</td>\n",
              "    </tr>\n",
              "  </tbody>\n",
              "</table>\n",
              "</div>\n",
              "    <div class=\"colab-df-buttons\">\n",
              "\n",
              "  <div class=\"colab-df-container\">\n",
              "    <button class=\"colab-df-convert\" onclick=\"convertToInteractive('df-181c1a40-3a06-456f-b2d8-e85f9d5936a6')\"\n",
              "            title=\"Convert this dataframe to an interactive table.\"\n",
              "            style=\"display:none;\">\n",
              "\n",
              "  <svg xmlns=\"http://www.w3.org/2000/svg\" height=\"24px\" viewBox=\"0 -960 960 960\">\n",
              "    <path d=\"M120-120v-720h720v720H120Zm60-500h600v-160H180v160Zm220 220h160v-160H400v160Zm0 220h160v-160H400v160ZM180-400h160v-160H180v160Zm440 0h160v-160H620v160ZM180-180h160v-160H180v160Zm440 0h160v-160H620v160Z\"/>\n",
              "  </svg>\n",
              "    </button>\n",
              "\n",
              "  <style>\n",
              "    .colab-df-container {\n",
              "      display:flex;\n",
              "      gap: 12px;\n",
              "    }\n",
              "\n",
              "    .colab-df-convert {\n",
              "      background-color: #E8F0FE;\n",
              "      border: none;\n",
              "      border-radius: 50%;\n",
              "      cursor: pointer;\n",
              "      display: none;\n",
              "      fill: #1967D2;\n",
              "      height: 32px;\n",
              "      padding: 0 0 0 0;\n",
              "      width: 32px;\n",
              "    }\n",
              "\n",
              "    .colab-df-convert:hover {\n",
              "      background-color: #E2EBFA;\n",
              "      box-shadow: 0px 1px 2px rgba(60, 64, 67, 0.3), 0px 1px 3px 1px rgba(60, 64, 67, 0.15);\n",
              "      fill: #174EA6;\n",
              "    }\n",
              "\n",
              "    .colab-df-buttons div {\n",
              "      margin-bottom: 4px;\n",
              "    }\n",
              "\n",
              "    [theme=dark] .colab-df-convert {\n",
              "      background-color: #3B4455;\n",
              "      fill: #D2E3FC;\n",
              "    }\n",
              "\n",
              "    [theme=dark] .colab-df-convert:hover {\n",
              "      background-color: #434B5C;\n",
              "      box-shadow: 0px 1px 3px 1px rgba(0, 0, 0, 0.15);\n",
              "      filter: drop-shadow(0px 1px 2px rgba(0, 0, 0, 0.3));\n",
              "      fill: #FFFFFF;\n",
              "    }\n",
              "  </style>\n",
              "\n",
              "    <script>\n",
              "      const buttonEl =\n",
              "        document.querySelector('#df-181c1a40-3a06-456f-b2d8-e85f9d5936a6 button.colab-df-convert');\n",
              "      buttonEl.style.display =\n",
              "        google.colab.kernel.accessAllowed ? 'block' : 'none';\n",
              "\n",
              "      async function convertToInteractive(key) {\n",
              "        const element = document.querySelector('#df-181c1a40-3a06-456f-b2d8-e85f9d5936a6');\n",
              "        const dataTable =\n",
              "          await google.colab.kernel.invokeFunction('convertToInteractive',\n",
              "                                                    [key], {});\n",
              "        if (!dataTable) return;\n",
              "\n",
              "        const docLinkHtml = 'Like what you see? Visit the ' +\n",
              "          '<a target=\"_blank\" href=https://colab.research.google.com/notebooks/data_table.ipynb>data table notebook</a>'\n",
              "          + ' to learn more about interactive tables.';\n",
              "        element.innerHTML = '';\n",
              "        dataTable['output_type'] = 'display_data';\n",
              "        await google.colab.output.renderOutput(dataTable, element);\n",
              "        const docLink = document.createElement('div');\n",
              "        docLink.innerHTML = docLinkHtml;\n",
              "        element.appendChild(docLink);\n",
              "      }\n",
              "    </script>\n",
              "  </div>\n",
              "\n",
              "\n",
              "<div id=\"df-a495b482-9dc5-479b-ba80-25509c97e67e\">\n",
              "  <button class=\"colab-df-quickchart\" onclick=\"quickchart('df-a495b482-9dc5-479b-ba80-25509c97e67e')\"\n",
              "            title=\"Suggest charts\"\n",
              "            style=\"display:none;\">\n",
              "\n",
              "<svg xmlns=\"http://www.w3.org/2000/svg\" height=\"24px\"viewBox=\"0 0 24 24\"\n",
              "     width=\"24px\">\n",
              "    <g>\n",
              "        <path d=\"M19 3H5c-1.1 0-2 .9-2 2v14c0 1.1.9 2 2 2h14c1.1 0 2-.9 2-2V5c0-1.1-.9-2-2-2zM9 17H7v-7h2v7zm4 0h-2V7h2v10zm4 0h-2v-4h2v4z\"/>\n",
              "    </g>\n",
              "</svg>\n",
              "  </button>\n",
              "\n",
              "<style>\n",
              "  .colab-df-quickchart {\n",
              "      --bg-color: #E8F0FE;\n",
              "      --fill-color: #1967D2;\n",
              "      --hover-bg-color: #E2EBFA;\n",
              "      --hover-fill-color: #174EA6;\n",
              "      --disabled-fill-color: #AAA;\n",
              "      --disabled-bg-color: #DDD;\n",
              "  }\n",
              "\n",
              "  [theme=dark] .colab-df-quickchart {\n",
              "      --bg-color: #3B4455;\n",
              "      --fill-color: #D2E3FC;\n",
              "      --hover-bg-color: #434B5C;\n",
              "      --hover-fill-color: #FFFFFF;\n",
              "      --disabled-bg-color: #3B4455;\n",
              "      --disabled-fill-color: #666;\n",
              "  }\n",
              "\n",
              "  .colab-df-quickchart {\n",
              "    background-color: var(--bg-color);\n",
              "    border: none;\n",
              "    border-radius: 50%;\n",
              "    cursor: pointer;\n",
              "    display: none;\n",
              "    fill: var(--fill-color);\n",
              "    height: 32px;\n",
              "    padding: 0;\n",
              "    width: 32px;\n",
              "  }\n",
              "\n",
              "  .colab-df-quickchart:hover {\n",
              "    background-color: var(--hover-bg-color);\n",
              "    box-shadow: 0 1px 2px rgba(60, 64, 67, 0.3), 0 1px 3px 1px rgba(60, 64, 67, 0.15);\n",
              "    fill: var(--button-hover-fill-color);\n",
              "  }\n",
              "\n",
              "  .colab-df-quickchart-complete:disabled,\n",
              "  .colab-df-quickchart-complete:disabled:hover {\n",
              "    background-color: var(--disabled-bg-color);\n",
              "    fill: var(--disabled-fill-color);\n",
              "    box-shadow: none;\n",
              "  }\n",
              "\n",
              "  .colab-df-spinner {\n",
              "    border: 2px solid var(--fill-color);\n",
              "    border-color: transparent;\n",
              "    border-bottom-color: var(--fill-color);\n",
              "    animation:\n",
              "      spin 1s steps(1) infinite;\n",
              "  }\n",
              "\n",
              "  @keyframes spin {\n",
              "    0% {\n",
              "      border-color: transparent;\n",
              "      border-bottom-color: var(--fill-color);\n",
              "      border-left-color: var(--fill-color);\n",
              "    }\n",
              "    20% {\n",
              "      border-color: transparent;\n",
              "      border-left-color: var(--fill-color);\n",
              "      border-top-color: var(--fill-color);\n",
              "    }\n",
              "    30% {\n",
              "      border-color: transparent;\n",
              "      border-left-color: var(--fill-color);\n",
              "      border-top-color: var(--fill-color);\n",
              "      border-right-color: var(--fill-color);\n",
              "    }\n",
              "    40% {\n",
              "      border-color: transparent;\n",
              "      border-right-color: var(--fill-color);\n",
              "      border-top-color: var(--fill-color);\n",
              "    }\n",
              "    60% {\n",
              "      border-color: transparent;\n",
              "      border-right-color: var(--fill-color);\n",
              "    }\n",
              "    80% {\n",
              "      border-color: transparent;\n",
              "      border-right-color: var(--fill-color);\n",
              "      border-bottom-color: var(--fill-color);\n",
              "    }\n",
              "    90% {\n",
              "      border-color: transparent;\n",
              "      border-bottom-color: var(--fill-color);\n",
              "    }\n",
              "  }\n",
              "</style>\n",
              "\n",
              "  <script>\n",
              "    async function quickchart(key) {\n",
              "      const quickchartButtonEl =\n",
              "        document.querySelector('#' + key + ' button');\n",
              "      quickchartButtonEl.disabled = true;  // To prevent multiple clicks.\n",
              "      quickchartButtonEl.classList.add('colab-df-spinner');\n",
              "      try {\n",
              "        const charts = await google.colab.kernel.invokeFunction(\n",
              "            'suggestCharts', [key], {});\n",
              "      } catch (error) {\n",
              "        console.error('Error during call to suggestCharts:', error);\n",
              "      }\n",
              "      quickchartButtonEl.classList.remove('colab-df-spinner');\n",
              "      quickchartButtonEl.classList.add('colab-df-quickchart-complete');\n",
              "    }\n",
              "    (() => {\n",
              "      let quickchartButtonEl =\n",
              "        document.querySelector('#df-a495b482-9dc5-479b-ba80-25509c97e67e button');\n",
              "      quickchartButtonEl.style.display =\n",
              "        google.colab.kernel.accessAllowed ? 'block' : 'none';\n",
              "    })();\n",
              "  </script>\n",
              "</div>\n",
              "\n",
              "    </div>\n",
              "  </div>\n"
            ],
            "application/vnd.google.colaboratory.intrinsic+json": {
              "type": "dataframe",
              "variable_name": "df",
              "summary": "{\n  \"name\": \"df\",\n  \"rows\": 400,\n  \"fields\": [\n    {\n      \"column\": \"judul\",\n      \"properties\": {\n        \"dtype\": \"string\",\n        \"num_unique_values\": 400,\n        \"samples\": [\n          \"Rahasia WhatsApp Terlihat Offline Walau Sedang Online\",\n          \"Cara Edit Foto Langsung di Feed Instagram Tanpa Aplikasi Lain, Mudah!\",\n          \"Asing Saling Sikut Berebut Masuk, RI Dapat Durian Runtuh Rp 80 Triliun\"\n        ],\n        \"semantic_type\": \"\",\n        \"description\": \"\"\n      }\n    },\n    {\n      \"column\": \"tanggal\",\n      \"properties\": {\n        \"dtype\": \"object\",\n        \"num_unique_values\": 390,\n        \"samples\": [\n          \"04 September 2024 06:00\",\n          \"01 September 2024 14:15\",\n          \"02 September 2024 08:55\"\n        ],\n        \"semantic_type\": \"\",\n        \"description\": \"\"\n      }\n    },\n    {\n      \"column\": \"isi\",\n      \"properties\": {\n        \"dtype\": \"string\",\n        \"num_unique_values\": 400,\n        \"samples\": [\n          \"Jakarta, CNBC Indonesia- WhatsApp memiliki kemampuan untuk menginformasikan penggunanya jika orang lain tengah online atau aktif di aplikasi. Misalnya tanda online yang merujuk pada pengguna tengah membuka aplikasi.\\nPengguna juga bisa membuat tengah offline pada masih menggunakan WhatsApp. Ada beberapa trik yang bisa dilakukan dengan fitur bawaan dari platform tersebut.\\nCara tersebut bisa dilakukan jika Anda sedang enggan membalas atau berinteraksi dengan orang lain. Berikut beberapa caranya:\\n1. Ubah Opsi Last Seen\\nLast Seen akan memberikan informasi waktu terakhir pengguna tengah online. Untuk mematikan opsi ini, masuk ke menu Settings > Privasi.\\nMasuk ke pilihan Who Can See My Personal Info. Klik Last Seen dan pilih Nobody.\\n\\n\\n2. Matikan Centang Biru\\nCentang biru menandakan pengguna telah melihat pesan yang dikirimkan. Untuk mematikannya, simak caranya berikut:\\n3. Sembunyikan Status\\nStatus juga bisa menandakan Anda tengah online. Atur siapa saja yang bisa melihatnya untuk terlihat tengah offline.\\nCaranya dengan masuk ke opsi tiga titik dan lanjutkan dengan klik Privasi dan Status. Berikutnya pilih siapa saja Status bisa dibagikan, dari 'Kontak Saya', 'Kontak Saya Kecuali...', dan 'Hanya Bagikan Dengan...'.\\n4. Buat Status\\nAnda dapat membuat Status agar tidak bisa diganggu selama waktu tertentu. Caranya dengan membuka menu Settings > nama profil WhatsApp > About.\\n5. Matikan Background Data\\nMatikan background data untuk berhenti menerima pesan dan menghentikan WhatsApp tetap bekerja. Namun ini hanya bisa dilakukan di Android saja.\\nCaranya dengan masuk ke menu Settings. Lanjutkan dengan membuka opsi data dan pilih matikan Background Data.\\n\\n\\nFitur bernama Chat Lock telah tersedia di HP Android dan iPhone. Chat kontak yang dipilih akan dipisahkan dan masuk dalam folder Obrolan Terkunci.\\nJika diaktifkan, Anda perlu menggunakan autentikasi perangkat untuk membaca atau mengirim pesan pada kontak tersebut. Autentikasi tersebut mulai dari password HP, Face ID, sidik jari, atau dengan kode rahasia. Semuanya bisa pengguna atur terlebih dahulu.\\nBukan hanya chat yang tersembunyi, notifikasi dari akun yang masuk dalam Chat Lock juga tidak akan terlihat. Saat pesan masuk, notifikasi hanya akan ditampilkan sebagai 'WhatsApp: 1 pesan baru'.\\nSebagai catatan, chat lock hanya berfungsi pada perangkat yang diatur aja. Jadi saat mengaktifkan di ponsel maka hanya akan dikunci di sana, namun tidak terjadi saat WhatsApp dibuka di perangkat lain seperti WhatsApp.\\nBerikut cara mengaktifkan Chat Lock, dikutip dari blog resmi WhatsApp:\\nSetelah Chat Lock aktif, maka Anda dapat memilih menguncinya dengan kode rahasia. Ini berbeda dengan password yang ada pada ponsel.\\nUntuk tambahan lapisan privasi, Anda dapat memilih menyembunyikan folder Obrolan Terkunci jadi tidak muncul pada daftar chat. Folder baru akan muncul saat mengetikkan kode rahasia ke dalam boks Pencarian.\\nBerikut cara membuat kode rahasia:\",\n          \"Jakarta, CNBC Indonesia -Instagram kembali meningkatkan pengalaman pengguna dalam menggunakan aplikasi. Kali ini Instagram menghadirkan fitur baru yang bisa mengedit foto di dalam aplikasi sebelum di unggah ke feed.\\nFitur ini memungkinkan pengguna menambahkan teks ke foto langsung, yang berarti pengguna tidak perlu mengedit foto di aplikasi terpisah hanya untuk menambahkan teks.Supaya lebih estetik, fitur edit juga dapat melapisi foto lain di atas foto sebagai stiker. Saat mengetuk foto berlapis tersebut, pengguna dapat mengubah bentuknya dari persegi panjang menjadi persegi, lingkaran, hati, atau bintang.Cara edit foto di feed Instagram cukup mudah. Berikut selengkapnya:- Pertama pilih foto yang mau di posting- Setelah itu cukup ketuk tombol teks untuk menambahkan beberapa teks- Kamu juga bisa ketuk tombol galeri di sudut kanan atas untuk memberikan gambar tambahkan sebagai stiker- Ketuk stiker untuk mengubah bentuknya, kamu bisa memilih antara persegi panjang, persegi, lingkaran, hati, atau bintang.Instagram juga memberikan pembaruan pada Reels dan Stories. Peningkatan tersebut berupa font baru pada text, serta efek dan animasi yang dapat pengguna tambahkan ke teks untuk membuatnya lebih menarik.Pembaruan ini mengikuti serangkaian perbaikan produk Instagram terkini, termasuk pengujian fitur seperti Snap Map, tambahan lagu ke profil, dan kemampuan untuk berbagi 20 slide dalam satu postingan feed Instagram.\",\n          \"Jakarta, CNBC Indonesia -Arus dana asing masih kencang masuk ke pasar keuangan domestik. Derasnya aliran dana asing terjadi di tengah ekspektasi pemangkasan suku bunga bank sentral Amerika Serikat (The Fed) yang semakinbold.\\nBank Indonesia (BI) merilis data transaksi 26-29 Agustus 2024, investor asing tercatat beli neto Rp6,21 triliun terdiri dari beli neto Rp3,89 triliun di pasar saham, Rp1,56 triliun di Sekuritas Rupiah Bank Indonesia (SRBI), dan Rp0,76 triliun di pasar Surat Berharga Negara (SBN).\\nTotalnet foreignbuynyaris menyentuh Rp80 triliun dalam 10 pekan terakhir tentu memberikan angin segar bagi Indonesia.\\nLebih lanjut, berdasarkan data setelmen sampai dengan 29 Agustus 2024, investor asing tercatat beli neto Rp187,66 triliun di SRBI, Rp12,79 triliun di pasar saham, dan Rp9,20 triliun di pasar SBN.\\n\\nSurvei CME FedWatch Tool menunjukkan ekspektasi pemangkasan suku bunga The Fed yang semakin besar pada bulan ini. Pelaku pasar meyakini 100% The Fed akan memangkas suku bunganya pada September 2024 di tengah berbagai data yang cenderung semakin mendingin.\\nInflasi Personal Consumption Expenditure (PCE) periode Juli 2024 yang dirilis Jumat lalu (30/8/2024) tercatat tumbuh 2,5% year on year/yoy, sama seperti bulan sebelumnya dan lebih baik dari ekspektasi pasar di 2,6%. Sementara dalam basis bulanan PCE price Index tumbuh 0,2%, sesuai ekspektasi pasar.\\nSelain itu, laju pengangguran di AS pun mengalami peningkatan dari 4,1% menjadi 4,3% pada Juli 2024, tertinggi sejak Oktober 2021 atau tiga tahun terakhir dan berada di atas ekspektasi pasar yang tetap sebesar 4,1%.\\nPelaku pasar saat ini melihat prospek pemangkasan suku bunga pada bulan depan sudah semakin dekat. Hal ini masih bisa menjadi booster bagi pasar keuangan domestik lantaran penurunan suku bunga AS akan memacu dana asing kembali masuk keemerging market, termasuk Indonesia.\\nSerbuan investor asing ke domestik juga tidak hanya terlihat pada instrumen investasi yang menawarkan imbal hasil tinggi yang pasti, namun pasar saham Indonesia pun menjadi incaran investor asing.\\nSepanjang pekan kemarin, investor asing tercatat beli bersih sebesar Rp15,09 triliun dengan rincianforeign buysebesar Rp141,08 triliun danforeign sellsebanyak Rp125,98 triliun.\\nHal ini membuat IHSG membentuk all-time-high (ATH) dengan berada di level 7.670,7 pada penutupan Jumat pekan lalu.\\nUntuk diketahui, tercatat IHSG menguat 1,68% dalam sepekan dan melesat 5,72% di sepanjang Agustus 2024.\\n\\nCNBC INDONESIA RESEARCH\\n[email\\u00a0protected]\"\n        ],\n        \"semantic_type\": \"\",\n        \"description\": \"\"\n      }\n    },\n    {\n      \"column\": \"url\",\n      \"properties\": {\n        \"dtype\": \"string\",\n        \"num_unique_values\": 400,\n        \"samples\": [\n          \"https://www.cnbcindonesia.com/tech/20240904060443-37-568900/rahasia-whatsapp-terlihat-offline-walau-sedang-online\",\n          \"https://www.cnbcindonesia.com/tech/20240830143443-37-567816/cara-edit-foto-langsung-di-feed-instagram-tanpa-aplikasi-lain-mudah\",\n          \"https://www.cnbcindonesia.com/research/20240902061531-128-568228/asing-saling-sikut-berebut-masuk-ri-dapat-durian-runtuh-rp-80-triliun\"\n        ],\n        \"semantic_type\": \"\",\n        \"description\": \"\"\n      }\n    },\n    {\n      \"column\": \"kategori\",\n      \"properties\": {\n        \"dtype\": \"category\",\n        \"num_unique_values\": 4,\n        \"samples\": [\n          \"News\",\n          \"Market\",\n          \"Research\"\n        ],\n        \"semantic_type\": \"\",\n        \"description\": \"\"\n      }\n    }\n  ]\n}"
            }
          },
          "metadata": {},
          "execution_count": 24
        }
      ]
    },
    {
      "cell_type": "markdown",
      "source": [
        "## Kesimpulan\n",
        "\n",
        "Dengan menggunakan requests, BeautifulSoup, dan Pandas, kita dapat melakukan web scraping untuk mengumpulkan data dari berbagai halaman web. Ini memungkinkan kita untuk menganalisis data dari website dengan lebih efisien."
      ],
      "metadata": {
        "id": "SqYfCWHQe8S5"
      }
    }
  ]
}