{
 "cells": [
  {
   "cell_type": "markdown",
   "id": "3ba212ae-961a-484f-b38e-bf97969ef5c5",
   "metadata": {
    "id": "3ba212ae-961a-484f-b38e-bf97969ef5c5"
   },
   "source": [
    "# Modelling Vector Space Model"
   ]
  },
  {
   "cell_type": "markdown",
   "id": "52b432d2-558c-4185-9571-31fc5487f63a",
   "metadata": {
    "id": "52b432d2-558c-4185-9571-31fc5487f63a"
   },
   "source": [
    "## Apa itu Vector Space Model"
   ]
  },
  {
   "cell_type": "markdown",
   "id": "722e945d-3412-4f30-a7a8-417a8675d8e8",
   "metadata": {
    "id": "722e945d-3412-4f30-a7a8-417a8675d8e8"
   },
   "source": [
    "Vector Space Model (VSM) adalah model matematika yang digunakan untuk merepresentasikan dokumen teks sebagai vektor dari identifikator (seperti kata-kata atau token). Model ini adalah bagian fundamental dalam sistem informasi pencarian dan teknik pemrosesan bahasa alami untuk menilai dan mengurutkan dokumen berdasarkan relevansinya terhadap suatu query."
   ]
  },
  {
   "cell_type": "markdown",
   "id": "a3f80304-d61f-46ea-a1ba-9f8e5b442191",
   "metadata": {
    "id": "a3f80304-d61f-46ea-a1ba-9f8e5b442191"
   },
   "source": [
    "### Konsep Dasar"
   ]
  },
  {
   "cell_type": "markdown",
   "id": "b4673cd2-0e3f-489e-8f5a-6b827b9feedb",
   "metadata": {
    "id": "b4673cd2-0e3f-489e-8f5a-6b827b9feedb"
   },
   "source": [
    "Dalam VSM, setiap dimensi vektor mewakili sebuah term (kata) yang unik dalam dokumen. Nilai dalam vektor ini bisa merupakan frekuensi kemunculan kata, atau bobot yang lebih kompleks seperti TF-IDF, yang menggabungkan frekuensi kata dalam dokumen (TF) dan kebalikan frekuensi dokumen (IDF). Setiap dokumen direpresentasikan sebagai titik dalam ruang vektor ini."
   ]
  },
  {
   "cell_type": "markdown",
   "id": "68d4cfdc-c0b6-4466-94b2-a87c0204b50e",
   "metadata": {
    "id": "68d4cfdc-c0b6-4466-94b2-a87c0204b50e"
   },
   "source": [
    "### Kegunaan"
   ]
  },
  {
   "cell_type": "markdown",
   "id": "cd5f92ec-6bb7-4089-807f-3847c79fe69d",
   "metadata": {
    "id": "cd5f92ec-6bb7-4089-807f-3847c79fe69d"
   },
   "source": [
    "Model ini sangat berguna dalam sistem pencarian dan pengambilan informasi karena memungkinkan operasi seperti pencarian kecocokan dan perankingan dilakukan secara matematis. VSM memfasilitasi pencocokan query pencarian dengan koleksi dokumen melalui perhitungan kedekatan vektor, menggunakan teknik seperti cosine similarity."
   ]
  },
  {
   "cell_type": "markdown",
   "id": "c96786b4-697a-4a85-9284-af3ca696893e",
   "metadata": {
    "id": "c96786b4-697a-4a85-9284-af3ca696893e"
   },
   "source": [
    "### Keunggulan"
   ]
  },
  {
   "cell_type": "markdown",
   "id": "cb653836-7280-4c87-93b7-ca7f7a2528e6",
   "metadata": {
    "id": "cb653836-7280-4c87-93b7-ca7f7a2528e6"
   },
   "source": [
    "- **Flexibilitas**: VSM memungkinkan penyertaan berbagai metode penghitungan bobot selain frekuensi term, seperti TF-IDF, yang meningkatkan efektivitas model dalam menghadapi isu seperti kata-kata yang sangat umum yang muncul di banyak dokumen.\n",
    "- **Efisiensi**: Meskipun representasi vektor dapat menjadi sangat besar, teknik seperti sparse matrix operations memungkinkan pemrosesan yang efisien.\n",
    "- **Kemampuan Komparatif**: Dengan merepresentasikan dokumen sebagai vektor, mudah untuk mengukur kesamaan antar dokumen."
   ]
  },
  {
   "cell_type": "markdown",
   "id": "5052984f-c71f-4a09-9e30-13c45032b475",
   "metadata": {
    "id": "5052984f-c71f-4a09-9e30-13c45032b475"
   },
   "source": [
    "### Keterbatasan"
   ]
  },
  {
   "cell_type": "markdown",
   "id": "4a759d5f-a50d-4781-bb6e-33cf3e6b0813",
   "metadata": {
    "id": "4a759d5f-a50d-4781-bb6e-33cf3e6b0813"
   },
   "source": [
    "- **Semantik**: VSM tidak memperhitungkan konteks dan makna semantik dari kata-kata, yang bisa mengakibatkan dokumen yang sebenarnya berkaitan tidak dikenali sebagai relevan.\n",
    "- **Sinonim dan Polisemi**: Kata-kata dengan makna ganda atau sinonim mungkin tidak diproses dengan efektif, karena model ini berfokus pada kata-kata sebagai entitas independen tanpa mempertimbangkan hubungan semantiknya."
   ]
  },
  {
   "cell_type": "markdown",
   "id": "cfea633e-438b-4411-9fd3-8df2c0a8021c",
   "metadata": {
    "id": "cfea633e-438b-4411-9fd3-8df2c0a8021c"
   },
   "source": [
    "## Konsep TF-IDF"
   ]
  },
  {
   "cell_type": "markdown",
   "id": "ad26a08e-6ff0-469c-bbec-759abd0ccd37",
   "metadata": {
    "id": "ad26a08e-6ff0-469c-bbec-759abd0ccd37"
   },
   "source": [
    "Metode  Term  Frequency-Inverse Document Frequency (TF-IDF) adalah salah satu  teknik  representasi  teks yang mengonversi kata-kata menjadi  nilai  numerik  berdasarkan  seberapa  sering kata tersebut  muncul  dalam  teks  serta  seberapa  umumnya kata tersebut  dalam  kumpulan  dokumen yang tersedia. Bobot  numerik yang dihasilkan oleh metode  ini  sering  disebut  sebagai  bobot TF-IDF."
   ]
  },
  {
   "cell_type": "markdown",
   "id": "71beef28-5cfe-4b01-9966-4c94165d3c9b",
   "metadata": {
    "id": "71beef28-5cfe-4b01-9966-4c94165d3c9b"
   },
   "source": [
    "### Term Frequency (TF)"
   ]
  },
  {
   "cell_type": "markdown",
   "id": "caf7b398-77ba-4207-9a21-18f601756fe1",
   "metadata": {
    "id": "caf7b398-77ba-4207-9a21-18f601756fe1"
   },
   "source": [
    "**Term Frequency**: Dalam  dokumen d, frekuensi  merepresentasikan  jumlah  kemunculan kata t. Oleh karena  itu, kita  dapat  melihat  bahwa  frekuensi  menjadi  lebih  relevan  ketika  sebuah kata muncul di dalam  teks, yang mana hal  ini  rasional. Karena urutan  istilah  tidak  signifikan, kita  dapat  menggunakan  vektor  untuk  menggambarkan  teks  dalam  kantong model istilah. Untuk  setiap  istilah  tertentu  dalam  teks, ada  sebuah  entri  dengan  nilai yang merupakan  frekuensi  istilah. Bobot  sebuah  istilah yang muncul  dalam  sebuah  dokumen  secara  sederhana  sebanding  dengan  frekuensi  istilah  tersebut\n",
    "\n",
    "\n",
    "$$\n",
    "    tf(t, d) = \\frac{\\text{jumalah } t \\text{ dalam } d}{\\text{jumlah kata dalam } d}\n",
    "$$\n",
    "\n",
    "\n",
    "\n",
    "**Dokument Frequency**: mengukur  seberapa  umumnya  suatu kata terjadi di seluruh  koleksi  dokumen. Konsep  ini  mirip  dengan Term Frequency (TF), namun  perbedaannya  terletak pada bagaimana  kita  menghitung  kemunculan  suatu kata. Di TF, kita  melihat  seberapa  sering kata muncul  dalam  satu  dokumen  tertentu, sedangkan di DF, kita  melihat  berapa  banyak  dokumen yang mengandung kata tersebut di dalam  keseluruhan  koleksi  dokumen. Jadi, Document Frequency (DF) adalah  jumlah  dokumen yang memuat  suatu kata.\n",
    "\n",
    "$$\n",
    "    df(t) = \\text{kemunculan } t \\text{ dalam } dokumen\n",
    "$$\n"
   ]
  },
  {
   "cell_type": "markdown",
   "id": "5b485854-a92c-471d-80d2-1f2da7440d19",
   "metadata": {
    "id": "5b485854-a92c-471d-80d2-1f2da7440d19"
   },
   "source": [
    "### Inverse Document Frequency (IDF)"
   ]
  },
  {
   "cell_type": "markdown",
   "id": "a871eb4d-7059-4922-b2ca-863cd7acdcad",
   "metadata": {
    "id": "a871eb4d-7059-4922-b2ca-863cd7acdcad"
   },
   "source": [
    "**Inverse Document Frequency (IDF)**: mengevaluasi tingkat relevansi suatu kata dalam konteks pencarian. Ketika mencari informasi, tujuan utama adalah menemukan dokumen yang paling sesuai dengan permintaan pengguna. Mengingat bahwa Term Frequency (TF) memperlakukan semua kata dengan nilai yang sama, frekuensi kata itu sendiri tidak cukup untuk menilai  bobot istilah dalam sebuah dokumen. IDF pertama-tama mencari frekuensi kemunculan dokumen untuk suatu kata dengan menghitung jumlah dokumen yang mengandung kata tersebut.\n",
    "\n",
    "$$\n",
    "    df(t) = N(t)\n",
    "$$\n",
    "\n",
    "$$\n",
    "    df(t) = \\text{Frekuensi dokumen dari suatu istilah t}\n",
    "$$\n",
    "\n",
    "$$\n",
    "    N(t) = \\text{Jumlah } dokumen \\text{ yang mengandung istilah } t\n",
    "$$"
   ]
  },
  {
   "cell_type": "markdown",
   "id": "a70e1c7c-ac5e-402e-8f6e-727c0f0d950f",
   "metadata": {
    "id": "a70e1c7c-ac5e-402e-8f6e-727c0f0d950f"
   },
   "source": [
    "### TF-IDF"
   ]
  },
  {
   "cell_type": "markdown",
   "id": "05dea39c-7929-49c9-84f2-149f1080638b",
   "metadata": {
    "id": "05dea39c-7929-49c9-84f2-149f1080638b"
   },
   "source": [
    "Term Frequency adalah jumlah kemunculan suatu term dalam satu dokumen saja, sedangkan Document Frequency adalah jumlah dokumen terpisah tempat istilah tersebut muncul. Namun, frekuensi ini bergantung pada seluruh korpus. IDF merupakan jumlah dokumen dalam korpus yang dipisahkan oleh frekuensi teks. Dengan kata lain, IDF mengukur seberapa umum atau langka suatu kata dalam seluruh koleksi dokumen.\n",
    "\n",
    "$$\n",
    "    idf(t) = \\frac{N}{df(t)}=\\frac{N}{N(t)}\n",
    "$$\n",
    "\n",
    "$$\n",
    "    idf(t) = log_2 \\frac{N}{df(t)}\n",
    "$$\n",
    "\n",
    "Maka dari itu rumus dari TF * IDF adalah sebagai berikut:\n",
    "\n",
    "$$\n",
    "    tf-idf(t, d) = tf(t, d) * idf(t)\n",
    "$$"
   ]
  },
  {
   "cell_type": "markdown",
   "id": "7c8f19a1-d93e-4ccb-82e4-9c553895c73a",
   "metadata": {
    "id": "7c8f19a1-d93e-4ccb-82e4-9c553895c73a"
   },
   "source": [
    "## Modelling SVM"
   ]
  },
  {
   "cell_type": "markdown",
   "id": "dea207d6-dd39-4b9f-bfd6-aa759ddf3a0d",
   "metadata": {
    "id": "dea207d6-dd39-4b9f-bfd6-aa759ddf3a0d"
   },
   "source": [
    "### Prepocessing"
   ]
  },
  {
   "cell_type": "code",
   "execution_count": 1,
   "id": "GdzC7vb4x-h9",
   "metadata": {
    "colab": {
     "base_uri": "https://localhost:8080/"
    },
    "id": "GdzC7vb4x-h9",
    "outputId": "5ccde4e0-afa7-4545-f267-84b6bbe608d5"
   },
   "outputs": [
    {
     "name": "stdout",
     "output_type": "stream",
     "text": [
      "Defaulting to user installation because normal site-packages is not writeable\n",
      "Requirement already satisfied: Sastrawi in c:\\program files\\python311\\lib\\site-packages (1.0.1)\n",
      "Requirement already satisfied: nltk in c:\\program files\\python311\\lib\\site-packages (3.9.1)\n",
      "Requirement already satisfied: click in c:\\program files\\python311\\lib\\site-packages (from nltk) (8.1.7)\n",
      "Requirement already satisfied: joblib in c:\\program files\\python311\\lib\\site-packages (from nltk) (1.4.2)\n",
      "Requirement already satisfied: regex>=2021.8.3 in c:\\program files\\python311\\lib\\site-packages (from nltk) (2024.9.11)\n",
      "Requirement already satisfied: tqdm in c:\\program files\\python311\\lib\\site-packages (from nltk) (4.66.5)\n",
      "Requirement already satisfied: colorama in c:\\program files\\python311\\lib\\site-packages (from click->nltk) (0.4.6)\n"
     ]
    }
   ],
   "source": [
    "!pip install Sastrawi nltk"
   ]
  },
  {
   "cell_type": "code",
   "execution_count": 2,
   "id": "11ea8d69-4555-412b-9954-08012a648457",
   "metadata": {
    "id": "11ea8d69-4555-412b-9954-08012a648457"
   },
   "outputs": [],
   "source": [
    "# import library yang dibutuhkan\n",
    "import pandas as pd\n",
    "import re\n",
    "from tqdm import tqdm\n",
    "import nltk\n",
    "from Sastrawi.Stemmer.StemmerFactory import StemmerFactory\n",
    "from sklearn.model_selection import train_test_split\n",
    "from sklearn.feature_extraction.text import TfidfVectorizer, CountVectorizer\n",
    "from nltk.corpus import stopwords\n",
    "import string"
   ]
  },
  {
   "cell_type": "code",
   "execution_count": 3,
   "id": "ti5m_3HkyfTM",
   "metadata": {
    "colab": {
     "base_uri": "https://localhost:8080/"
    },
    "id": "ti5m_3HkyfTM",
    "outputId": "dabf679c-a4f1-470d-ccbd-67d38734d3f6"
   },
   "outputs": [
    {
     "name": "stderr",
     "output_type": "stream",
     "text": [
      "[nltk_data] Downloading package stopwords to\n",
      "[nltk_data]     C:\\Users\\akhyar\\AppData\\Roaming\\nltk_data...\n",
      "[nltk_data]   Package stopwords is already up-to-date!\n"
     ]
    },
    {
     "data": {
      "text/plain": [
       "True"
      ]
     },
     "execution_count": 3,
     "metadata": {},
     "output_type": "execute_result"
    }
   ],
   "source": [
    "nltk.download('stopwords')"
   ]
  },
  {
   "cell_type": "markdown",
   "id": "2d9a45f2-23c5-4ea0-8300-3ea2acf75c65",
   "metadata": {
    "id": "2d9a45f2-23c5-4ea0-8300-3ea2acf75c65"
   },
   "source": [
    "Data yang sebelumnya sudah discrapping pada [tugas 1](https://rrayhka.github.io/pencarian-penambangan-web/tugas-1-crawling.html#convert-data-ke-dalam-csv) diimport untuk dijadikan VSM"
   ]
  },
  {
   "cell_type": "code",
   "execution_count": 4,
   "id": "f4007f0d-6bba-4436-8d9a-cb822d8ee012",
   "metadata": {
    "id": "f4007f0d-6bba-4436-8d9a-cb822d8ee012"
   },
   "outputs": [],
   "source": [
    "df = pd.read_csv(\"data-artikel-cnbc.csv\")"
   ]
  },
  {
   "cell_type": "code",
   "execution_count": 5,
   "id": "82c44ab6-6096-47f4-870a-515166173954",
   "metadata": {
    "colab": {
     "base_uri": "https://localhost:8080/",
     "height": 293
    },
    "id": "82c44ab6-6096-47f4-870a-515166173954",
    "outputId": "097729c6-e1b8-419a-d94f-7edc5c415a99"
   },
   "outputs": [
    {
     "data": {
      "text/html": [
       "<div>\n",
       "<style scoped>\n",
       "    .dataframe tbody tr th:only-of-type {\n",
       "        vertical-align: middle;\n",
       "    }\n",
       "\n",
       "    .dataframe tbody tr th {\n",
       "        vertical-align: top;\n",
       "    }\n",
       "\n",
       "    .dataframe thead th {\n",
       "        text-align: right;\n",
       "    }\n",
       "</style>\n",
       "<table border=\"1\" class=\"dataframe\">\n",
       "  <thead>\n",
       "    <tr style=\"text-align: right;\">\n",
       "      <th></th>\n",
       "      <th>judul</th>\n",
       "      <th>tanggal</th>\n",
       "      <th>isi</th>\n",
       "      <th>url</th>\n",
       "      <th>kategori</th>\n",
       "    </tr>\n",
       "  </thead>\n",
       "  <tbody>\n",
       "    <tr>\n",
       "      <th>0</th>\n",
       "      <td>Bukan Kaleng-kaleng! Nilai Skuad Timnas Indone...</td>\n",
       "      <td>09 September 2024 19:30</td>\n",
       "      <td>Jakarta, CNBC Indonesia -Kedatangan pemain-pem...</td>\n",
       "      <td>https://www.cnbcindonesia.com/research/2024090...</td>\n",
       "      <td>Research</td>\n",
       "    </tr>\n",
       "    <tr>\n",
       "      <th>1</th>\n",
       "      <td>Aset Bank Mandiri Tembus Rp 2.200 T, Paling Ju...</td>\n",
       "      <td>09 September 2024 19:05</td>\n",
       "      <td>Jakarta, CNBC Indonesia -Sepanjang paruh perta...</td>\n",
       "      <td>https://www.cnbcindonesia.com/research/2024090...</td>\n",
       "      <td>Research</td>\n",
       "    </tr>\n",
       "    <tr>\n",
       "      <th>2</th>\n",
       "      <td>Emas Meredup Saat Suku Bunga The Fed Mau Turun...</td>\n",
       "      <td>09 September 2024 18:10</td>\n",
       "      <td>Jakarta,CNBC Indonesia -Harga emas dunia melem...</td>\n",
       "      <td>https://www.cnbcindonesia.com/research/2024090...</td>\n",
       "      <td>Research</td>\n",
       "    </tr>\n",
       "    <tr>\n",
       "      <th>3</th>\n",
       "      <td>Tetangga RI Dihantam 'Bencana' Iklim, Harga Ba...</td>\n",
       "      <td>09 September 2024 15:55</td>\n",
       "      <td>Jakarta, CNBC Indonesia -Indeks Harga Konsumen...</td>\n",
       "      <td>https://www.cnbcindonesia.com/research/2024090...</td>\n",
       "      <td>Research</td>\n",
       "    </tr>\n",
       "    <tr>\n",
       "      <th>4</th>\n",
       "      <td>Tantama Hingga Perwira, Ini Urutan Lengkap Pan...</td>\n",
       "      <td>09 September 2024 14:35</td>\n",
       "      <td>Jakarta, CNBC Indonesia-Tentara Nasional Indon...</td>\n",
       "      <td>https://www.cnbcindonesia.com/research/2024090...</td>\n",
       "      <td>Research</td>\n",
       "    </tr>\n",
       "  </tbody>\n",
       "</table>\n",
       "</div>"
      ],
      "text/plain": [
       "                                               judul                  tanggal  \\\n",
       "0  Bukan Kaleng-kaleng! Nilai Skuad Timnas Indone...  09 September 2024 19:30   \n",
       "1  Aset Bank Mandiri Tembus Rp 2.200 T, Paling Ju...  09 September 2024 19:05   \n",
       "2  Emas Meredup Saat Suku Bunga The Fed Mau Turun...  09 September 2024 18:10   \n",
       "3  Tetangga RI Dihantam 'Bencana' Iklim, Harga Ba...  09 September 2024 15:55   \n",
       "4  Tantama Hingga Perwira, Ini Urutan Lengkap Pan...  09 September 2024 14:35   \n",
       "\n",
       "                                                 isi  \\\n",
       "0  Jakarta, CNBC Indonesia -Kedatangan pemain-pem...   \n",
       "1  Jakarta, CNBC Indonesia -Sepanjang paruh perta...   \n",
       "2  Jakarta,CNBC Indonesia -Harga emas dunia melem...   \n",
       "3  Jakarta, CNBC Indonesia -Indeks Harga Konsumen...   \n",
       "4  Jakarta, CNBC Indonesia-Tentara Nasional Indon...   \n",
       "\n",
       "                                                 url  kategori  \n",
       "0  https://www.cnbcindonesia.com/research/2024090...  Research  \n",
       "1  https://www.cnbcindonesia.com/research/2024090...  Research  \n",
       "2  https://www.cnbcindonesia.com/research/2024090...  Research  \n",
       "3  https://www.cnbcindonesia.com/research/2024090...  Research  \n",
       "4  https://www.cnbcindonesia.com/research/2024090...  Research  "
      ]
     },
     "execution_count": 5,
     "metadata": {},
     "output_type": "execute_result"
    }
   ],
   "source": [
    "df.head()"
   ]
  },
  {
   "cell_type": "code",
   "execution_count": 6,
   "id": "5bcd779f-a60a-4957-b864-32be6ce2d097",
   "metadata": {
    "colab": {
     "base_uri": "https://localhost:8080/",
     "height": 206
    },
    "id": "5bcd779f-a60a-4957-b864-32be6ce2d097",
    "outputId": "924a86ca-110c-4e46-d058-249affe18919"
   },
   "outputs": [
    {
     "data": {
      "text/html": [
       "<div>\n",
       "<style scoped>\n",
       "    .dataframe tbody tr th:only-of-type {\n",
       "        vertical-align: middle;\n",
       "    }\n",
       "\n",
       "    .dataframe tbody tr th {\n",
       "        vertical-align: top;\n",
       "    }\n",
       "\n",
       "    .dataframe thead th {\n",
       "        text-align: right;\n",
       "    }\n",
       "</style>\n",
       "<table border=\"1\" class=\"dataframe\">\n",
       "  <thead>\n",
       "    <tr style=\"text-align: right;\">\n",
       "      <th></th>\n",
       "      <th>isi</th>\n",
       "      <th>kategori</th>\n",
       "    </tr>\n",
       "  </thead>\n",
       "  <tbody>\n",
       "    <tr>\n",
       "      <th>0</th>\n",
       "      <td>Jakarta, CNBC Indonesia -Kedatangan pemain-pem...</td>\n",
       "      <td>Research</td>\n",
       "    </tr>\n",
       "    <tr>\n",
       "      <th>1</th>\n",
       "      <td>Jakarta, CNBC Indonesia -Sepanjang paruh perta...</td>\n",
       "      <td>Research</td>\n",
       "    </tr>\n",
       "    <tr>\n",
       "      <th>2</th>\n",
       "      <td>Jakarta,CNBC Indonesia -Harga emas dunia melem...</td>\n",
       "      <td>Research</td>\n",
       "    </tr>\n",
       "    <tr>\n",
       "      <th>3</th>\n",
       "      <td>Jakarta, CNBC Indonesia -Indeks Harga Konsumen...</td>\n",
       "      <td>Research</td>\n",
       "    </tr>\n",
       "    <tr>\n",
       "      <th>4</th>\n",
       "      <td>Jakarta, CNBC Indonesia-Tentara Nasional Indon...</td>\n",
       "      <td>Research</td>\n",
       "    </tr>\n",
       "  </tbody>\n",
       "</table>\n",
       "</div>"
      ],
      "text/plain": [
       "                                                 isi  kategori\n",
       "0  Jakarta, CNBC Indonesia -Kedatangan pemain-pem...  Research\n",
       "1  Jakarta, CNBC Indonesia -Sepanjang paruh perta...  Research\n",
       "2  Jakarta,CNBC Indonesia -Harga emas dunia melem...  Research\n",
       "3  Jakarta, CNBC Indonesia -Indeks Harga Konsumen...  Research\n",
       "4  Jakarta, CNBC Indonesia-Tentara Nasional Indon...  Research"
      ]
     },
     "execution_count": 6,
     "metadata": {},
     "output_type": "execute_result"
    }
   ],
   "source": [
    "# hanya memilih kolom judul, isi, dan kategori\n",
    "df = df[['isi','kategori']]\n",
    "df.head()"
   ]
  },
  {
   "cell_type": "code",
   "execution_count": 7,
   "id": "638fa620-4b0f-4b4f-9b82-7837c8e5a05e",
   "metadata": {
    "id": "638fa620-4b0f-4b4f-9b82-7837c8e5a05e"
   },
   "outputs": [],
   "source": [
    "# Filter data untuk kategori \"Research\" dan \"News\" masing-masing diambil 50 berita\n",
    "research = df[df[\"kategori\"] == \"Research\"].sample(n=50, random_state=42)\n",
    "news = df[df[\"kategori\"] == \"News\"].sample(n=50, random_state=42)"
   ]
  },
  {
   "cell_type": "code",
   "execution_count": 8,
   "id": "bb4e7672-ce4c-481c-97ee-2fd121c2bc97",
   "metadata": {
    "id": "bb4e7672-ce4c-481c-97ee-2fd121c2bc97"
   },
   "outputs": [],
   "source": [
    "# Gabungkan keduanya\n",
    "data = pd.concat([research, news], ignore_index=True)"
   ]
  },
  {
   "cell_type": "code",
   "execution_count": 9,
   "id": "6030e6d5-325d-4da3-9321-014164040ac9",
   "metadata": {
    "colab": {
     "base_uri": "https://localhost:8080/"
    },
    "id": "6030e6d5-325d-4da3-9321-014164040ac9",
    "outputId": "61e22483-87c7-413b-89b2-3ed191f3128f"
   },
   "outputs": [
    {
     "name": "stdout",
     "output_type": "stream",
     "text": [
      "<class 'pandas.core.frame.DataFrame'>\n",
      "RangeIndex: 100 entries, 0 to 99\n",
      "Data columns (total 2 columns):\n",
      " #   Column    Non-Null Count  Dtype \n",
      "---  ------    --------------  ----- \n",
      " 0   isi       100 non-null    object\n",
      " 1   kategori  100 non-null    object\n",
      "dtypes: object(2)\n",
      "memory usage: 1.7+ KB\n"
     ]
    }
   ],
   "source": [
    "data.info()"
   ]
  },
  {
   "cell_type": "code",
   "execution_count": 10,
   "id": "651978f8-4ac1-4eb1-a7d8-ec0181f9b227",
   "metadata": {
    "colab": {
     "base_uri": "https://localhost:8080/",
     "height": 206
    },
    "id": "651978f8-4ac1-4eb1-a7d8-ec0181f9b227",
    "outputId": "53eaf9de-a214-40cc-f505-3e4b1904a750"
   },
   "outputs": [
    {
     "data": {
      "text/html": [
       "<div>\n",
       "<style scoped>\n",
       "    .dataframe tbody tr th:only-of-type {\n",
       "        vertical-align: middle;\n",
       "    }\n",
       "\n",
       "    .dataframe tbody tr th {\n",
       "        vertical-align: top;\n",
       "    }\n",
       "\n",
       "    .dataframe thead th {\n",
       "        text-align: right;\n",
       "    }\n",
       "</style>\n",
       "<table border=\"1\" class=\"dataframe\">\n",
       "  <thead>\n",
       "    <tr style=\"text-align: right;\">\n",
       "      <th></th>\n",
       "      <th>isi</th>\n",
       "      <th>kategori</th>\n",
       "    </tr>\n",
       "  </thead>\n",
       "  <tbody>\n",
       "    <tr>\n",
       "      <th>0</th>\n",
       "      <td>Jakarta, CNBC Indonesia -Sejumlah agenda dan e...</td>\n",
       "      <td>Research</td>\n",
       "    </tr>\n",
       "    <tr>\n",
       "      <th>1</th>\n",
       "      <td>Jakarta, CNBC Indonesia-Memasuki September 202...</td>\n",
       "      <td>Research</td>\n",
       "    </tr>\n",
       "    <tr>\n",
       "      <th>2</th>\n",
       "      <td>Jakarta, CNBC Indonesia- Gempamegathrusthingga...</td>\n",
       "      <td>Research</td>\n",
       "    </tr>\n",
       "    <tr>\n",
       "      <th>3</th>\n",
       "      <td>Jakarta,CNBC Indonesia-Gaharu, juga dikenal se...</td>\n",
       "      <td>Research</td>\n",
       "    </tr>\n",
       "    <tr>\n",
       "      <th>4</th>\n",
       "      <td>Jakarta, CNBC Indonesia -Dalam ajaran resmi Ge...</td>\n",
       "      <td>Research</td>\n",
       "    </tr>\n",
       "  </tbody>\n",
       "</table>\n",
       "</div>"
      ],
      "text/plain": [
       "                                                 isi  kategori\n",
       "0  Jakarta, CNBC Indonesia -Sejumlah agenda dan e...  Research\n",
       "1  Jakarta, CNBC Indonesia-Memasuki September 202...  Research\n",
       "2  Jakarta, CNBC Indonesia- Gempamegathrusthingga...  Research\n",
       "3  Jakarta,CNBC Indonesia-Gaharu, juga dikenal se...  Research\n",
       "4  Jakarta, CNBC Indonesia -Dalam ajaran resmi Ge...  Research"
      ]
     },
     "execution_count": 10,
     "metadata": {},
     "output_type": "execute_result"
    }
   ],
   "source": [
    "data.head()"
   ]
  },
  {
   "cell_type": "code",
   "execution_count": 11,
   "id": "DBZCkv7WyYa9",
   "metadata": {
    "id": "DBZCkv7WyYa9"
   },
   "outputs": [],
   "source": [
    "data = data.sample(frac = 1, ignore_index=True)"
   ]
  },
  {
   "cell_type": "markdown",
   "id": "fb011254-f714-4783-9d4c-dba5ccc42948",
   "metadata": {
    "id": "fb011254-f714-4783-9d4c-dba5ccc42948"
   },
   "source": [
    "#### Beberapa FUngsi yang digunakan untuk mengolah dataset kata\n",
    "\n",
    "1. **Pembersihan Teks**:\n",
    "       - Menghapus URL yang diawali dengan \"www.\" atau \"https://\", agar tidak mengganggu hasil analisis.\n",
    "       - Menghapus mention username yang diawali dengan '@' untuk menghindari gangguan dari referensi ke akun sosial media.\n",
    "       - Menghapus spasi berlebih yang muncul akibat pembersihan teks sebelumnya.\n",
    "       - Menghapus hashtag (kata yang diawali dengan '#'), karena hashtag tidak diperlukan dalam analisis konten.\n",
    "       - Menghapus teks 'RT' (retweet) yang biasa ditemukan dalam tweet.\n",
    "       - Menghapus tanda baca seperti titik, koma, tanda seru, dan karakter non-alfanumerik lainnya.\n",
    "       - Menghapus angka dari teks karena angka biasanya tidak berkontribusi pada pemahaman konteks dalam teks (kecuali dalam analisis numerik).\n",
    "       - Mengubah teks menjadi huruf kecil agar seragam dalam pengolahan, terutama dalam analisis berbasis kata.\n",
    "       - Menghapus karakter non-ASCII untuk menghindari simbol atau karakter yang tidak dikenal di encoding ASCII.\n",
    "       - Menghapus karakter tambahan non-ASCII yang mungkin masih tersisa di dalam teks.\n",
    "       - Menghapus baris baru ('\\n') agar hasilnya berupa satu baris teks yang konsisten.\n",
    "\n",
    "2. **Stemming**:\n",
    "       - Menggunakan library `Sastrawi` untuk stemming teks bahasa Indonesia. Stemming adalah proses mengubah kata-kata menjadi bentuk dasar (akar kata),\n",
    "         sehingga kata yang beragam seperti \"makan\", \"memakan\", \"dimakan\" semuanya diproses menjadi \"makan\".\n",
    "       \n",
    "3. **Tokenisasi**:\n",
    "       - Memecah teks yang sudah dibersihkan dan distemming menjadi token (kata-kata individu), yang dapat diolah lebih lanjut.\n",
    "       \n",
    "4. **Filtering Stopwords**:\n",
    "       - Menghapus stopwords (kata-kata umum yang tidak penting dalam analisis teks seperti \"yang\", \"dan\", \"di\") menggunakan daftar stopwords dari\n",
    "         bahasa Indonesia yang disediakan oleh NLTK. Ini bertujuan agar hanya kata-kata penting yang dipertahankan dalam teks.\n",
    "       \n",
    "5. **Penggabungan Kembali**:\n",
    "       - Setelah proses tokenisasi dan filtering stopwords, token yang tersisa digabung kembali menjadi satu string teks yang siap digunakan\n",
    "         dalam teknik analisis teks selanjutnya, seperti perhitungan TF-IDF atau analisis vektor.\n"
   ]
  },
  {
   "cell_type": "markdown",
   "id": "d0e3709c",
   "metadata": {
    "id": "d0e3709c"
   },
   "source": [
    "#### Fungsi clean text"
   ]
  },
  {
   "cell_type": "code",
   "execution_count": 12,
   "id": "63da77fb-a22c-4834-93eb-a13c459d4c91",
   "metadata": {
    "id": "63da77fb-a22c-4834-93eb-a13c459d4c91"
   },
   "outputs": [],
   "source": [
    "stopwords = stopwords.words('indonesian')\n",
    "# save stopwords\n",
    "with open('stopwords.txt', 'w') as f:\n",
    "  for item in stopwords:\n",
    "    f.write(\"%s\\n\" % item)"
   ]
  },
  {
   "cell_type": "code",
   "execution_count": 13,
   "id": "50a4a960",
   "metadata": {
    "id": "50a4a960"
   },
   "outputs": [],
   "source": [
    "def cleansing(text):\n",
    "    text = re.sub(r'[\\s]+', ' ', text) # Menghapus tambahan spasi\n",
    "    text = text.encode('ascii','ignore').decode('utf-8') # Menghapus karakter non-ASCII\n",
    "    text = re.sub(r'[^\\x00-\\x7f]', r'', text) # Menghapus karakter non-printable\n",
    "    text = re.sub(r'\\d+', '', text) # Menghapus angka\n",
    "    text = text.lower() # Mengubah teks menjadi huruf kecil\n",
    "    text = re.sub(r'\\b-\\b', ' ', text) # Menghapus tanda hubung yang tidak berada di antara dua huruf\n",
    "    text = re.sub(r'[^\\w\\s]+', ' ', text) # Menghapus tanda baca\n",
    "    text = text.replace('\\n','') #Menghapus baris baru\n",
    "    return text"
   ]
  },
  {
   "cell_type": "markdown",
   "id": "d5f203eb-46fb-4ee6-a027-26689676029f",
   "metadata": {},
   "source": [
    "#### Fungsi Remove Stopword"
   ]
  },
  {
   "cell_type": "code",
   "execution_count": 14,
   "id": "7bb7b6cd-eb76-410d-9fa7-6046fb23ba32",
   "metadata": {},
   "outputs": [],
   "source": [
    "def stopword(text):\n",
    "    text = text.split() # Memisahkan teks menjadi kata-kata\n",
    "    text = [word for word in text if word not in stopwords] # Menghapus stopwords dari teks\n",
    "    text = ' '.join(text) # Menggabungkan kata-kata kembali menjadi teks\n",
    "    return text"
   ]
  },
  {
   "cell_type": "markdown",
   "id": "c9e0b455",
   "metadata": {
    "id": "c9e0b455"
   },
   "source": [
    "#### Fungsi Stemming"
   ]
  },
  {
   "cell_type": "code",
   "execution_count": 15,
   "id": "35316e60",
   "metadata": {
    "id": "35316e60"
   },
   "outputs": [],
   "source": [
    "def stemming_indo(text):\n",
    "    factory = StemmerFactory()\n",
    "    stemmer = factory.create_stemmer()\n",
    "    text = stemmer.stem(text)\n",
    "    return text"
   ]
  },
  {
   "cell_type": "code",
   "execution_count": 16,
   "id": "f4ee1315-3c28-42da-93b3-68cc9e506d09",
   "metadata": {
    "id": "f4ee1315-3c28-42da-93b3-68cc9e506d09"
   },
   "outputs": [],
   "source": [
    "def preprocessing(text):\n",
    "    clean_text = cleansing(text)\n",
    "    stopword_text = stopword(clean_text)\n",
    "    stemmed_text = stemming_indo(stopword_text)\n",
    "    return stemmed_text"
   ]
  },
  {
   "cell_type": "code",
   "execution_count": 17,
   "id": "HWFAU4TEymQs",
   "metadata": {
    "colab": {
     "base_uri": "https://localhost:8080/"
    },
    "id": "HWFAU4TEymQs",
    "outputId": "2b54085a-3d65-4ebd-ccd4-4cebf0d1822a"
   },
   "outputs": [
    {
     "name": "stdout",
     "output_type": "stream",
     "text": [
      "Jakarta, CNBC Indonesia -Presiden Joko Widodo meresmikan Gedung Rumah Sakit Kemenkes dan Gedung Pelayanan Kesehatan Ibu dan Anak RS Wahidin Sudirohusodo di Makassar, Sulawesi Selatan yang dibangun PT Adhi Karya (Persero) Tbk (ADHI). Rumah Sakit Kemenkes menjadi Rumah Sakit terbesar yang diresmikan oleh Jokowi dan diperuntukkan sebagai pusat layanan kesehatan modern, khususnya di wilayah timur Indonesia seperti Sulawesi, Maluku, Nusa Tenggara dan Papua.\r\n",
      "Menurut Jokowi, rumah sakit ini memiliki suasana ruangan dan penataan interior seperti hotel bintang lima.\r\n",
      "\"Dengan adanya RSIA ini, diharapkan dapat menekan dan mengurangi angka kematian bayi,\" ungkap Jokowi dikutip Senin, (9/9/2024).\r\n",
      "Gedung Rumah Sakit Kemenkes terletak di Kawasan Center Point Of Indonesia, Makassar, Sulawesi Selatan dengan luas total lahan 62.798 m2. Rumah Sakit ini khusus untuk penanganan Otak, Jantung dan Kanker (OJK) dan dibangun di masing-masing tower, yang mana Tower B (Pelayanan Jantung), Tower C (Pelayanan Otak) dan Tower D (Pelayanan Kanker) yang masing-masing memiliki 12 Lantai dan Roof top.\r\n",
      "Kawasan RS ini juga dilengkapi dengan Podium 8 Lantai (Gedung A), Instalasi Gizi 3 Lantai (Gedung E), IPAL 3 Lantai (Gedung F), Parkir 8 Lantai (Gedung G) dan Utilitas 1 Lantai (Gedung H). Menurut Jokowi, RS ini memiliki kualitas seperti hotel bintang lima dan dilengkapi 920 tempat tidur serta berbagai fasilitas medis modern dengan teknologi baru.\r\n",
      "Gedung Rumah Sakit Kemenkes yang dibangun oleh ADHI ini juga dilengkapi dengan fasilitas dermaga dan helipad, menunjukkan komitmen terhadap aksesibilitas dan integrasi dengan kondisi masyarakat. Rumah Sakit Ibu dan Anak Wahidin Sudirohusodo terletak di Tamalanrea, Makassar, Sulawesi Selatan. Gedung baru yang dibangun oleh ADHI, memiliki luas bangunan 43.431,81 m2 dan terdiri dari 8 Lantai dan 1 semi basement.\r\n",
      "Pembangunan Gedung Pelayanan ini termasuk Ruang Poliklinik Ibu dan Anak, Ruang Radiologi, Ruang ICU, NICU, PICU, HCU (108 bed), Ruang OK (4 unit), Ruang Rawat Inap (154 Bed), Ruang Auditorium dan kantor serta Gedung Parkir dengan kapasitas 167 mobil.\r\n",
      "Peresmian ini turut dihadiri oleh Menteri Kesehatan Budi Gunadi Sadikin, Direktur Utama ADHI Entus Asnawi Mukshon, Direktur Utama Rumah Sakit, beserta pejabat pemerintah daerah provinsi Sulawesi Selatan.\r\n",
      "\n"
     ]
    }
   ],
   "source": [
    "print(data[\"isi\"][0])"
   ]
  },
  {
   "cell_type": "code",
   "execution_count": 18,
   "id": "8f1db62b-7785-4011-9da3-fbd9962b351d",
   "metadata": {},
   "outputs": [
    {
     "name": "stdout",
     "output_type": "stream",
     "text": [
      "jakarta cnbc indonesia presiden joko widodo resmi gedung rumah sakit kemenkes gedung layan sehat anak rs wahidin sudirohusodo makassar sulawesi selatan bangun pt adhi karya persero tbk adhi rumah sakit kemenkes rumah sakit besar resmi jokowi untuk pusat layan sehat modern wilayah timur indonesia sulawesi malu nusa tenggara papua jokowi rumah sakit milik suasana ruang tata interior hotel bintang rsia harap tekan kurang angka mati bayi jokowi kutip senin gedung rumah sakit kemenkes letak kawasan center point of indonesia makassar sulawesi selatan luas total lahan m rumah sakit khusus tangan otak jantung kanker ojk bangun tower tower b layan jantung tower c layan otak tower d layan kanker milik lantai roof top kawasan rs lengkap podium lantai gedung a instalasi gizi lantai gedung e ipal lantai gedung f parkir lantai gedung g utilitas lantai gedung h jokowi rs milik kualitas hotel bintang lengkap tidur fasilitas medis modern teknologi gedung rumah sakit kemenkes bangun adhi lengkap fasilitas dermaga helipad komitmen aksesibilitas integrasi kondisi masyarakat rumah sakit anak wahidin sudirohusodo letak tamalanrea makassar sulawesi selatan gedung bangun adhi milik luas bangun m lantai semi basement bangun gedung layan ruang poliklinik anak ruang radiologi ruang icu nicu picu hcu bed ruang ok unit ruang rawat inap bed ruang auditorium kantor gedung parkir kapasitas mobil resmi hadir menteri sehat budi gunadi sadikin direktur utama adhi entus asnawi mukshon direktur utama rumah sakit serta jabat perintah daerah provinsi sulawesi selatan\n"
     ]
    }
   ],
   "source": [
    "print(preprocessing(data[\"isi\"][0]))"
   ]
  },
  {
   "cell_type": "code",
   "execution_count": 19,
   "id": "53d4c833-d61e-4282-9185-7c657baede94",
   "metadata": {
    "id": "53d4c833-d61e-4282-9185-7c657baede94"
   },
   "outputs": [
    {
     "ename": "KeyboardInterrupt",
     "evalue": "",
     "output_type": "error",
     "traceback": [
      "\u001b[1;31m---------------------------------------------------------------------------\u001b[0m",
      "\u001b[1;31mKeyboardInterrupt\u001b[0m                         Traceback (most recent call last)",
      "Cell \u001b[1;32mIn[19], line 1\u001b[0m\n\u001b[1;32m----> 1\u001b[0m data[\u001b[38;5;124m\"\u001b[39m\u001b[38;5;124mcleaned\u001b[39m\u001b[38;5;124m\"\u001b[39m] \u001b[38;5;241m=\u001b[39m \u001b[43mdata\u001b[49m\u001b[43m[\u001b[49m\u001b[38;5;124;43m\"\u001b[39;49m\u001b[38;5;124;43misi\u001b[39;49m\u001b[38;5;124;43m\"\u001b[39;49m\u001b[43m]\u001b[49m\u001b[38;5;241;43m.\u001b[39;49m\u001b[43mapply\u001b[49m\u001b[43m(\u001b[49m\u001b[43mpreprocessing\u001b[49m\u001b[43m)\u001b[49m\n",
      "File \u001b[1;32mC:\\Program Files\\Python311\\Lib\\site-packages\\pandas\\core\\series.py:4924\u001b[0m, in \u001b[0;36mSeries.apply\u001b[1;34m(self, func, convert_dtype, args, by_row, **kwargs)\u001b[0m\n\u001b[0;32m   4789\u001b[0m \u001b[38;5;28;01mdef\u001b[39;00m \u001b[38;5;21mapply\u001b[39m(\n\u001b[0;32m   4790\u001b[0m     \u001b[38;5;28mself\u001b[39m,\n\u001b[0;32m   4791\u001b[0m     func: AggFuncType,\n\u001b[1;32m   (...)\u001b[0m\n\u001b[0;32m   4796\u001b[0m     \u001b[38;5;241m*\u001b[39m\u001b[38;5;241m*\u001b[39mkwargs,\n\u001b[0;32m   4797\u001b[0m ) \u001b[38;5;241m-\u001b[39m\u001b[38;5;241m>\u001b[39m DataFrame \u001b[38;5;241m|\u001b[39m Series:\n\u001b[0;32m   4798\u001b[0m \u001b[38;5;250m    \u001b[39m\u001b[38;5;124;03m\"\"\"\u001b[39;00m\n\u001b[0;32m   4799\u001b[0m \u001b[38;5;124;03m    Invoke function on values of Series.\u001b[39;00m\n\u001b[0;32m   4800\u001b[0m \n\u001b[1;32m   (...)\u001b[0m\n\u001b[0;32m   4915\u001b[0m \u001b[38;5;124;03m    dtype: float64\u001b[39;00m\n\u001b[0;32m   4916\u001b[0m \u001b[38;5;124;03m    \"\"\"\u001b[39;00m\n\u001b[0;32m   4917\u001b[0m     \u001b[38;5;28;01mreturn\u001b[39;00m \u001b[43mSeriesApply\u001b[49m\u001b[43m(\u001b[49m\n\u001b[0;32m   4918\u001b[0m \u001b[43m        \u001b[49m\u001b[38;5;28;43mself\u001b[39;49m\u001b[43m,\u001b[49m\n\u001b[0;32m   4919\u001b[0m \u001b[43m        \u001b[49m\u001b[43mfunc\u001b[49m\u001b[43m,\u001b[49m\n\u001b[0;32m   4920\u001b[0m \u001b[43m        \u001b[49m\u001b[43mconvert_dtype\u001b[49m\u001b[38;5;241;43m=\u001b[39;49m\u001b[43mconvert_dtype\u001b[49m\u001b[43m,\u001b[49m\n\u001b[0;32m   4921\u001b[0m \u001b[43m        \u001b[49m\u001b[43mby_row\u001b[49m\u001b[38;5;241;43m=\u001b[39;49m\u001b[43mby_row\u001b[49m\u001b[43m,\u001b[49m\n\u001b[0;32m   4922\u001b[0m \u001b[43m        \u001b[49m\u001b[43margs\u001b[49m\u001b[38;5;241;43m=\u001b[39;49m\u001b[43margs\u001b[49m\u001b[43m,\u001b[49m\n\u001b[0;32m   4923\u001b[0m \u001b[43m        \u001b[49m\u001b[43mkwargs\u001b[49m\u001b[38;5;241;43m=\u001b[39;49m\u001b[43mkwargs\u001b[49m\u001b[43m,\u001b[49m\n\u001b[1;32m-> 4924\u001b[0m \u001b[43m    \u001b[49m\u001b[43m)\u001b[49m\u001b[38;5;241;43m.\u001b[39;49m\u001b[43mapply\u001b[49m\u001b[43m(\u001b[49m\u001b[43m)\u001b[49m\n",
      "File \u001b[1;32mC:\\Program Files\\Python311\\Lib\\site-packages\\pandas\\core\\apply.py:1427\u001b[0m, in \u001b[0;36mSeriesApply.apply\u001b[1;34m(self)\u001b[0m\n\u001b[0;32m   1424\u001b[0m     \u001b[38;5;28;01mreturn\u001b[39;00m \u001b[38;5;28mself\u001b[39m\u001b[38;5;241m.\u001b[39mapply_compat()\n\u001b[0;32m   1426\u001b[0m \u001b[38;5;66;03m# self.func is Callable\u001b[39;00m\n\u001b[1;32m-> 1427\u001b[0m \u001b[38;5;28;01mreturn\u001b[39;00m \u001b[38;5;28;43mself\u001b[39;49m\u001b[38;5;241;43m.\u001b[39;49m\u001b[43mapply_standard\u001b[49m\u001b[43m(\u001b[49m\u001b[43m)\u001b[49m\n",
      "File \u001b[1;32mC:\\Program Files\\Python311\\Lib\\site-packages\\pandas\\core\\apply.py:1507\u001b[0m, in \u001b[0;36mSeriesApply.apply_standard\u001b[1;34m(self)\u001b[0m\n\u001b[0;32m   1501\u001b[0m \u001b[38;5;66;03m# row-wise access\u001b[39;00m\n\u001b[0;32m   1502\u001b[0m \u001b[38;5;66;03m# apply doesn't have a `na_action` keyword and for backward compat reasons\u001b[39;00m\n\u001b[0;32m   1503\u001b[0m \u001b[38;5;66;03m# we need to give `na_action=\"ignore\"` for categorical data.\u001b[39;00m\n\u001b[0;32m   1504\u001b[0m \u001b[38;5;66;03m# TODO: remove the `na_action=\"ignore\"` when that default has been changed in\u001b[39;00m\n\u001b[0;32m   1505\u001b[0m \u001b[38;5;66;03m#  Categorical (GH51645).\u001b[39;00m\n\u001b[0;32m   1506\u001b[0m action \u001b[38;5;241m=\u001b[39m \u001b[38;5;124m\"\u001b[39m\u001b[38;5;124mignore\u001b[39m\u001b[38;5;124m\"\u001b[39m \u001b[38;5;28;01mif\u001b[39;00m \u001b[38;5;28misinstance\u001b[39m(obj\u001b[38;5;241m.\u001b[39mdtype, CategoricalDtype) \u001b[38;5;28;01melse\u001b[39;00m \u001b[38;5;28;01mNone\u001b[39;00m\n\u001b[1;32m-> 1507\u001b[0m mapped \u001b[38;5;241m=\u001b[39m \u001b[43mobj\u001b[49m\u001b[38;5;241;43m.\u001b[39;49m\u001b[43m_map_values\u001b[49m\u001b[43m(\u001b[49m\n\u001b[0;32m   1508\u001b[0m \u001b[43m    \u001b[49m\u001b[43mmapper\u001b[49m\u001b[38;5;241;43m=\u001b[39;49m\u001b[43mcurried\u001b[49m\u001b[43m,\u001b[49m\u001b[43m \u001b[49m\u001b[43mna_action\u001b[49m\u001b[38;5;241;43m=\u001b[39;49m\u001b[43maction\u001b[49m\u001b[43m,\u001b[49m\u001b[43m \u001b[49m\u001b[43mconvert\u001b[49m\u001b[38;5;241;43m=\u001b[39;49m\u001b[38;5;28;43mself\u001b[39;49m\u001b[38;5;241;43m.\u001b[39;49m\u001b[43mconvert_dtype\u001b[49m\n\u001b[0;32m   1509\u001b[0m \u001b[43m\u001b[49m\u001b[43m)\u001b[49m\n\u001b[0;32m   1511\u001b[0m \u001b[38;5;28;01mif\u001b[39;00m \u001b[38;5;28mlen\u001b[39m(mapped) \u001b[38;5;129;01mand\u001b[39;00m \u001b[38;5;28misinstance\u001b[39m(mapped[\u001b[38;5;241m0\u001b[39m], ABCSeries):\n\u001b[0;32m   1512\u001b[0m     \u001b[38;5;66;03m# GH#43986 Need to do list(mapped) in order to get treated as nested\u001b[39;00m\n\u001b[0;32m   1513\u001b[0m     \u001b[38;5;66;03m#  See also GH#25959 regarding EA support\u001b[39;00m\n\u001b[0;32m   1514\u001b[0m     \u001b[38;5;28;01mreturn\u001b[39;00m obj\u001b[38;5;241m.\u001b[39m_constructor_expanddim(\u001b[38;5;28mlist\u001b[39m(mapped), index\u001b[38;5;241m=\u001b[39mobj\u001b[38;5;241m.\u001b[39mindex)\n",
      "File \u001b[1;32mC:\\Program Files\\Python311\\Lib\\site-packages\\pandas\\core\\base.py:921\u001b[0m, in \u001b[0;36mIndexOpsMixin._map_values\u001b[1;34m(self, mapper, na_action, convert)\u001b[0m\n\u001b[0;32m    918\u001b[0m \u001b[38;5;28;01mif\u001b[39;00m \u001b[38;5;28misinstance\u001b[39m(arr, ExtensionArray):\n\u001b[0;32m    919\u001b[0m     \u001b[38;5;28;01mreturn\u001b[39;00m arr\u001b[38;5;241m.\u001b[39mmap(mapper, na_action\u001b[38;5;241m=\u001b[39mna_action)\n\u001b[1;32m--> 921\u001b[0m \u001b[38;5;28;01mreturn\u001b[39;00m \u001b[43malgorithms\u001b[49m\u001b[38;5;241;43m.\u001b[39;49m\u001b[43mmap_array\u001b[49m\u001b[43m(\u001b[49m\u001b[43marr\u001b[49m\u001b[43m,\u001b[49m\u001b[43m \u001b[49m\u001b[43mmapper\u001b[49m\u001b[43m,\u001b[49m\u001b[43m \u001b[49m\u001b[43mna_action\u001b[49m\u001b[38;5;241;43m=\u001b[39;49m\u001b[43mna_action\u001b[49m\u001b[43m,\u001b[49m\u001b[43m \u001b[49m\u001b[43mconvert\u001b[49m\u001b[38;5;241;43m=\u001b[39;49m\u001b[43mconvert\u001b[49m\u001b[43m)\u001b[49m\n",
      "File \u001b[1;32mC:\\Program Files\\Python311\\Lib\\site-packages\\pandas\\core\\algorithms.py:1743\u001b[0m, in \u001b[0;36mmap_array\u001b[1;34m(arr, mapper, na_action, convert)\u001b[0m\n\u001b[0;32m   1741\u001b[0m values \u001b[38;5;241m=\u001b[39m arr\u001b[38;5;241m.\u001b[39mastype(\u001b[38;5;28mobject\u001b[39m, copy\u001b[38;5;241m=\u001b[39m\u001b[38;5;28;01mFalse\u001b[39;00m)\n\u001b[0;32m   1742\u001b[0m \u001b[38;5;28;01mif\u001b[39;00m na_action \u001b[38;5;129;01mis\u001b[39;00m \u001b[38;5;28;01mNone\u001b[39;00m:\n\u001b[1;32m-> 1743\u001b[0m     \u001b[38;5;28;01mreturn\u001b[39;00m \u001b[43mlib\u001b[49m\u001b[38;5;241;43m.\u001b[39;49m\u001b[43mmap_infer\u001b[49m\u001b[43m(\u001b[49m\u001b[43mvalues\u001b[49m\u001b[43m,\u001b[49m\u001b[43m \u001b[49m\u001b[43mmapper\u001b[49m\u001b[43m,\u001b[49m\u001b[43m \u001b[49m\u001b[43mconvert\u001b[49m\u001b[38;5;241;43m=\u001b[39;49m\u001b[43mconvert\u001b[49m\u001b[43m)\u001b[49m\n\u001b[0;32m   1744\u001b[0m \u001b[38;5;28;01melse\u001b[39;00m:\n\u001b[0;32m   1745\u001b[0m     \u001b[38;5;28;01mreturn\u001b[39;00m lib\u001b[38;5;241m.\u001b[39mmap_infer_mask(\n\u001b[0;32m   1746\u001b[0m         values, mapper, mask\u001b[38;5;241m=\u001b[39misna(values)\u001b[38;5;241m.\u001b[39mview(np\u001b[38;5;241m.\u001b[39muint8), convert\u001b[38;5;241m=\u001b[39mconvert\n\u001b[0;32m   1747\u001b[0m     )\n",
      "File \u001b[1;32mlib.pyx:2972\u001b[0m, in \u001b[0;36mpandas._libs.lib.map_infer\u001b[1;34m()\u001b[0m\n",
      "Cell \u001b[1;32mIn[16], line 4\u001b[0m, in \u001b[0;36mpreprocessing\u001b[1;34m(text)\u001b[0m\n\u001b[0;32m      2\u001b[0m clean_text \u001b[38;5;241m=\u001b[39m cleansing(text)\n\u001b[0;32m      3\u001b[0m stopword_text \u001b[38;5;241m=\u001b[39m stopword(clean_text)\n\u001b[1;32m----> 4\u001b[0m stemmed_text \u001b[38;5;241m=\u001b[39m \u001b[43mstemming_indo\u001b[49m\u001b[43m(\u001b[49m\u001b[43mstopword_text\u001b[49m\u001b[43m)\u001b[49m\n\u001b[0;32m      5\u001b[0m \u001b[38;5;28;01mreturn\u001b[39;00m stemmed_text\n",
      "Cell \u001b[1;32mIn[15], line 4\u001b[0m, in \u001b[0;36mstemming_indo\u001b[1;34m(text)\u001b[0m\n\u001b[0;32m      2\u001b[0m factory \u001b[38;5;241m=\u001b[39m StemmerFactory()\n\u001b[0;32m      3\u001b[0m stemmer \u001b[38;5;241m=\u001b[39m factory\u001b[38;5;241m.\u001b[39mcreate_stemmer()\n\u001b[1;32m----> 4\u001b[0m text \u001b[38;5;241m=\u001b[39m \u001b[43mstemmer\u001b[49m\u001b[38;5;241;43m.\u001b[39;49m\u001b[43mstem\u001b[49m\u001b[43m(\u001b[49m\u001b[43mtext\u001b[49m\u001b[43m)\u001b[49m\n\u001b[0;32m      5\u001b[0m \u001b[38;5;28;01mreturn\u001b[39;00m text\n",
      "File \u001b[1;32mC:\\Program Files\\Python311\\Lib\\site-packages\\Sastrawi\\Stemmer\\CachedStemmer.py:20\u001b[0m, in \u001b[0;36mCachedStemmer.stem\u001b[1;34m(self, text)\u001b[0m\n\u001b[0;32m     18\u001b[0m     stems\u001b[38;5;241m.\u001b[39mappend(\u001b[38;5;28mself\u001b[39m\u001b[38;5;241m.\u001b[39mcache\u001b[38;5;241m.\u001b[39mget(word))\n\u001b[0;32m     19\u001b[0m \u001b[38;5;28;01melse\u001b[39;00m:\n\u001b[1;32m---> 20\u001b[0m     stem \u001b[38;5;241m=\u001b[39m \u001b[38;5;28;43mself\u001b[39;49m\u001b[38;5;241;43m.\u001b[39;49m\u001b[43mdelegatedStemmer\u001b[49m\u001b[38;5;241;43m.\u001b[39;49m\u001b[43mstem\u001b[49m\u001b[43m(\u001b[49m\u001b[43mword\u001b[49m\u001b[43m)\u001b[49m\n\u001b[0;32m     21\u001b[0m     \u001b[38;5;28mself\u001b[39m\u001b[38;5;241m.\u001b[39mcache\u001b[38;5;241m.\u001b[39mset(word, stem)\n\u001b[0;32m     22\u001b[0m     stems\u001b[38;5;241m.\u001b[39mappend(stem)\n",
      "File \u001b[1;32mC:\\Program Files\\Python311\\Lib\\site-packages\\Sastrawi\\Stemmer\\Stemmer.py:27\u001b[0m, in \u001b[0;36mStemmer.stem\u001b[1;34m(self, text)\u001b[0m\n\u001b[0;32m     24\u001b[0m stems \u001b[38;5;241m=\u001b[39m []\n\u001b[0;32m     26\u001b[0m \u001b[38;5;28;01mfor\u001b[39;00m word \u001b[38;5;129;01min\u001b[39;00m words:\n\u001b[1;32m---> 27\u001b[0m     stems\u001b[38;5;241m.\u001b[39mappend(\u001b[38;5;28;43mself\u001b[39;49m\u001b[38;5;241;43m.\u001b[39;49m\u001b[43mstem_word\u001b[49m\u001b[43m(\u001b[49m\u001b[43mword\u001b[49m\u001b[43m)\u001b[49m)\n\u001b[0;32m     29\u001b[0m \u001b[38;5;28;01mreturn\u001b[39;00m \u001b[38;5;124m'\u001b[39m\u001b[38;5;124m \u001b[39m\u001b[38;5;124m'\u001b[39m\u001b[38;5;241m.\u001b[39mjoin(stems)\n",
      "File \u001b[1;32mC:\\Program Files\\Python311\\Lib\\site-packages\\Sastrawi\\Stemmer\\Stemmer.py:36\u001b[0m, in \u001b[0;36mStemmer.stem_word\u001b[1;34m(self, word)\u001b[0m\n\u001b[0;32m     34\u001b[0m     \u001b[38;5;28;01mreturn\u001b[39;00m \u001b[38;5;28mself\u001b[39m\u001b[38;5;241m.\u001b[39mstem_plural_word(word)\n\u001b[0;32m     35\u001b[0m \u001b[38;5;28;01melse\u001b[39;00m:\n\u001b[1;32m---> 36\u001b[0m     \u001b[38;5;28;01mreturn\u001b[39;00m \u001b[38;5;28;43mself\u001b[39;49m\u001b[38;5;241;43m.\u001b[39;49m\u001b[43mstem_singular_word\u001b[49m\u001b[43m(\u001b[49m\u001b[43mword\u001b[49m\u001b[43m)\u001b[49m\n",
      "File \u001b[1;32mC:\\Program Files\\Python311\\Lib\\site-packages\\Sastrawi\\Stemmer\\Stemmer.py:84\u001b[0m, in \u001b[0;36mStemmer.stem_singular_word\u001b[1;34m(self, word)\u001b[0m\n\u001b[0;32m     82\u001b[0m \u001b[38;5;250m\u001b[39m\u001b[38;5;124;03m\"\"\"Stem a singular word to its common stem form.\"\"\"\u001b[39;00m\n\u001b[0;32m     83\u001b[0m context \u001b[38;5;241m=\u001b[39m Context(word, \u001b[38;5;28mself\u001b[39m\u001b[38;5;241m.\u001b[39mdictionary, \u001b[38;5;28mself\u001b[39m\u001b[38;5;241m.\u001b[39mvisitor_provider)\n\u001b[1;32m---> 84\u001b[0m \u001b[43mcontext\u001b[49m\u001b[38;5;241;43m.\u001b[39;49m\u001b[43mexecute\u001b[49m\u001b[43m(\u001b[49m\u001b[43m)\u001b[49m\n\u001b[0;32m     86\u001b[0m \u001b[38;5;28;01mreturn\u001b[39;00m context\u001b[38;5;241m.\u001b[39mresult\n",
      "File \u001b[1;32mC:\\Program Files\\Python311\\Lib\\site-packages\\Sastrawi\\Stemmer\\Context\\Context.py:37\u001b[0m, in \u001b[0;36mContext.execute\u001b[1;34m(self)\u001b[0m\n\u001b[0;32m     34\u001b[0m \u001b[38;5;250m\u001b[39m\u001b[38;5;124;03m\"\"\"Execute stemming process; the result can be retrieved with result\"\"\"\u001b[39;00m\n\u001b[0;32m     36\u001b[0m \u001b[38;5;66;03m#step 1 - 5\u001b[39;00m\n\u001b[1;32m---> 37\u001b[0m \u001b[38;5;28;43mself\u001b[39;49m\u001b[38;5;241;43m.\u001b[39;49m\u001b[43mstart_stemming_process\u001b[49m\u001b[43m(\u001b[49m\u001b[43m)\u001b[49m\n\u001b[0;32m     39\u001b[0m \u001b[38;5;66;03m#step 6\u001b[39;00m\n\u001b[0;32m     40\u001b[0m \u001b[38;5;28;01mif\u001b[39;00m \u001b[38;5;28mself\u001b[39m\u001b[38;5;241m.\u001b[39mdictionary\u001b[38;5;241m.\u001b[39mcontains(\u001b[38;5;28mself\u001b[39m\u001b[38;5;241m.\u001b[39mcurrent_word):\n",
      "File \u001b[1;32mC:\\Program Files\\Python311\\Lib\\site-packages\\Sastrawi\\Stemmer\\Context\\Context.py:60\u001b[0m, in \u001b[0;36mContext.start_stemming_process\u001b[1;34m(self)\u001b[0m\n\u001b[0;32m     56\u001b[0m \u001b[38;5;66;03m#Confix Stripping\u001b[39;00m\n\u001b[0;32m     57\u001b[0m \u001b[38;5;66;03m#Try to remove prefix before suffix if the specification is met\u001b[39;00m\n\u001b[0;32m     58\u001b[0m \u001b[38;5;28;01mif\u001b[39;00m csPrecedenceAdjustmentSpecification\u001b[38;5;241m.\u001b[39mis_satisfied_by(\u001b[38;5;28mself\u001b[39m\u001b[38;5;241m.\u001b[39moriginal_word):\n\u001b[0;32m     59\u001b[0m     \u001b[38;5;66;03m#step 4, 5\u001b[39;00m\n\u001b[1;32m---> 60\u001b[0m     \u001b[38;5;28;43mself\u001b[39;49m\u001b[38;5;241;43m.\u001b[39;49m\u001b[43mremove_prefixes\u001b[49m\u001b[43m(\u001b[49m\u001b[43m)\u001b[49m\n\u001b[0;32m     61\u001b[0m     \u001b[38;5;28;01mif\u001b[39;00m \u001b[38;5;28mself\u001b[39m\u001b[38;5;241m.\u001b[39mdictionary\u001b[38;5;241m.\u001b[39mcontains(\u001b[38;5;28mself\u001b[39m\u001b[38;5;241m.\u001b[39mcurrent_word):\n\u001b[0;32m     62\u001b[0m         \u001b[38;5;28;01mreturn\u001b[39;00m\n",
      "File \u001b[1;32mC:\\Program Files\\Python311\\Lib\\site-packages\\Sastrawi\\Stemmer\\Context\\Context.py:89\u001b[0m, in \u001b[0;36mContext.remove_prefixes\u001b[1;34m(self)\u001b[0m\n\u001b[0;32m     87\u001b[0m \u001b[38;5;28;01mdef\u001b[39;00m \u001b[38;5;21mremove_prefixes\u001b[39m(\u001b[38;5;28mself\u001b[39m):\n\u001b[0;32m     88\u001b[0m     \u001b[38;5;28;01mfor\u001b[39;00m i \u001b[38;5;129;01min\u001b[39;00m \u001b[38;5;28mrange\u001b[39m(\u001b[38;5;241m3\u001b[39m):\n\u001b[1;32m---> 89\u001b[0m         \u001b[38;5;28;43mself\u001b[39;49m\u001b[38;5;241;43m.\u001b[39;49m\u001b[43maccept_prefix_visitors\u001b[49m\u001b[43m(\u001b[49m\u001b[38;5;28;43mself\u001b[39;49m\u001b[38;5;241;43m.\u001b[39;49m\u001b[43mprefix_pisitors\u001b[49m\u001b[43m)\u001b[49m\n\u001b[0;32m     90\u001b[0m         \u001b[38;5;28;01mif\u001b[39;00m \u001b[38;5;28mself\u001b[39m\u001b[38;5;241m.\u001b[39mdictionary\u001b[38;5;241m.\u001b[39mcontains(\u001b[38;5;28mself\u001b[39m\u001b[38;5;241m.\u001b[39mcurrent_word):\n\u001b[0;32m     91\u001b[0m             \u001b[38;5;28;01mreturn\u001b[39;00m\n",
      "File \u001b[1;32mC:\\Program Files\\Python311\\Lib\\site-packages\\Sastrawi\\Stemmer\\Context\\Context.py:110\u001b[0m, in \u001b[0;36mContext.accept_prefix_visitors\u001b[1;34m(self, visitors)\u001b[0m\n\u001b[0;32m    108\u001b[0m removalCount \u001b[38;5;241m=\u001b[39m \u001b[38;5;28mlen\u001b[39m(\u001b[38;5;28mself\u001b[39m\u001b[38;5;241m.\u001b[39mremovals)\n\u001b[0;32m    109\u001b[0m \u001b[38;5;28;01mfor\u001b[39;00m visitor \u001b[38;5;129;01min\u001b[39;00m visitors:\n\u001b[1;32m--> 110\u001b[0m     \u001b[38;5;28;43mself\u001b[39;49m\u001b[38;5;241;43m.\u001b[39;49m\u001b[43maccept\u001b[49m\u001b[43m(\u001b[49m\u001b[43mvisitor\u001b[49m\u001b[43m)\u001b[49m\n\u001b[0;32m    111\u001b[0m     \u001b[38;5;28;01mif\u001b[39;00m \u001b[38;5;28mself\u001b[39m\u001b[38;5;241m.\u001b[39mdictionary\u001b[38;5;241m.\u001b[39mcontains(\u001b[38;5;28mself\u001b[39m\u001b[38;5;241m.\u001b[39mcurrent_word):\n\u001b[0;32m    112\u001b[0m         \u001b[38;5;28;01mreturn\u001b[39;00m \u001b[38;5;28mself\u001b[39m\u001b[38;5;241m.\u001b[39mcurrent_word\n",
      "File \u001b[1;32mC:\\Program Files\\Python311\\Lib\\site-packages\\Sastrawi\\Stemmer\\Context\\Context.py:96\u001b[0m, in \u001b[0;36mContext.accept\u001b[1;34m(self, visitor)\u001b[0m\n\u001b[0;32m     93\u001b[0m \u001b[38;5;28;01mdef\u001b[39;00m \u001b[38;5;21mremove_suffixes\u001b[39m(\u001b[38;5;28mself\u001b[39m):\n\u001b[0;32m     94\u001b[0m     \u001b[38;5;28mself\u001b[39m\u001b[38;5;241m.\u001b[39maccept_visitors(\u001b[38;5;28mself\u001b[39m\u001b[38;5;241m.\u001b[39msuffix_visitors)\n\u001b[1;32m---> 96\u001b[0m \u001b[38;5;28;01mdef\u001b[39;00m \u001b[38;5;21maccept\u001b[39m(\u001b[38;5;28mself\u001b[39m, visitor):\n\u001b[0;32m     97\u001b[0m     visitor\u001b[38;5;241m.\u001b[39mvisit(\u001b[38;5;28mself\u001b[39m)\n\u001b[0;32m     99\u001b[0m \u001b[38;5;28;01mdef\u001b[39;00m \u001b[38;5;21maccept_visitors\u001b[39m(\u001b[38;5;28mself\u001b[39m, visitors):\n",
      "\u001b[1;31mKeyboardInterrupt\u001b[0m: "
     ]
    }
   ],
   "source": [
    "data[\"cleaned\"] = data[\"isi\"].apply(preprocessing)"
   ]
  },
  {
   "cell_type": "code",
   "execution_count": 21,
   "id": "XQ4WSskK3j-l",
   "metadata": {
    "id": "XQ4WSskK3j-l"
   },
   "outputs": [],
   "source": [
    "data = pd.read_csv(\"data_cleaned.csv\")"
   ]
  },
  {
   "cell_type": "code",
   "execution_count": 22,
   "id": "c5c2eb1a-eb9f-4d65-8669-4e40c5dbdb90",
   "metadata": {},
   "outputs": [
    {
     "data": {
      "text/html": [
       "<div>\n",
       "<style scoped>\n",
       "    .dataframe tbody tr th:only-of-type {\n",
       "        vertical-align: middle;\n",
       "    }\n",
       "\n",
       "    .dataframe tbody tr th {\n",
       "        vertical-align: top;\n",
       "    }\n",
       "\n",
       "    .dataframe thead th {\n",
       "        text-align: right;\n",
       "    }\n",
       "</style>\n",
       "<table border=\"1\" class=\"dataframe\">\n",
       "  <thead>\n",
       "    <tr style=\"text-align: right;\">\n",
       "      <th></th>\n",
       "      <th>isi</th>\n",
       "      <th>kategori</th>\n",
       "      <th>cleaned</th>\n",
       "    </tr>\n",
       "  </thead>\n",
       "  <tbody>\n",
       "    <tr>\n",
       "      <th>0</th>\n",
       "      <td>Jakarta, CNBC Indonesia-Dalam beberapa waktu t...</td>\n",
       "      <td>Research</td>\n",
       "      <td>jakarta cnbc indonesia butuh air galon indones...</td>\n",
       "    </tr>\n",
       "    <tr>\n",
       "      <th>1</th>\n",
       "      <td>Jakarta, CNBC Indonesia - Presiden Republik In...</td>\n",
       "      <td>News</td>\n",
       "      <td>jakarta cnbc indonesia presiden republik indon...</td>\n",
       "    </tr>\n",
       "    <tr>\n",
       "      <th>2</th>\n",
       "      <td>Jakarta, CNBC Indonesia -Tim nasional (timnas)...</td>\n",
       "      <td>Research</td>\n",
       "      <td>jakarta cnbc indonesia tim nasional timnas sep...</td>\n",
       "    </tr>\n",
       "    <tr>\n",
       "      <th>3</th>\n",
       "      <td>Jakarta, CNBC Indonesia -Bisnis air mineral ke...</td>\n",
       "      <td>Research</td>\n",
       "      <td>jakarta cnbc indonesia bisnis air mineral kema...</td>\n",
       "    </tr>\n",
       "    <tr>\n",
       "      <th>4</th>\n",
       "      <td>Jakarta, CNBC Indonesia-Ekonom senior Institut...</td>\n",
       "      <td>News</td>\n",
       "      <td>jakarta cnbc indonesia ekonom senior institute...</td>\n",
       "    </tr>\n",
       "  </tbody>\n",
       "</table>\n",
       "</div>"
      ],
      "text/plain": [
       "                                                 isi  kategori  \\\n",
       "0  Jakarta, CNBC Indonesia-Dalam beberapa waktu t...  Research   \n",
       "1  Jakarta, CNBC Indonesia - Presiden Republik In...      News   \n",
       "2  Jakarta, CNBC Indonesia -Tim nasional (timnas)...  Research   \n",
       "3  Jakarta, CNBC Indonesia -Bisnis air mineral ke...  Research   \n",
       "4  Jakarta, CNBC Indonesia-Ekonom senior Institut...      News   \n",
       "\n",
       "                                             cleaned  \n",
       "0  jakarta cnbc indonesia butuh air galon indones...  \n",
       "1  jakarta cnbc indonesia presiden republik indon...  \n",
       "2  jakarta cnbc indonesia tim nasional timnas sep...  \n",
       "3  jakarta cnbc indonesia bisnis air mineral kema...  \n",
       "4  jakarta cnbc indonesia ekonom senior institute...  "
      ]
     },
     "execution_count": 22,
     "metadata": {},
     "output_type": "execute_result"
    }
   ],
   "source": [
    "data.head()"
   ]
  },
  {
   "cell_type": "code",
   "execution_count": 23,
   "id": "fc64d304-a513-4150-8565-565110960784",
   "metadata": {},
   "outputs": [
    {
     "data": {
      "text/plain": [
       "'Jakarta, CNBC\\xa0Indonesia-Dalam beberapa waktu terakhir, kebutuhan akan air galon di Indonesia menjadi sorotan utama, terutama dalam konteks dampaknya terhadap ekonomi rumah tangga kelas menengah.\\r\\nMenurut mantan Menteri Keuangan, Bambang Brodjonegoro, kebiasaan masyarakat Indonesia yang bergantung pada air kemasan, seperti air galon, secara tidak sadar telah menggerus pendapatan rumah tangga, khususnya di kalangan kelas menengah. Hal ini turut memperburuk kondisi ekonomi pasca-pandemi\\xa0Covid-19, yang menyebabkan banyak kelas menengah turun ke kelas ekonomi yang lebih rendah.\\r\\nPertanyaan pun muncul, apakah Indonesia mampu mengandalkan air keran sebagai sumber air minum layak? Di beberapa negara maju, air keran yang bisa langsung diminum merupakan fasilitas umum yang umum tersedia, sehingga masyarakat tidak perlu mengeluarkan uang ekstra untuk membeli air kemasan.\\r\\nMeski begitu, hingga saat ini, di Indonesia, penggunaan air keran sebagai air minum masih belum umum. Namun, ada perkembangan signifikan di Ibu Kota Negara (IKN) Nusantara, di mana proyek penyaluran air keran sudah mulai berjalan. Menteri PUPR, Basuki Hadimuljono, mengungkapkan bahwa fasilitas reservoir dan instalasi pengolahan air minum (IPA) Sepaku siap mendistribusikan air minum dan air bersih ke berbagai kawasan di IKN.\\r\\nMeski ada upaya menuju penggunaan air keran di IKN, data menunjukkan bahwa konsumsi air minum dalam kemasan di rumah tangga Indonesia masih tinggi. Selama lima tahun terakhir, permintaan air minum dalam kemasan cenderung meningkat.\\r\\nMenurut data Badan Pusat Statistik (BPS), meskipun ada fluktuasi, persentase rumah tangga yang menggunakan air minum dalam kemasan terus mengalami peningkatan, terutama di daerah perkotaan. Hal ini dipicu oleh meningkatnya kesadaran akan kebersihan dan kualitas air minum di kalangan masyarakat.\\r\\n\\r\\nSelain itu, data menunjukkan bahwa beberapa provinsi di Indonesia mencatat konsumsi air minum dalam kemasan tertinggi.\\r\\nPada 2023, DKI Jakarta memimpin dengan 79,39% rumah tangga menggunakan air minum dalam kemasan. Provinsi lainnya seperti Kalimantan Timur, Kepulauan Riau, dan Kalimantan Utara juga menunjukkan tren serupa.\\r\\nFaktor utama yang mendorong tingginya konsumsi air kemasan di provinsi-provinsi ini adalah akses yang lebih mudah dan kesadaran akan pentingnya air bersih di tengah pertumbuhan urbanisasi yang pesat.\\r\\nPeningkatan konsumsi air minum dalam kemasan ini menimbulkan pertanyaan tentang keberlanjutan dan dampaknya terhadap ekonomi rumah tangga. Sementara itu, upaya pemerintah untuk menyediakan air minum layak melalui infrastruktur air keran, seperti yang sedang dilakukan di IKN, menjadi langkah penting untuk mengurangi ketergantungan masyarakat terhadap air kemasan.\\r\\nDengan infrastruktur yang lebih baik, diharapkan masyarakat Indonesia dapat beralih ke sumber air yang lebih efisien dan hemat biaya, tanpa mengorbankan kualitas dan kesehatan.\\r\\nAir Galon Jadi Sorotan\\r\\nEkonom senior yang merupakan mantan Menteri Keuangan, Bambang Brodjonegoro mengatakan turunnya tingkat ekonomi kelas menengah di Indonesia tidak hanya terjadi karena pandemi Covid-19 dan banyaknya pemutusan hubungan kerja (PHK). Melainkan juga akibat kebiasaan sehari-hari kebutuhan terhadap air galon.\\r\\n\"Selama ini secara tidak sadar itu sudah menggerus income kita secara lumayan dengan style kita yang mengandalkan semua kepada air galon, air botol dan segala macamnya,\" kata Bambang di kantor Kamar Dagang dan Industri (Kadin) Indonesia, Jakarta, dikutip Senin (2/8/2024).Menteri Perencanaan Pembangunan Nasional (PPN)/Kepala Bappenas periode I pemerintahan Presiden Joko Widodo itu menekankan, kebiasaan mengkonsumsi air dalam kemasan tidak terjadi di semua negara.\\r\\nDi negara maju misalnya, warga kelas menengah terbiasa menenggak air minum yang disediakan pemerintah di tempat-tempat umum. Dengan adanya fasilitas air minum massal itu, masyarakat negara maju tidak perlu mengeluarkan uang untuk membeli minum.\\r\\n\"Daya beli kelas menengahnya aman karena untuk air pun mereka tidak perlu mengeluarkan uang terlalu banyak,\" kata dia.\\r\\nMeski begitu, Bambang mengatakan faktor kebutuhan air minum hanyalah satu dari banyak faktor lain yang menyebabkan banyak kelas menengah turun \\'kasta\\' ke kelas ekonomi yang lebih rendah. Bambang menduga faktor utama tumbangnya kelas menengah RI adalah pandemi Covid-19.\\r\\n\"Penyebabnya itu variatif. Karena kan kita lihat datanya dari 2019 ke 2023. Jadi penyebab pertama adalah Covid,\" ujar dia.\\r\\n\\r\\nCNBC INDONESIA RESEARCH[email\\xa0protected]\\r\\n'"
      ]
     },
     "execution_count": 23,
     "metadata": {},
     "output_type": "execute_result"
    }
   ],
   "source": [
    "data[\"isi\"][0]"
   ]
  },
  {
   "cell_type": "code",
   "execution_count": 24,
   "id": "826e6758-7b5d-4b94-acf4-19583b6024e7",
   "metadata": {},
   "outputs": [
    {
     "data": {
      "text/plain": [
       "'jakarta cnbc indonesia butuh air galon indonesia sorot utama konteks dampak ekonomi rumah tangga kelas tengah mantan menteri uang bambang brodjonegoro biasa masyarakat indonesia gantung air kemas air galon sadar gerus dapat rumah tangga kalang kelas tengah buruk kondisi ekonomi pasca pandemi covid 19 sebab kelas tengah turun kelas ekonomi rendah muncul indonesia andal air keran sumber air minum layak negara maju air keran langsung minum fasilitas sedia masyarakat keluar uang ekstra beli air kemas indonesia guna air keran air minum kembang signifikan kota negara ikn nusantara proyek salur air keran jalan menteri pupr basuki hadimuljono fasilitas reservoir instalasi olah air minum ipa paku distribusi air minum air bersih kawasan ikn upaya guna air keran ikn data konsumsi air minum kemas rumah tangga indonesia minta air minum kemas cenderung tingkat data badan pusat statistik bps fluktuasi persentase rumah tangga air minum kemas alami tingkat daerah kota picu tingkat sadar bersih kualitas air minum kalang masyarakat data provinsi indonesia catat konsumsi air minum kemas tinggi 2023 dki jakarta pimpin 79 39 rumah tangga air minum kemas provinsi kalimantan timur pulau riau kalimantan utara tren faktor utama dorong tinggi konsumsi air kemas provinsi provinsi akses mudah sadar air bersih tumbuh urbanisasi pesat tingkat konsumsi air minum kemas timbul lanjut dampak ekonomi rumah tangga upaya perintah sedia air minum layak infrastruktur air keran ikn langkah kurang gantung masyarakat air kemas infrastruktur harap masyarakat indonesia alih sumber air efisien hemat biaya korban kualitas sehat air galon sorot ekonom senior mantan menteri uang bambang brodjonegoro turun tingkat ekonomi kelas tengah indonesia pandemi covid 19 banyak putus hubung kerja phk akibat biasa hari butuh air galon sadar gerus income lumayan style andal air galon air botol macam bambang kantor kamar dagang industri kadin indonesia jakarta kutip senin 2 8 2024 menteri rencana bangun nasional ppn kepala bappenas periode i perintah presiden joko widodo tekan biasa konsumsi air kemas negara negara maju warga kelas tengah biasa tenggak air minum sedia perintah fasilitas air minum massal masyarakat negara maju keluar uang beli minum daya beli kelas tengah aman air keluar uang bambang faktor butuh air minum faktor sebab kelas tengah turun kasta kelas ekonomi rendah bambang duga faktor utama tumbang kelas tengah ri pandemi covid 19 sebab variatif lihat data 2019 2023 sebab covid cnbc indonesia research email protected'"
      ]
     },
     "execution_count": 24,
     "metadata": {},
     "output_type": "execute_result"
    }
   ],
   "source": [
    "data[\"cleaned\"][0]"
   ]
  },
  {
   "cell_type": "markdown",
   "id": "0d8ba9d8-e8bb-4795-9b41-00f1c63a89fc",
   "metadata": {
    "id": "0d8ba9d8-e8bb-4795-9b41-00f1c63a89fc"
   },
   "source": [
    "### Perhitungan TF-IDF"
   ]
  },
  {
   "cell_type": "markdown",
   "id": "e77c8579-d3d5-428d-85f4-a7081c194b24",
   "metadata": {},
   "source": [
    "### Mengacak Data"
   ]
  },
  {
   "cell_type": "code",
   "execution_count": 26,
   "id": "79d388d0-cdcc-41b1-9050-c36dcccd0dd1",
   "metadata": {},
   "outputs": [
    {
     "data": {
      "text/html": [
       "<div>\n",
       "<style scoped>\n",
       "    .dataframe tbody tr th:only-of-type {\n",
       "        vertical-align: middle;\n",
       "    }\n",
       "\n",
       "    .dataframe tbody tr th {\n",
       "        vertical-align: top;\n",
       "    }\n",
       "\n",
       "    .dataframe thead th {\n",
       "        text-align: right;\n",
       "    }\n",
       "</style>\n",
       "<table border=\"1\" class=\"dataframe\">\n",
       "  <thead>\n",
       "    <tr style=\"text-align: right;\">\n",
       "      <th></th>\n",
       "      <th>isi</th>\n",
       "      <th>kategori</th>\n",
       "      <th>cleaned</th>\n",
       "    </tr>\n",
       "  </thead>\n",
       "  <tbody>\n",
       "    <tr>\n",
       "      <th>0</th>\n",
       "      <td>Jakarta, CNBC Indonesia-Dalam beberapa waktu t...</td>\n",
       "      <td>Research</td>\n",
       "      <td>jakarta cnbc indonesia butuh air galon indones...</td>\n",
       "    </tr>\n",
       "    <tr>\n",
       "      <th>1</th>\n",
       "      <td>Jakarta, CNBC Indonesia - Presiden Republik In...</td>\n",
       "      <td>News</td>\n",
       "      <td>jakarta cnbc indonesia presiden republik indon...</td>\n",
       "    </tr>\n",
       "    <tr>\n",
       "      <th>2</th>\n",
       "      <td>Jakarta, CNBC Indonesia -Tim nasional (timnas)...</td>\n",
       "      <td>Research</td>\n",
       "      <td>jakarta cnbc indonesia tim nasional timnas sep...</td>\n",
       "    </tr>\n",
       "    <tr>\n",
       "      <th>3</th>\n",
       "      <td>Jakarta, CNBC Indonesia -Bisnis air mineral ke...</td>\n",
       "      <td>Research</td>\n",
       "      <td>jakarta cnbc indonesia bisnis air mineral kema...</td>\n",
       "    </tr>\n",
       "    <tr>\n",
       "      <th>4</th>\n",
       "      <td>Jakarta, CNBC Indonesia-Ekonom senior Institut...</td>\n",
       "      <td>News</td>\n",
       "      <td>jakarta cnbc indonesia ekonom senior institute...</td>\n",
       "    </tr>\n",
       "  </tbody>\n",
       "</table>\n",
       "</div>"
      ],
      "text/plain": [
       "                                                 isi  kategori  \\\n",
       "0  Jakarta, CNBC Indonesia-Dalam beberapa waktu t...  Research   \n",
       "1  Jakarta, CNBC Indonesia - Presiden Republik In...      News   \n",
       "2  Jakarta, CNBC Indonesia -Tim nasional (timnas)...  Research   \n",
       "3  Jakarta, CNBC Indonesia -Bisnis air mineral ke...  Research   \n",
       "4  Jakarta, CNBC Indonesia-Ekonom senior Institut...      News   \n",
       "\n",
       "                                             cleaned  \n",
       "0  jakarta cnbc indonesia butuh air galon indones...  \n",
       "1  jakarta cnbc indonesia presiden republik indon...  \n",
       "2  jakarta cnbc indonesia tim nasional timnas sep...  \n",
       "3  jakarta cnbc indonesia bisnis air mineral kema...  \n",
       "4  jakarta cnbc indonesia ekonom senior institute...  "
      ]
     },
     "execution_count": 26,
     "metadata": {},
     "output_type": "execute_result"
    }
   ],
   "source": [
    "data.head()"
   ]
  },
  {
   "cell_type": "code",
   "execution_count": 27,
   "id": "0fac721e-8ec8-4bef-b9d9-c867227a76e3",
   "metadata": {},
   "outputs": [],
   "source": [
    "data = data.sample(frac = 1, ignore_index=True)"
   ]
  },
  {
   "cell_type": "code",
   "execution_count": 28,
   "id": "b06a4a7b-fb76-4ad1-a827-cd905d4bbb47",
   "metadata": {},
   "outputs": [
    {
     "data": {
      "text/html": [
       "<div>\n",
       "<style scoped>\n",
       "    .dataframe tbody tr th:only-of-type {\n",
       "        vertical-align: middle;\n",
       "    }\n",
       "\n",
       "    .dataframe tbody tr th {\n",
       "        vertical-align: top;\n",
       "    }\n",
       "\n",
       "    .dataframe thead th {\n",
       "        text-align: right;\n",
       "    }\n",
       "</style>\n",
       "<table border=\"1\" class=\"dataframe\">\n",
       "  <thead>\n",
       "    <tr style=\"text-align: right;\">\n",
       "      <th></th>\n",
       "      <th>isi</th>\n",
       "      <th>kategori</th>\n",
       "      <th>cleaned</th>\n",
       "    </tr>\n",
       "  </thead>\n",
       "  <tbody>\n",
       "    <tr>\n",
       "      <th>0</th>\n",
       "      <td>Jakarta,CNBC Indonesia-Gaharu, juga dikenal se...</td>\n",
       "      <td>Research</td>\n",
       "      <td>jakarta cnbc indonesia gaharu kenal agarwood j...</td>\n",
       "    </tr>\n",
       "    <tr>\n",
       "      <th>1</th>\n",
       "      <td>Jakarta, CNBC Indonesia- Badan Meteorologi, Kl...</td>\n",
       "      <td>News</td>\n",
       "      <td>jakarta cnbc indonesia badan meteorologi klima...</td>\n",
       "    </tr>\n",
       "    <tr>\n",
       "      <th>2</th>\n",
       "      <td>Jakarta, CNBC Indonesia -Pasar keuangan RI pad...</td>\n",
       "      <td>Research</td>\n",
       "      <td>jakarta cnbc indonesia pasar uang ri pekan ger...</td>\n",
       "    </tr>\n",
       "    <tr>\n",
       "      <th>3</th>\n",
       "      <td>Jakarta, CNBC Indonesia -Arus dana asing untuk...</td>\n",
       "      <td>Research</td>\n",
       "      <td>jakarta cnbc indonesia arus dana asing kali ca...</td>\n",
       "    </tr>\n",
       "    <tr>\n",
       "      <th>4</th>\n",
       "      <td>Jakarta, CNBC Indonesia -Wafatnya salah satu E...</td>\n",
       "      <td>Research</td>\n",
       "      <td>jakarta cnbc indonesia wafat salah ekonom seni...</td>\n",
       "    </tr>\n",
       "    <tr>\n",
       "      <th>...</th>\n",
       "      <td>...</td>\n",
       "      <td>...</td>\n",
       "      <td>...</td>\n",
       "    </tr>\n",
       "    <tr>\n",
       "      <th>75</th>\n",
       "      <td>Jakarta,CNBC Indonesia-Emiten perbankan yang t...</td>\n",
       "      <td>Research</td>\n",
       "      <td>jakarta cnbc indonesia emiten perban gabung hi...</td>\n",
       "    </tr>\n",
       "    <tr>\n",
       "      <th>76</th>\n",
       "      <td>Jakarta, CNBC Indonesia -Tim nasional (timnas)...</td>\n",
       "      <td>Research</td>\n",
       "      <td>jakarta cnbc indonesia tim nasional timnas sep...</td>\n",
       "    </tr>\n",
       "    <tr>\n",
       "      <th>77</th>\n",
       "      <td>Jakarta, CNBC Indonesia -Paus Fransiskus akan ...</td>\n",
       "      <td>Research</td>\n",
       "      <td>jakarta cnbc indonesia paus fransiskus sambang...</td>\n",
       "    </tr>\n",
       "    <tr>\n",
       "      <th>78</th>\n",
       "      <td>Jakarta, CNBC Indonesia-Ekonom senior Institut...</td>\n",
       "      <td>News</td>\n",
       "      <td>jakarta cnbc indonesia ekonom senior institute...</td>\n",
       "    </tr>\n",
       "    <tr>\n",
       "      <th>79</th>\n",
       "      <td>Jakarta, CNBC Indonesia -Wakil Presiden period...</td>\n",
       "      <td>News</td>\n",
       "      <td>jakarta cnbc indonesia wakil presiden periode ...</td>\n",
       "    </tr>\n",
       "  </tbody>\n",
       "</table>\n",
       "<p>80 rows × 3 columns</p>\n",
       "</div>"
      ],
      "text/plain": [
       "                                                  isi  kategori  \\\n",
       "0   Jakarta,CNBC Indonesia-Gaharu, juga dikenal se...  Research   \n",
       "1   Jakarta, CNBC Indonesia- Badan Meteorologi, Kl...      News   \n",
       "2   Jakarta, CNBC Indonesia -Pasar keuangan RI pad...  Research   \n",
       "3   Jakarta, CNBC Indonesia -Arus dana asing untuk...  Research   \n",
       "4   Jakarta, CNBC Indonesia -Wafatnya salah satu E...  Research   \n",
       "..                                                ...       ...   \n",
       "75  Jakarta,CNBC Indonesia-Emiten perbankan yang t...  Research   \n",
       "76  Jakarta, CNBC Indonesia -Tim nasional (timnas)...  Research   \n",
       "77  Jakarta, CNBC Indonesia -Paus Fransiskus akan ...  Research   \n",
       "78  Jakarta, CNBC Indonesia-Ekonom senior Institut...      News   \n",
       "79  Jakarta, CNBC Indonesia -Wakil Presiden period...      News   \n",
       "\n",
       "                                              cleaned  \n",
       "0   jakarta cnbc indonesia gaharu kenal agarwood j...  \n",
       "1   jakarta cnbc indonesia badan meteorologi klima...  \n",
       "2   jakarta cnbc indonesia pasar uang ri pekan ger...  \n",
       "3   jakarta cnbc indonesia arus dana asing kali ca...  \n",
       "4   jakarta cnbc indonesia wafat salah ekonom seni...  \n",
       "..                                                ...  \n",
       "75  jakarta cnbc indonesia emiten perban gabung hi...  \n",
       "76  jakarta cnbc indonesia tim nasional timnas sep...  \n",
       "77  jakarta cnbc indonesia paus fransiskus sambang...  \n",
       "78  jakarta cnbc indonesia ekonom senior institute...  \n",
       "79  jakarta cnbc indonesia wakil presiden periode ...  \n",
       "\n",
       "[80 rows x 3 columns]"
      ]
     },
     "execution_count": 28,
     "metadata": {},
     "output_type": "execute_result"
    }
   ],
   "source": [
    "data_train = data[:80]\n",
    "data_test = data[80:]\n",
    "data_train"
   ]
  },
  {
   "cell_type": "code",
   "execution_count": 30,
   "id": "13e758c6-b51e-48d5-a914-f6ffdcf56999",
   "metadata": {},
   "outputs": [],
   "source": [
    "def tfidf_vsm(data, kategori):\n",
    "\ttfidf = TfidfVectorizer()\n",
    "\ttfidf_matrix = tfidf.fit_transform(data)\n",
    "\tfeature_names = tfidf.get_feature_names_out()\n",
    "\t\n",
    "\tdf_tfidf = pd.DataFrame(tfidf_matrix.toarray(), columns=feature_names)\n",
    "\tdf_tfidf.insert(0, 'Kategori Berita', kategori.reset_index(drop=True))\n",
    "\n",
    "\treturn tfidf, df_tfidf\n",
    "\n",
    "tfidf_model, df_tfidf = tfidf_vsm(data_train['cleaned'], data_train['kategori'])"
   ]
  },
  {
   "cell_type": "code",
   "execution_count": 32,
   "id": "952dfd38-3df3-4b4f-9cd1-5fd3ebd3af30",
   "metadata": {},
   "outputs": [],
   "source": [
    "def model_tf_idf(data, model, kategori):\n",
    "\ttfidf_matrix = model.transform(data)\n",
    "\tfeature_names = model.get_feature_names_out()\n",
    "\t\n",
    "\tdf_tfidf = pd.DataFrame(tfidf_matrix.toarray(), columns=feature_names)\n",
    "\tdf_tfidf.insert(0, 'Kategori Berita', kategori.reset_index(drop=True))\n",
    "\n",
    "\treturn df_tfidf\n",
    "\n",
    "df_tfidf_test = model_tf_idf(data_test['cleaned'], tfidf_model, data_test['kategori'])"
   ]
  },
  {
   "cell_type": "code",
   "execution_count": 33,
   "id": "504f4a55-c6a3-46b1-b38f-fac0a27f7aba",
   "metadata": {},
   "outputs": [
    {
     "data": {
      "text/html": [
       "<div>\n",
       "<style scoped>\n",
       "    .dataframe tbody tr th:only-of-type {\n",
       "        vertical-align: middle;\n",
       "    }\n",
       "\n",
       "    .dataframe tbody tr th {\n",
       "        vertical-align: top;\n",
       "    }\n",
       "\n",
       "    .dataframe thead th {\n",
       "        text-align: right;\n",
       "    }\n",
       "</style>\n",
       "<table border=\"1\" class=\"dataframe\">\n",
       "  <thead>\n",
       "    <tr style=\"text-align: right;\">\n",
       "      <th></th>\n",
       "      <th>Kategori Berita</th>\n",
       "      <th>00</th>\n",
       "      <th>000</th>\n",
       "      <th>00badan</th>\n",
       "      <th>00raker</th>\n",
       "      <th>00rapat</th>\n",
       "      <th>01</th>\n",
       "      <th>02</th>\n",
       "      <th>029</th>\n",
       "      <th>03</th>\n",
       "      <th>...</th>\n",
       "      <th>zalewski</th>\n",
       "      <th>zamrud</th>\n",
       "      <th>zaner</th>\n",
       "      <th>zenix</th>\n",
       "      <th>zero</th>\n",
       "      <th>zimbabwe</th>\n",
       "      <th>zona</th>\n",
       "      <th>zonamegathrustbukanlah</th>\n",
       "      <th>zonamegathrusttersebut</th>\n",
       "      <th>zonamegathrustyang</th>\n",
       "    </tr>\n",
       "  </thead>\n",
       "  <tbody>\n",
       "    <tr>\n",
       "      <th>0</th>\n",
       "      <td>News</td>\n",
       "      <td>0.000000</td>\n",
       "      <td>0.00000</td>\n",
       "      <td>0.0</td>\n",
       "      <td>0.0</td>\n",
       "      <td>0.0</td>\n",
       "      <td>0.0</td>\n",
       "      <td>0.0</td>\n",
       "      <td>0.0</td>\n",
       "      <td>0.0</td>\n",
       "      <td>...</td>\n",
       "      <td>0.0</td>\n",
       "      <td>0.0</td>\n",
       "      <td>0.0</td>\n",
       "      <td>0.0</td>\n",
       "      <td>0.0</td>\n",
       "      <td>0.0</td>\n",
       "      <td>0.0</td>\n",
       "      <td>0.0</td>\n",
       "      <td>0.0</td>\n",
       "      <td>0.0</td>\n",
       "    </tr>\n",
       "    <tr>\n",
       "      <th>1</th>\n",
       "      <td>News</td>\n",
       "      <td>0.000000</td>\n",
       "      <td>0.04248</td>\n",
       "      <td>0.0</td>\n",
       "      <td>0.0</td>\n",
       "      <td>0.0</td>\n",
       "      <td>0.0</td>\n",
       "      <td>0.0</td>\n",
       "      <td>0.0</td>\n",
       "      <td>0.0</td>\n",
       "      <td>...</td>\n",
       "      <td>0.0</td>\n",
       "      <td>0.0</td>\n",
       "      <td>0.0</td>\n",
       "      <td>0.0</td>\n",
       "      <td>0.0</td>\n",
       "      <td>0.0</td>\n",
       "      <td>0.0</td>\n",
       "      <td>0.0</td>\n",
       "      <td>0.0</td>\n",
       "      <td>0.0</td>\n",
       "    </tr>\n",
       "    <tr>\n",
       "      <th>2</th>\n",
       "      <td>Research</td>\n",
       "      <td>0.171637</td>\n",
       "      <td>0.00000</td>\n",
       "      <td>0.0</td>\n",
       "      <td>0.0</td>\n",
       "      <td>0.0</td>\n",
       "      <td>0.0</td>\n",
       "      <td>0.0</td>\n",
       "      <td>0.0</td>\n",
       "      <td>0.0</td>\n",
       "      <td>...</td>\n",
       "      <td>0.0</td>\n",
       "      <td>0.0</td>\n",
       "      <td>0.0</td>\n",
       "      <td>0.0</td>\n",
       "      <td>0.0</td>\n",
       "      <td>0.0</td>\n",
       "      <td>0.0</td>\n",
       "      <td>0.0</td>\n",
       "      <td>0.0</td>\n",
       "      <td>0.0</td>\n",
       "    </tr>\n",
       "    <tr>\n",
       "      <th>3</th>\n",
       "      <td>News</td>\n",
       "      <td>0.000000</td>\n",
       "      <td>0.00000</td>\n",
       "      <td>0.0</td>\n",
       "      <td>0.0</td>\n",
       "      <td>0.0</td>\n",
       "      <td>0.0</td>\n",
       "      <td>0.0</td>\n",
       "      <td>0.0</td>\n",
       "      <td>0.0</td>\n",
       "      <td>...</td>\n",
       "      <td>0.0</td>\n",
       "      <td>0.0</td>\n",
       "      <td>0.0</td>\n",
       "      <td>0.0</td>\n",
       "      <td>0.0</td>\n",
       "      <td>0.0</td>\n",
       "      <td>0.0</td>\n",
       "      <td>0.0</td>\n",
       "      <td>0.0</td>\n",
       "      <td>0.0</td>\n",
       "    </tr>\n",
       "    <tr>\n",
       "      <th>4</th>\n",
       "      <td>News</td>\n",
       "      <td>0.000000</td>\n",
       "      <td>0.00000</td>\n",
       "      <td>0.0</td>\n",
       "      <td>0.0</td>\n",
       "      <td>0.0</td>\n",
       "      <td>0.0</td>\n",
       "      <td>0.0</td>\n",
       "      <td>0.0</td>\n",
       "      <td>0.0</td>\n",
       "      <td>...</td>\n",
       "      <td>0.0</td>\n",
       "      <td>0.0</td>\n",
       "      <td>0.0</td>\n",
       "      <td>0.0</td>\n",
       "      <td>0.0</td>\n",
       "      <td>0.0</td>\n",
       "      <td>0.0</td>\n",
       "      <td>0.0</td>\n",
       "      <td>0.0</td>\n",
       "      <td>0.0</td>\n",
       "    </tr>\n",
       "  </tbody>\n",
       "</table>\n",
       "<p>5 rows × 3969 columns</p>\n",
       "</div>"
      ],
      "text/plain": [
       "  Kategori Berita        00      000  00badan  00raker  00rapat   01   02  \\\n",
       "0            News  0.000000  0.00000      0.0      0.0      0.0  0.0  0.0   \n",
       "1            News  0.000000  0.04248      0.0      0.0      0.0  0.0  0.0   \n",
       "2        Research  0.171637  0.00000      0.0      0.0      0.0  0.0  0.0   \n",
       "3            News  0.000000  0.00000      0.0      0.0      0.0  0.0  0.0   \n",
       "4            News  0.000000  0.00000      0.0      0.0      0.0  0.0  0.0   \n",
       "\n",
       "   029   03  ...  zalewski  zamrud  zaner  zenix  zero  zimbabwe  zona  \\\n",
       "0  0.0  0.0  ...       0.0     0.0    0.0    0.0   0.0       0.0   0.0   \n",
       "1  0.0  0.0  ...       0.0     0.0    0.0    0.0   0.0       0.0   0.0   \n",
       "2  0.0  0.0  ...       0.0     0.0    0.0    0.0   0.0       0.0   0.0   \n",
       "3  0.0  0.0  ...       0.0     0.0    0.0    0.0   0.0       0.0   0.0   \n",
       "4  0.0  0.0  ...       0.0     0.0    0.0    0.0   0.0       0.0   0.0   \n",
       "\n",
       "   zonamegathrustbukanlah  zonamegathrusttersebut  zonamegathrustyang  \n",
       "0                     0.0                     0.0                 0.0  \n",
       "1                     0.0                     0.0                 0.0  \n",
       "2                     0.0                     0.0                 0.0  \n",
       "3                     0.0                     0.0                 0.0  \n",
       "4                     0.0                     0.0                 0.0  \n",
       "\n",
       "[5 rows x 3969 columns]"
      ]
     },
     "execution_count": 33,
     "metadata": {},
     "output_type": "execute_result"
    }
   ],
   "source": [
    "df_tfidf_test.head()"
   ]
  },
  {
   "cell_type": "code",
   "execution_count": null,
   "id": "eb715238-99c4-4035-99cd-2eadc59dca62",
   "metadata": {},
   "outputs": [],
   "source": []
  },
  {
   "cell_type": "markdown",
   "id": "d3fb8df2-cc17-44ab-9b97-13b12a22ece7",
   "metadata": {
    "id": "d3fb8df2-cc17-44ab-9b97-13b12a22ece7"
   },
   "source": [
    "#### Save Dataset"
   ]
  },
  {
   "cell_type": "code",
   "execution_count": 34,
   "id": "d461856d-cef3-467e-9276-9ce311cdd9f4",
   "metadata": {},
   "outputs": [],
   "source": [
    "df_tfidf.to_csv(\"data_train_vsm.csv\", index=False)\n",
    "df_tfidf_test.to_csv(\"data_test_vsm.csv\", index=False)"
   ]
  },
  {
   "cell_type": "code",
   "execution_count": 36,
   "id": "1401dccc-ba85-4fd4-90d6-0d6866ecc61f",
   "metadata": {},
   "outputs": [],
   "source": [
    "import pickle"
   ]
  },
  {
   "cell_type": "code",
   "execution_count": 37,
   "id": "071f7708-2186-4f68-9a53-64fdeea99baa",
   "metadata": {},
   "outputs": [],
   "source": [
    "with open('tfidf_model.pkl', 'wb') as f:\n",
    "    pickle.dump(tfidf_model, f)"
   ]
  }
 ],
 "metadata": {
  "colab": {
   "provenance": []
  },
  "kernelspec": {
   "display_name": "Python 3 (ipykernel)",
   "language": "python",
   "name": "python3"
  },
  "language_info": {
   "codemirror_mode": {
    "name": "ipython",
    "version": 3
   },
   "file_extension": ".py",
   "mimetype": "text/x-python",
   "name": "python",
   "nbconvert_exporter": "python",
   "pygments_lexer": "ipython3",
   "version": "3.11.9"
  }
 },
 "nbformat": 4,
 "nbformat_minor": 5
}