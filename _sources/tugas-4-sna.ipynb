{
 "cells": [
  {
   "cell_type": "markdown",
   "metadata": {},
   "source": [
    "# Ringkasan Berita\n"
   ]
  },
  {
   "cell_type": "markdown",
   "metadata": {},
   "source": [
    "Ringkasan berita digunakan untuk mempermudah ketika ingin mengetahui isi berita secara jelas dan ringkas\n"
   ]
  },
  {
   "cell_type": "markdown",
   "metadata": {},
   "source": [
    "## Proses Pembersihan Teks\n"
   ]
  },
  {
   "cell_type": "markdown",
   "metadata": {},
   "source": [
    "### Import Library\n"
   ]
  },
  {
   "cell_type": "code",
   "execution_count": 1,
   "metadata": {},
   "outputs": [],
   "source": [
    "import nltk\n",
    "from nltk.corpus import stopwords\n",
    "from nltk.tokenize import word_tokenize\n",
    "import re\n",
    "\n",
    "import pandas as pd\n",
    "import networkx as nx\n",
    "import matplotlib.pyplot as plt\n",
    "from tqdm import tqdm\n",
    "\n",
    "from sklearn.feature_extraction.text import TfidfVectorizer\n",
    "from sklearn.metrics.pairwise import cosine_similarity "
   ]
  },
  {
   "cell_type": "code",
   "execution_count": 2,
   "metadata": {},
   "outputs": [
    {
     "name": "stderr",
     "output_type": "stream",
     "text": [
      "[nltk_data] Downloading package punkt_tab to\n",
      "[nltk_data]     C:\\Users\\akhyar\\AppData\\Roaming\\nltk_data...\n",
      "[nltk_data]   Unzipping tokenizers\\punkt_tab.zip.\n"
     ]
    },
    {
     "data": {
      "text/plain": [
       "True"
      ]
     },
     "execution_count": 2,
     "metadata": {},
     "output_type": "execute_result"
    }
   ],
   "source": [
    "nltk.download('punkt_tab')"
   ]
  },
  {
   "cell_type": "markdown",
   "metadata": {},
   "source": [
    "### Load Data\n"
   ]
  },
  {
   "cell_type": "code",
   "execution_count": 3,
   "metadata": {},
   "outputs": [
    {
     "data": {
      "text/html": [
       "<div>\n",
       "<style scoped>\n",
       "    .dataframe tbody tr th:only-of-type {\n",
       "        vertical-align: middle;\n",
       "    }\n",
       "\n",
       "    .dataframe tbody tr th {\n",
       "        vertical-align: top;\n",
       "    }\n",
       "\n",
       "    .dataframe thead th {\n",
       "        text-align: right;\n",
       "    }\n",
       "</style>\n",
       "<table border=\"1\" class=\"dataframe\">\n",
       "  <thead>\n",
       "    <tr style=\"text-align: right;\">\n",
       "      <th></th>\n",
       "      <th>judul</th>\n",
       "      <th>tanggal</th>\n",
       "      <th>isi</th>\n",
       "      <th>url</th>\n",
       "      <th>kategori</th>\n",
       "    </tr>\n",
       "  </thead>\n",
       "  <tbody>\n",
       "    <tr>\n",
       "      <th>0</th>\n",
       "      <td>Bukan Kaleng-kaleng! Nilai Skuad Timnas Indone...</td>\n",
       "      <td>09 September 2024 19:30</td>\n",
       "      <td>Jakarta, CNBC Indonesia -Kedatangan pemain-pem...</td>\n",
       "      <td>https://www.cnbcindonesia.com/research/2024090...</td>\n",
       "      <td>Research</td>\n",
       "    </tr>\n",
       "    <tr>\n",
       "      <th>1</th>\n",
       "      <td>Aset Bank Mandiri Tembus Rp 2.200 T, Paling Ju...</td>\n",
       "      <td>09 September 2024 19:05</td>\n",
       "      <td>Jakarta, CNBC Indonesia -Sepanjang paruh perta...</td>\n",
       "      <td>https://www.cnbcindonesia.com/research/2024090...</td>\n",
       "      <td>Research</td>\n",
       "    </tr>\n",
       "    <tr>\n",
       "      <th>2</th>\n",
       "      <td>Emas Meredup Saat Suku Bunga The Fed Mau Turun...</td>\n",
       "      <td>09 September 2024 18:10</td>\n",
       "      <td>Jakarta,CNBC Indonesia -Harga emas dunia melem...</td>\n",
       "      <td>https://www.cnbcindonesia.com/research/2024090...</td>\n",
       "      <td>Research</td>\n",
       "    </tr>\n",
       "    <tr>\n",
       "      <th>3</th>\n",
       "      <td>Tetangga RI Dihantam 'Bencana' Iklim, Harga Ba...</td>\n",
       "      <td>09 September 2024 15:55</td>\n",
       "      <td>Jakarta, CNBC Indonesia -Indeks Harga Konsumen...</td>\n",
       "      <td>https://www.cnbcindonesia.com/research/2024090...</td>\n",
       "      <td>Research</td>\n",
       "    </tr>\n",
       "    <tr>\n",
       "      <th>4</th>\n",
       "      <td>Tantama Hingga Perwira, Ini Urutan Lengkap Pan...</td>\n",
       "      <td>09 September 2024 14:35</td>\n",
       "      <td>Jakarta, CNBC Indonesia-Tentara Nasional Indon...</td>\n",
       "      <td>https://www.cnbcindonesia.com/research/2024090...</td>\n",
       "      <td>Research</td>\n",
       "    </tr>\n",
       "  </tbody>\n",
       "</table>\n",
       "</div>"
      ],
      "text/plain": [
       "                                               judul                  tanggal  \\\n",
       "0  Bukan Kaleng-kaleng! Nilai Skuad Timnas Indone...  09 September 2024 19:30   \n",
       "1  Aset Bank Mandiri Tembus Rp 2.200 T, Paling Ju...  09 September 2024 19:05   \n",
       "2  Emas Meredup Saat Suku Bunga The Fed Mau Turun...  09 September 2024 18:10   \n",
       "3  Tetangga RI Dihantam 'Bencana' Iklim, Harga Ba...  09 September 2024 15:55   \n",
       "4  Tantama Hingga Perwira, Ini Urutan Lengkap Pan...  09 September 2024 14:35   \n",
       "\n",
       "                                                 isi  \\\n",
       "0  Jakarta, CNBC Indonesia -Kedatangan pemain-pem...   \n",
       "1  Jakarta, CNBC Indonesia -Sepanjang paruh perta...   \n",
       "2  Jakarta,CNBC Indonesia -Harga emas dunia melem...   \n",
       "3  Jakarta, CNBC Indonesia -Indeks Harga Konsumen...   \n",
       "4  Jakarta, CNBC Indonesia-Tentara Nasional Indon...   \n",
       "\n",
       "                                                 url  kategori  \n",
       "0  https://www.cnbcindonesia.com/research/2024090...  Research  \n",
       "1  https://www.cnbcindonesia.com/research/2024090...  Research  \n",
       "2  https://www.cnbcindonesia.com/research/2024090...  Research  \n",
       "3  https://www.cnbcindonesia.com/research/2024090...  Research  \n",
       "4  https://www.cnbcindonesia.com/research/2024090...  Research  "
      ]
     },
     "execution_count": 3,
     "metadata": {},
     "output_type": "execute_result"
    }
   ],
   "source": [
    "data = pd.read_csv('data-artikel-cnbc.csv')\n",
    "data.head()"
   ]
  },
  {
   "cell_type": "code",
   "execution_count": 4,
   "metadata": {},
   "outputs": [],
   "source": [
    "# Filter data untuk kategori \"Research\" dan \"News\" masing-masing diambil 50 berita\n",
    "research = data[data[\"kategori\"] == \"Research\"].sample(n=50, random_state=42)\n",
    "news = data[data[\"kategori\"] == \"News\"].sample(n=50, random_state=42)"
   ]
  },
  {
   "cell_type": "code",
   "execution_count": 5,
   "metadata": {},
   "outputs": [],
   "source": [
    "# Gabungkan keduanya\n",
    "df = pd.concat([research, news], ignore_index=True)"
   ]
  },
  {
   "cell_type": "markdown",
   "metadata": {},
   "source": [
    "### Preprocessing Text\n"
   ]
  },
  {
   "cell_type": "code",
   "execution_count": 6,
   "metadata": {},
   "outputs": [],
   "source": [
    "def clean_text(text):\n",
    "\ttext = re.sub(r'((www\\.[^\\s]+)|(https?://[^\\s]+))', ' ', text) # Menghapus https* and www*\n",
    "\ttext = re.sub(r'@[^\\s]+', ' ', text) # Menghapus username\n",
    "\ttext = re.sub(r'[\\s]+', ' ', text) # Menghapus tambahan spasi\n",
    "\ttext = re.sub(r'#([^\\s]+)', ' ', text) # Menghapus hashtags\n",
    "\ttext = re.sub(r'rt', ' ', text) # Menghapus retweet\n",
    "\ttext = re.sub(r\"[^a-zA-Z :\\.]\", \"\", text) # Menghapus tanda baca\n",
    "\ttext = re.sub(r'\\d', ' ', text) # Menghapus angka\n",
    "\ttext = text.lower()\n",
    "\ttext = text.encode('ascii','ignore').decode('utf-8') #Menghapus ASCII dan unicode\n",
    "\ttext = re.sub(r'[^\\x00-\\x7f]',r'', text)\n",
    "\ttext = text.replace('\\n','') #Menghapus baris baru\n",
    "\ttext = text.strip()\n",
    "\treturn text\n",
    "\n",
    "def clean_stopword(tokens):\n",
    "\tlistStopword =  set(stopwords.words('indonesian'))\n",
    "\tfiltered_words = [word for word in tokens if word.lower() not in listStopword]\n",
    "\treturn filtered_words"
   ]
  },
  {
   "cell_type": "code",
   "execution_count": 7,
   "metadata": {},
   "outputs": [
    {
     "name": "stderr",
     "output_type": "stream",
     "text": [
      "100%|███████████████████████████████████████████████████████████| 398/398 [00:02<00:00, 189.14it/s]\n"
     ]
    }
   ],
   "source": [
    "def preprocess_text(content):\n",
    "\tresult = {}\n",
    "\tfor i, text in enumerate(tqdm(content)):\n",
    "\t\tcleaned_text = clean_text(text)\n",
    "\t\ttokens = word_tokenize(cleaned_text)\n",
    "\t\tcleaned_stopword = clean_stopword(tokens)\n",
    "\t\tresult[i] = ' '.join(cleaned_stopword)\n",
    "\treturn result\n",
    "\n",
    "prep_result = preprocess_text(data['isi'])"
   ]
  },
  {
   "cell_type": "code",
   "execution_count": 8,
   "metadata": {},
   "outputs": [
    {
     "name": "stdout",
     "output_type": "stream",
     "text": [
      "jaka a cnbc indonesiatentara nasional indonesia tni memiliki struktur kepangkatan ketat terorganisir . pangkat tni dibagi golongan utama perwira bintara tamtama . tni tni angkatan darat tni ad tni angkatan udara tni au tni angkatan laut tni al dipimpin panglima tni . prajurit tni pangkat . pangkat keabsahan wewenang tanggung hierarki keprajuritan didasarkan kualifikasi dimiliki prajurit . dikutip peraturan pemerintah nomor administrasi prajurit tni sifatnya pangkat dibedakan pangkat efektif prajurit menjalani dinas keprajuritan membawa akibat administrasi penuh . penjelasan lengkap urutan pangkat tni perwira tamtama . cnbc indonesia research email protected\n"
     ]
    }
   ],
   "source": [
    "print(prep_result[4])"
   ]
  },
  {
   "cell_type": "markdown",
   "metadata": {},
   "source": [
    "### Memisahkan Berita\n"
   ]
  },
  {
   "cell_type": "code",
   "execution_count": 9,
   "metadata": {},
   "outputs": [],
   "source": [
    "kalimat_preprocessing = nltk.sent_tokenize(prep_result[4])\n",
    "kalimat = nltk.sent_tokenize(data['isi'][4])"
   ]
  },
  {
   "cell_type": "markdown",
   "metadata": {},
   "source": [
    "## TF-IDF\n"
   ]
  },
  {
   "cell_type": "markdown",
   "metadata": {},
   "source": [
    "$$W_{d,t} = tf_{t,d} \\cdot idf_{t,d}$$\n"
   ]
  },
  {
   "cell_type": "markdown",
   "metadata": {},
   "source": [
    "Keterangan:\n",
    "\n",
    "$W_{d,t}$ = Nilai _Term Frequency_ untuk _term_ (t) dalam dokumen (d).<br>\n",
    "$tf_{t,d}$ = Frekuensi kemunculan _term_ (t) dalam dokumen (d).<br>\n",
    "$idf_{t,d}$ = Inverse Document Frequency Nilai kebalikan frekuensi dokumen _term_ (t) dalam dokumen (d).\n"
   ]
  },
  {
   "cell_type": "markdown",
   "metadata": {},
   "source": [
    "$$tf= \\frac{tf}{max(tf)}$$\n"
   ]
  },
  {
   "cell_type": "markdown",
   "metadata": {},
   "source": [
    "Keterangan:\n",
    "\n",
    "$tf$ = banyaknya kata yang dicari dalam dokumen<br>\n",
    "$max⁡(tf)$ = jumlah kemunculan term terbanyak pada dokumen yang sama\n"
   ]
  },
  {
   "cell_type": "markdown",
   "metadata": {},
   "source": [
    "$$idf_{t}= \\frac{D}{max(df_{t})}$$\n"
   ]
  },
  {
   "cell_type": "markdown",
   "metadata": {},
   "source": [
    "Keterangan:\n",
    "\n",
    "$D$ = total dokumen<br>\n",
    "$df(t)$ = jumlah dokumen yang mengandung _term_ (t)\n"
   ]
  },
  {
   "cell_type": "markdown",
   "metadata": {},
   "source": [
    "### TF-IDF tanpa Preprocessing\n"
   ]
  },
  {
   "cell_type": "code",
   "execution_count": 10,
   "metadata": {},
   "outputs": [
    {
     "data": {
      "text/html": [
       "<div>\n",
       "<style scoped>\n",
       "    .dataframe tbody tr th:only-of-type {\n",
       "        vertical-align: middle;\n",
       "    }\n",
       "\n",
       "    .dataframe tbody tr th {\n",
       "        vertical-align: top;\n",
       "    }\n",
       "\n",
       "    .dataframe thead th {\n",
       "        text-align: right;\n",
       "    }\n",
       "</style>\n",
       "<table border=\"1\" class=\"dataframe\">\n",
       "  <thead>\n",
       "    <tr style=\"text-align: right;\">\n",
       "      <th></th>\n",
       "      <th>2010</th>\n",
       "      <th>39</th>\n",
       "      <th>ad</th>\n",
       "      <th>adalah</th>\n",
       "      <th>administrasi</th>\n",
       "      <th>akibat</th>\n",
       "      <th>al</th>\n",
       "      <th>angkatan</th>\n",
       "      <th>atas</th>\n",
       "      <th>au</th>\n",
       "      <th>...</th>\n",
       "      <th>terdiri</th>\n",
       "      <th>terorganisir</th>\n",
       "      <th>tiga</th>\n",
       "      <th>tni</th>\n",
       "      <th>udara</th>\n",
       "      <th>urutan</th>\n",
       "      <th>utama</th>\n",
       "      <th>wewenang</th>\n",
       "      <th>yakni</th>\n",
       "      <th>yang</th>\n",
       "    </tr>\n",
       "  </thead>\n",
       "  <tbody>\n",
       "    <tr>\n",
       "      <th>0</th>\n",
       "      <td>0.000000</td>\n",
       "      <td>0.000000</td>\n",
       "      <td>0.000000</td>\n",
       "      <td>0.000000</td>\n",
       "      <td>0.000000</td>\n",
       "      <td>0.000000</td>\n",
       "      <td>0.000000</td>\n",
       "      <td>0.000000</td>\n",
       "      <td>0.000000</td>\n",
       "      <td>0.000000</td>\n",
       "      <td>...</td>\n",
       "      <td>0.000000</td>\n",
       "      <td>0.262806</td>\n",
       "      <td>0.000000</td>\n",
       "      <td>0.131327</td>\n",
       "      <td>0.000000</td>\n",
       "      <td>0.00000</td>\n",
       "      <td>0.000000</td>\n",
       "      <td>0.000000</td>\n",
       "      <td>0.000000</td>\n",
       "      <td>0.166640</td>\n",
       "    </tr>\n",
       "    <tr>\n",
       "      <th>1</th>\n",
       "      <td>0.000000</td>\n",
       "      <td>0.000000</td>\n",
       "      <td>0.000000</td>\n",
       "      <td>0.000000</td>\n",
       "      <td>0.000000</td>\n",
       "      <td>0.000000</td>\n",
       "      <td>0.000000</td>\n",
       "      <td>0.000000</td>\n",
       "      <td>0.000000</td>\n",
       "      <td>0.000000</td>\n",
       "      <td>...</td>\n",
       "      <td>0.000000</td>\n",
       "      <td>0.000000</td>\n",
       "      <td>0.319316</td>\n",
       "      <td>0.159566</td>\n",
       "      <td>0.000000</td>\n",
       "      <td>0.00000</td>\n",
       "      <td>0.319316</td>\n",
       "      <td>0.000000</td>\n",
       "      <td>0.319316</td>\n",
       "      <td>0.000000</td>\n",
       "    </tr>\n",
       "    <tr>\n",
       "      <th>2</th>\n",
       "      <td>0.000000</td>\n",
       "      <td>0.000000</td>\n",
       "      <td>0.160284</td>\n",
       "      <td>0.000000</td>\n",
       "      <td>0.000000</td>\n",
       "      <td>0.000000</td>\n",
       "      <td>0.160284</td>\n",
       "      <td>0.480853</td>\n",
       "      <td>0.115917</td>\n",
       "      <td>0.160284</td>\n",
       "      <td>...</td>\n",
       "      <td>0.160284</td>\n",
       "      <td>0.000000</td>\n",
       "      <td>0.000000</td>\n",
       "      <td>0.640767</td>\n",
       "      <td>0.160284</td>\n",
       "      <td>0.00000</td>\n",
       "      <td>0.000000</td>\n",
       "      <td>0.000000</td>\n",
       "      <td>0.000000</td>\n",
       "      <td>0.101633</td>\n",
       "    </tr>\n",
       "    <tr>\n",
       "      <th>3</th>\n",
       "      <td>0.000000</td>\n",
       "      <td>0.000000</td>\n",
       "      <td>0.000000</td>\n",
       "      <td>0.000000</td>\n",
       "      <td>0.000000</td>\n",
       "      <td>0.000000</td>\n",
       "      <td>0.000000</td>\n",
       "      <td>0.000000</td>\n",
       "      <td>0.000000</td>\n",
       "      <td>0.000000</td>\n",
       "      <td>...</td>\n",
       "      <td>0.000000</td>\n",
       "      <td>0.000000</td>\n",
       "      <td>0.000000</td>\n",
       "      <td>0.299163</td>\n",
       "      <td>0.000000</td>\n",
       "      <td>0.00000</td>\n",
       "      <td>0.000000</td>\n",
       "      <td>0.000000</td>\n",
       "      <td>0.000000</td>\n",
       "      <td>0.000000</td>\n",
       "    </tr>\n",
       "    <tr>\n",
       "      <th>4</th>\n",
       "      <td>0.000000</td>\n",
       "      <td>0.000000</td>\n",
       "      <td>0.000000</td>\n",
       "      <td>0.212074</td>\n",
       "      <td>0.000000</td>\n",
       "      <td>0.000000</td>\n",
       "      <td>0.000000</td>\n",
       "      <td>0.000000</td>\n",
       "      <td>0.183003</td>\n",
       "      <td>0.000000</td>\n",
       "      <td>...</td>\n",
       "      <td>0.000000</td>\n",
       "      <td>0.000000</td>\n",
       "      <td>0.000000</td>\n",
       "      <td>0.000000</td>\n",
       "      <td>0.000000</td>\n",
       "      <td>0.00000</td>\n",
       "      <td>0.000000</td>\n",
       "      <td>0.253049</td>\n",
       "      <td>0.000000</td>\n",
       "      <td>0.320906</td>\n",
       "    </tr>\n",
       "    <tr>\n",
       "      <th>5</th>\n",
       "      <td>0.181828</td>\n",
       "      <td>0.181828</td>\n",
       "      <td>0.000000</td>\n",
       "      <td>0.000000</td>\n",
       "      <td>0.363656</td>\n",
       "      <td>0.181828</td>\n",
       "      <td>0.000000</td>\n",
       "      <td>0.000000</td>\n",
       "      <td>0.131497</td>\n",
       "      <td>0.000000</td>\n",
       "      <td>...</td>\n",
       "      <td>0.000000</td>\n",
       "      <td>0.000000</td>\n",
       "      <td>0.000000</td>\n",
       "      <td>0.090861</td>\n",
       "      <td>0.000000</td>\n",
       "      <td>0.00000</td>\n",
       "      <td>0.000000</td>\n",
       "      <td>0.000000</td>\n",
       "      <td>0.000000</td>\n",
       "      <td>0.115294</td>\n",
       "    </tr>\n",
       "    <tr>\n",
       "      <th>6</th>\n",
       "      <td>0.000000</td>\n",
       "      <td>0.000000</td>\n",
       "      <td>0.000000</td>\n",
       "      <td>0.253879</td>\n",
       "      <td>0.000000</td>\n",
       "      <td>0.000000</td>\n",
       "      <td>0.000000</td>\n",
       "      <td>0.000000</td>\n",
       "      <td>0.000000</td>\n",
       "      <td>0.000000</td>\n",
       "      <td>...</td>\n",
       "      <td>0.000000</td>\n",
       "      <td>0.000000</td>\n",
       "      <td>0.000000</td>\n",
       "      <td>0.151377</td>\n",
       "      <td>0.000000</td>\n",
       "      <td>0.30293</td>\n",
       "      <td>0.000000</td>\n",
       "      <td>0.000000</td>\n",
       "      <td>0.000000</td>\n",
       "      <td>0.000000</td>\n",
       "    </tr>\n",
       "    <tr>\n",
       "      <th>7</th>\n",
       "      <td>0.000000</td>\n",
       "      <td>0.000000</td>\n",
       "      <td>0.000000</td>\n",
       "      <td>0.000000</td>\n",
       "      <td>0.000000</td>\n",
       "      <td>0.000000</td>\n",
       "      <td>0.000000</td>\n",
       "      <td>0.000000</td>\n",
       "      <td>0.000000</td>\n",
       "      <td>0.000000</td>\n",
       "      <td>...</td>\n",
       "      <td>0.000000</td>\n",
       "      <td>0.000000</td>\n",
       "      <td>0.000000</td>\n",
       "      <td>0.000000</td>\n",
       "      <td>0.000000</td>\n",
       "      <td>0.00000</td>\n",
       "      <td>0.000000</td>\n",
       "      <td>0.000000</td>\n",
       "      <td>0.000000</td>\n",
       "      <td>0.000000</td>\n",
       "    </tr>\n",
       "  </tbody>\n",
       "</table>\n",
       "<p>8 rows × 87 columns</p>\n",
       "</div>"
      ],
      "text/plain": [
       "       2010        39        ad    adalah  administrasi    akibat        al  \\\n",
       "0  0.000000  0.000000  0.000000  0.000000      0.000000  0.000000  0.000000   \n",
       "1  0.000000  0.000000  0.000000  0.000000      0.000000  0.000000  0.000000   \n",
       "2  0.000000  0.000000  0.160284  0.000000      0.000000  0.000000  0.160284   \n",
       "3  0.000000  0.000000  0.000000  0.000000      0.000000  0.000000  0.000000   \n",
       "4  0.000000  0.000000  0.000000  0.212074      0.000000  0.000000  0.000000   \n",
       "5  0.181828  0.181828  0.000000  0.000000      0.363656  0.181828  0.000000   \n",
       "6  0.000000  0.000000  0.000000  0.253879      0.000000  0.000000  0.000000   \n",
       "7  0.000000  0.000000  0.000000  0.000000      0.000000  0.000000  0.000000   \n",
       "\n",
       "   angkatan      atas        au  ...   terdiri  terorganisir      tiga  \\\n",
       "0  0.000000  0.000000  0.000000  ...  0.000000      0.262806  0.000000   \n",
       "1  0.000000  0.000000  0.000000  ...  0.000000      0.000000  0.319316   \n",
       "2  0.480853  0.115917  0.160284  ...  0.160284      0.000000  0.000000   \n",
       "3  0.000000  0.000000  0.000000  ...  0.000000      0.000000  0.000000   \n",
       "4  0.000000  0.183003  0.000000  ...  0.000000      0.000000  0.000000   \n",
       "5  0.000000  0.131497  0.000000  ...  0.000000      0.000000  0.000000   \n",
       "6  0.000000  0.000000  0.000000  ...  0.000000      0.000000  0.000000   \n",
       "7  0.000000  0.000000  0.000000  ...  0.000000      0.000000  0.000000   \n",
       "\n",
       "        tni     udara   urutan     utama  wewenang     yakni      yang  \n",
       "0  0.131327  0.000000  0.00000  0.000000  0.000000  0.000000  0.166640  \n",
       "1  0.159566  0.000000  0.00000  0.319316  0.000000  0.319316  0.000000  \n",
       "2  0.640767  0.160284  0.00000  0.000000  0.000000  0.000000  0.101633  \n",
       "3  0.299163  0.000000  0.00000  0.000000  0.000000  0.000000  0.000000  \n",
       "4  0.000000  0.000000  0.00000  0.000000  0.253049  0.000000  0.320906  \n",
       "5  0.090861  0.000000  0.00000  0.000000  0.000000  0.000000  0.115294  \n",
       "6  0.151377  0.000000  0.30293  0.000000  0.000000  0.000000  0.000000  \n",
       "7  0.000000  0.000000  0.00000  0.000000  0.000000  0.000000  0.000000  \n",
       "\n",
       "[8 rows x 87 columns]"
      ]
     },
     "execution_count": 10,
     "metadata": {},
     "output_type": "execute_result"
    }
   ],
   "source": [
    "tfidf_vectorizer = TfidfVectorizer()\n",
    "tfidf = tfidf_vectorizer.fit_transform(kalimat)\n",
    "\n",
    "terms = tfidf_vectorizer.get_feature_names_out()\n",
    "tfidf = pd.DataFrame(data=tfidf.toarray(), columns=terms)\n",
    "\n",
    "tfidf"
   ]
  },
  {
   "cell_type": "markdown",
   "metadata": {},
   "source": [
    "### TF-IDF menggunakan Preprocessing\n"
   ]
  },
  {
   "cell_type": "code",
   "execution_count": 11,
   "metadata": {},
   "outputs": [
    {
     "data": {
      "text/html": [
       "<div>\n",
       "<style scoped>\n",
       "    .dataframe tbody tr th:only-of-type {\n",
       "        vertical-align: middle;\n",
       "    }\n",
       "\n",
       "    .dataframe tbody tr th {\n",
       "        vertical-align: top;\n",
       "    }\n",
       "\n",
       "    .dataframe thead th {\n",
       "        text-align: right;\n",
       "    }\n",
       "</style>\n",
       "<table border=\"1\" class=\"dataframe\">\n",
       "  <thead>\n",
       "    <tr style=\"text-align: right;\">\n",
       "      <th></th>\n",
       "      <th>ad</th>\n",
       "      <th>administrasi</th>\n",
       "      <th>akibat</th>\n",
       "      <th>al</th>\n",
       "      <th>angkatan</th>\n",
       "      <th>au</th>\n",
       "      <th>bintara</th>\n",
       "      <th>cnbc</th>\n",
       "      <th>darat</th>\n",
       "      <th>dibagi</th>\n",
       "      <th>...</th>\n",
       "      <th>sifatnya</th>\n",
       "      <th>struktur</th>\n",
       "      <th>tamtama</th>\n",
       "      <th>tanggung</th>\n",
       "      <th>terorganisir</th>\n",
       "      <th>tni</th>\n",
       "      <th>udara</th>\n",
       "      <th>urutan</th>\n",
       "      <th>utama</th>\n",
       "      <th>wewenang</th>\n",
       "    </tr>\n",
       "  </thead>\n",
       "  <tbody>\n",
       "    <tr>\n",
       "      <th>0</th>\n",
       "      <td>0.000000</td>\n",
       "      <td>0.000000</td>\n",
       "      <td>0.000000</td>\n",
       "      <td>0.000000</td>\n",
       "      <td>0.000000</td>\n",
       "      <td>0.000000</td>\n",
       "      <td>0.00000</td>\n",
       "      <td>0.269725</td>\n",
       "      <td>0.000000</td>\n",
       "      <td>0.00000</td>\n",
       "      <td>...</td>\n",
       "      <td>0.000000</td>\n",
       "      <td>0.321837</td>\n",
       "      <td>0.000000</td>\n",
       "      <td>0.000000</td>\n",
       "      <td>0.321837</td>\n",
       "      <td>0.160825</td>\n",
       "      <td>0.000000</td>\n",
       "      <td>0.000000</td>\n",
       "      <td>0.00000</td>\n",
       "      <td>0.000000</td>\n",
       "    </tr>\n",
       "    <tr>\n",
       "      <th>1</th>\n",
       "      <td>0.000000</td>\n",
       "      <td>0.000000</td>\n",
       "      <td>0.000000</td>\n",
       "      <td>0.000000</td>\n",
       "      <td>0.000000</td>\n",
       "      <td>0.000000</td>\n",
       "      <td>0.40929</td>\n",
       "      <td>0.000000</td>\n",
       "      <td>0.000000</td>\n",
       "      <td>0.40929</td>\n",
       "      <td>...</td>\n",
       "      <td>0.000000</td>\n",
       "      <td>0.000000</td>\n",
       "      <td>0.343017</td>\n",
       "      <td>0.000000</td>\n",
       "      <td>0.000000</td>\n",
       "      <td>0.204527</td>\n",
       "      <td>0.000000</td>\n",
       "      <td>0.000000</td>\n",
       "      <td>0.40929</td>\n",
       "      <td>0.000000</td>\n",
       "    </tr>\n",
       "    <tr>\n",
       "      <th>2</th>\n",
       "      <td>0.174126</td>\n",
       "      <td>0.000000</td>\n",
       "      <td>0.000000</td>\n",
       "      <td>0.174126</td>\n",
       "      <td>0.522379</td>\n",
       "      <td>0.174126</td>\n",
       "      <td>0.00000</td>\n",
       "      <td>0.000000</td>\n",
       "      <td>0.174126</td>\n",
       "      <td>0.00000</td>\n",
       "      <td>...</td>\n",
       "      <td>0.000000</td>\n",
       "      <td>0.000000</td>\n",
       "      <td>0.000000</td>\n",
       "      <td>0.000000</td>\n",
       "      <td>0.000000</td>\n",
       "      <td>0.696103</td>\n",
       "      <td>0.174126</td>\n",
       "      <td>0.000000</td>\n",
       "      <td>0.00000</td>\n",
       "      <td>0.000000</td>\n",
       "    </tr>\n",
       "    <tr>\n",
       "      <th>3</th>\n",
       "      <td>0.000000</td>\n",
       "      <td>0.000000</td>\n",
       "      <td>0.000000</td>\n",
       "      <td>0.000000</td>\n",
       "      <td>0.000000</td>\n",
       "      <td>0.000000</td>\n",
       "      <td>0.00000</td>\n",
       "      <td>0.000000</td>\n",
       "      <td>0.000000</td>\n",
       "      <td>0.00000</td>\n",
       "      <td>...</td>\n",
       "      <td>0.000000</td>\n",
       "      <td>0.000000</td>\n",
       "      <td>0.000000</td>\n",
       "      <td>0.000000</td>\n",
       "      <td>0.000000</td>\n",
       "      <td>0.479132</td>\n",
       "      <td>0.000000</td>\n",
       "      <td>0.000000</td>\n",
       "      <td>0.00000</td>\n",
       "      <td>0.000000</td>\n",
       "    </tr>\n",
       "    <tr>\n",
       "      <th>4</th>\n",
       "      <td>0.000000</td>\n",
       "      <td>0.000000</td>\n",
       "      <td>0.000000</td>\n",
       "      <td>0.000000</td>\n",
       "      <td>0.000000</td>\n",
       "      <td>0.000000</td>\n",
       "      <td>0.00000</td>\n",
       "      <td>0.000000</td>\n",
       "      <td>0.000000</td>\n",
       "      <td>0.00000</td>\n",
       "      <td>...</td>\n",
       "      <td>0.000000</td>\n",
       "      <td>0.000000</td>\n",
       "      <td>0.000000</td>\n",
       "      <td>0.342185</td>\n",
       "      <td>0.000000</td>\n",
       "      <td>0.000000</td>\n",
       "      <td>0.000000</td>\n",
       "      <td>0.000000</td>\n",
       "      <td>0.00000</td>\n",
       "      <td>0.342185</td>\n",
       "    </tr>\n",
       "    <tr>\n",
       "      <th>5</th>\n",
       "      <td>0.000000</td>\n",
       "      <td>0.443851</td>\n",
       "      <td>0.221925</td>\n",
       "      <td>0.000000</td>\n",
       "      <td>0.000000</td>\n",
       "      <td>0.000000</td>\n",
       "      <td>0.00000</td>\n",
       "      <td>0.000000</td>\n",
       "      <td>0.000000</td>\n",
       "      <td>0.00000</td>\n",
       "      <td>...</td>\n",
       "      <td>0.221925</td>\n",
       "      <td>0.000000</td>\n",
       "      <td>0.000000</td>\n",
       "      <td>0.000000</td>\n",
       "      <td>0.000000</td>\n",
       "      <td>0.110898</td>\n",
       "      <td>0.000000</td>\n",
       "      <td>0.000000</td>\n",
       "      <td>0.00000</td>\n",
       "      <td>0.000000</td>\n",
       "    </tr>\n",
       "    <tr>\n",
       "      <th>6</th>\n",
       "      <td>0.000000</td>\n",
       "      <td>0.000000</td>\n",
       "      <td>0.000000</td>\n",
       "      <td>0.000000</td>\n",
       "      <td>0.000000</td>\n",
       "      <td>0.000000</td>\n",
       "      <td>0.00000</td>\n",
       "      <td>0.000000</td>\n",
       "      <td>0.000000</td>\n",
       "      <td>0.00000</td>\n",
       "      <td>...</td>\n",
       "      <td>0.000000</td>\n",
       "      <td>0.000000</td>\n",
       "      <td>0.375949</td>\n",
       "      <td>0.000000</td>\n",
       "      <td>0.000000</td>\n",
       "      <td>0.224163</td>\n",
       "      <td>0.000000</td>\n",
       "      <td>0.448585</td>\n",
       "      <td>0.00000</td>\n",
       "      <td>0.000000</td>\n",
       "    </tr>\n",
       "    <tr>\n",
       "      <th>7</th>\n",
       "      <td>0.000000</td>\n",
       "      <td>0.000000</td>\n",
       "      <td>0.000000</td>\n",
       "      <td>0.000000</td>\n",
       "      <td>0.000000</td>\n",
       "      <td>0.000000</td>\n",
       "      <td>0.00000</td>\n",
       "      <td>0.399323</td>\n",
       "      <td>0.000000</td>\n",
       "      <td>0.00000</td>\n",
       "      <td>...</td>\n",
       "      <td>0.000000</td>\n",
       "      <td>0.000000</td>\n",
       "      <td>0.000000</td>\n",
       "      <td>0.000000</td>\n",
       "      <td>0.000000</td>\n",
       "      <td>0.000000</td>\n",
       "      <td>0.000000</td>\n",
       "      <td>0.000000</td>\n",
       "      <td>0.00000</td>\n",
       "      <td>0.000000</td>\n",
       "    </tr>\n",
       "  </tbody>\n",
       "</table>\n",
       "<p>8 rows × 55 columns</p>\n",
       "</div>"
      ],
      "text/plain": [
       "         ad  administrasi    akibat        al  angkatan        au  bintara  \\\n",
       "0  0.000000      0.000000  0.000000  0.000000  0.000000  0.000000  0.00000   \n",
       "1  0.000000      0.000000  0.000000  0.000000  0.000000  0.000000  0.40929   \n",
       "2  0.174126      0.000000  0.000000  0.174126  0.522379  0.174126  0.00000   \n",
       "3  0.000000      0.000000  0.000000  0.000000  0.000000  0.000000  0.00000   \n",
       "4  0.000000      0.000000  0.000000  0.000000  0.000000  0.000000  0.00000   \n",
       "5  0.000000      0.443851  0.221925  0.000000  0.000000  0.000000  0.00000   \n",
       "6  0.000000      0.000000  0.000000  0.000000  0.000000  0.000000  0.00000   \n",
       "7  0.000000      0.000000  0.000000  0.000000  0.000000  0.000000  0.00000   \n",
       "\n",
       "       cnbc     darat   dibagi  ...  sifatnya  struktur   tamtama  tanggung  \\\n",
       "0  0.269725  0.000000  0.00000  ...  0.000000  0.321837  0.000000  0.000000   \n",
       "1  0.000000  0.000000  0.40929  ...  0.000000  0.000000  0.343017  0.000000   \n",
       "2  0.000000  0.174126  0.00000  ...  0.000000  0.000000  0.000000  0.000000   \n",
       "3  0.000000  0.000000  0.00000  ...  0.000000  0.000000  0.000000  0.000000   \n",
       "4  0.000000  0.000000  0.00000  ...  0.000000  0.000000  0.000000  0.342185   \n",
       "5  0.000000  0.000000  0.00000  ...  0.221925  0.000000  0.000000  0.000000   \n",
       "6  0.000000  0.000000  0.00000  ...  0.000000  0.000000  0.375949  0.000000   \n",
       "7  0.399323  0.000000  0.00000  ...  0.000000  0.000000  0.000000  0.000000   \n",
       "\n",
       "   terorganisir       tni     udara    urutan    utama  wewenang  \n",
       "0      0.321837  0.160825  0.000000  0.000000  0.00000  0.000000  \n",
       "1      0.000000  0.204527  0.000000  0.000000  0.40929  0.000000  \n",
       "2      0.000000  0.696103  0.174126  0.000000  0.00000  0.000000  \n",
       "3      0.000000  0.479132  0.000000  0.000000  0.00000  0.000000  \n",
       "4      0.000000  0.000000  0.000000  0.000000  0.00000  0.342185  \n",
       "5      0.000000  0.110898  0.000000  0.000000  0.00000  0.000000  \n",
       "6      0.000000  0.224163  0.000000  0.448585  0.00000  0.000000  \n",
       "7      0.000000  0.000000  0.000000  0.000000  0.00000  0.000000  \n",
       "\n",
       "[8 rows x 55 columns]"
      ]
     },
     "execution_count": 11,
     "metadata": {},
     "output_type": "execute_result"
    }
   ],
   "source": [
    "tfidf_vectorizer = TfidfVectorizer()\n",
    "tfidf_preprocessing = tfidf_vectorizer.fit_transform(kalimat_preprocessing)\n",
    "\n",
    "terms = tfidf_vectorizer.get_feature_names_out()\n",
    "tfidf_preprocessing = pd.DataFrame(data=tfidf_preprocessing.toarray(), columns=terms)\n",
    "\n",
    "tfidf_preprocessing"
   ]
  },
  {
   "cell_type": "markdown",
   "metadata": {},
   "source": [
    "## Cosine Similarity\n"
   ]
  },
  {
   "cell_type": "markdown",
   "metadata": {},
   "source": [
    "$$simmilarity(A, B) = \\frac{A \\cdot B}{|A||B|}$$\n"
   ]
  },
  {
   "cell_type": "markdown",
   "metadata": {},
   "source": [
    "Keterangan:\n",
    "\n",
    "$A.B$ = Vector dot product dari A dan B dihitung dengan $\\sum_{i=1}^n x_{k}y_{k}$\n",
    "\n",
    "$|A|$ = Panjang vektor A dihitung dengan $\\sum_{i=1}^n x_{k}^2$ = $\\sqrt{\\mathrm{a}_{1}^{2} + \\mathrm{a}_{2}^{2} + \\mathrm{a}_{3}^{2}} +...+ \\mathrm{n}_{n}^{2}$\n",
    "\n",
    "$|B|$ = Panjang vektor A dihitung dengan $\\sum_{i=1}^n y_{k}^2$ = $\\sqrt{\\mathrm{b}_{1}^{2} + \\mathrm{b}_{2}^{2} + \\mathrm{b}_{3}^{2}} + ...+ \\mathrm{n}_{n}^{2}$\n"
   ]
  },
  {
   "cell_type": "markdown",
   "metadata": {},
   "source": [
    "### Cossim tanpa Preprocessing\n"
   ]
  },
  {
   "cell_type": "code",
   "execution_count": 12,
   "metadata": {},
   "outputs": [
    {
     "data": {
      "text/html": [
       "<div>\n",
       "<style scoped>\n",
       "    .dataframe tbody tr th:only-of-type {\n",
       "        vertical-align: middle;\n",
       "    }\n",
       "\n",
       "    .dataframe tbody tr th {\n",
       "        vertical-align: top;\n",
       "    }\n",
       "\n",
       "    .dataframe thead th {\n",
       "        text-align: right;\n",
       "    }\n",
       "</style>\n",
       "<table border=\"1\" class=\"dataframe\">\n",
       "  <thead>\n",
       "    <tr style=\"text-align: right;\">\n",
       "      <th></th>\n",
       "      <th>0</th>\n",
       "      <th>1</th>\n",
       "      <th>2</th>\n",
       "      <th>3</th>\n",
       "      <th>4</th>\n",
       "      <th>5</th>\n",
       "      <th>6</th>\n",
       "      <th>7</th>\n",
       "    </tr>\n",
       "  </thead>\n",
       "  <tbody>\n",
       "    <tr>\n",
       "      <th>0</th>\n",
       "      <td>1.000000</td>\n",
       "      <td>0.047392</td>\n",
       "      <td>0.114356</td>\n",
       "      <td>0.039288</td>\n",
       "      <td>0.074426</td>\n",
       "      <td>0.046199</td>\n",
       "      <td>0.019880</td>\n",
       "      <td>0.263855</td>\n",
       "    </tr>\n",
       "    <tr>\n",
       "      <th>1</th>\n",
       "      <td>0.047392</td>\n",
       "      <td>1.000000</td>\n",
       "      <td>0.118368</td>\n",
       "      <td>0.107958</td>\n",
       "      <td>0.093170</td>\n",
       "      <td>0.069370</td>\n",
       "      <td>0.241099</td>\n",
       "      <td>0.000000</td>\n",
       "    </tr>\n",
       "    <tr>\n",
       "      <th>2</th>\n",
       "      <td>0.114356</td>\n",
       "      <td>0.118368</td>\n",
       "      <td>1.000000</td>\n",
       "      <td>0.191694</td>\n",
       "      <td>0.095093</td>\n",
       "      <td>0.094363</td>\n",
       "      <td>0.096998</td>\n",
       "      <td>0.000000</td>\n",
       "    </tr>\n",
       "    <tr>\n",
       "      <th>3</th>\n",
       "      <td>0.039288</td>\n",
       "      <td>0.107958</td>\n",
       "      <td>0.191694</td>\n",
       "      <td>1.000000</td>\n",
       "      <td>0.233361</td>\n",
       "      <td>0.209631</td>\n",
       "      <td>0.102418</td>\n",
       "      <td>0.000000</td>\n",
       "    </tr>\n",
       "    <tr>\n",
       "      <th>4</th>\n",
       "      <td>0.074426</td>\n",
       "      <td>0.093170</td>\n",
       "      <td>0.095093</td>\n",
       "      <td>0.233361</td>\n",
       "      <td>1.000000</td>\n",
       "      <td>0.184993</td>\n",
       "      <td>0.118081</td>\n",
       "      <td>0.000000</td>\n",
       "    </tr>\n",
       "    <tr>\n",
       "      <th>5</th>\n",
       "      <td>0.046199</td>\n",
       "      <td>0.069370</td>\n",
       "      <td>0.094363</td>\n",
       "      <td>0.209631</td>\n",
       "      <td>0.184993</td>\n",
       "      <td>1.000000</td>\n",
       "      <td>0.087146</td>\n",
       "      <td>0.000000</td>\n",
       "    </tr>\n",
       "    <tr>\n",
       "      <th>6</th>\n",
       "      <td>0.019880</td>\n",
       "      <td>0.241099</td>\n",
       "      <td>0.096998</td>\n",
       "      <td>0.102418</td>\n",
       "      <td>0.118081</td>\n",
       "      <td>0.087146</td>\n",
       "      <td>1.000000</td>\n",
       "      <td>0.000000</td>\n",
       "    </tr>\n",
       "    <tr>\n",
       "      <th>7</th>\n",
       "      <td>0.263855</td>\n",
       "      <td>0.000000</td>\n",
       "      <td>0.000000</td>\n",
       "      <td>0.000000</td>\n",
       "      <td>0.000000</td>\n",
       "      <td>0.000000</td>\n",
       "      <td>0.000000</td>\n",
       "      <td>1.000000</td>\n",
       "    </tr>\n",
       "  </tbody>\n",
       "</table>\n",
       "</div>"
      ],
      "text/plain": [
       "          0         1         2         3         4         5         6  \\\n",
       "0  1.000000  0.047392  0.114356  0.039288  0.074426  0.046199  0.019880   \n",
       "1  0.047392  1.000000  0.118368  0.107958  0.093170  0.069370  0.241099   \n",
       "2  0.114356  0.118368  1.000000  0.191694  0.095093  0.094363  0.096998   \n",
       "3  0.039288  0.107958  0.191694  1.000000  0.233361  0.209631  0.102418   \n",
       "4  0.074426  0.093170  0.095093  0.233361  1.000000  0.184993  0.118081   \n",
       "5  0.046199  0.069370  0.094363  0.209631  0.184993  1.000000  0.087146   \n",
       "6  0.019880  0.241099  0.096998  0.102418  0.118081  0.087146  1.000000   \n",
       "7  0.263855  0.000000  0.000000  0.000000  0.000000  0.000000  0.000000   \n",
       "\n",
       "          7  \n",
       "0  0.263855  \n",
       "1  0.000000  \n",
       "2  0.000000  \n",
       "3  0.000000  \n",
       "4  0.000000  \n",
       "5  0.000000  \n",
       "6  0.000000  \n",
       "7  1.000000  "
      ]
     },
     "execution_count": 12,
     "metadata": {},
     "output_type": "execute_result"
    }
   ],
   "source": [
    "cossim = cosine_similarity(tfidf, tfidf)\n",
    "\n",
    "similarity_matrix = pd.DataFrame(cossim, \n",
    "\t\t\t\t\t\t\t\t index=range(len(kalimat)), \n",
    "\t\t\t\t\t\t\t\t columns=range(len(kalimat)))\n",
    "\n",
    "similarity_matrix"
   ]
  },
  {
   "cell_type": "markdown",
   "metadata": {},
   "source": [
    "### Cossim menggunakan Preprocessing\n"
   ]
  },
  {
   "cell_type": "code",
   "execution_count": 13,
   "metadata": {},
   "outputs": [
    {
     "data": {
      "text/html": [
       "<div>\n",
       "<style scoped>\n",
       "    .dataframe tbody tr th:only-of-type {\n",
       "        vertical-align: middle;\n",
       "    }\n",
       "\n",
       "    .dataframe tbody tr th {\n",
       "        vertical-align: top;\n",
       "    }\n",
       "\n",
       "    .dataframe thead th {\n",
       "        text-align: right;\n",
       "    }\n",
       "</style>\n",
       "<table border=\"1\" class=\"dataframe\">\n",
       "  <thead>\n",
       "    <tr style=\"text-align: right;\">\n",
       "      <th></th>\n",
       "      <th>0</th>\n",
       "      <th>1</th>\n",
       "      <th>2</th>\n",
       "      <th>3</th>\n",
       "      <th>4</th>\n",
       "      <th>5</th>\n",
       "      <th>6</th>\n",
       "      <th>7</th>\n",
       "    </tr>\n",
       "  </thead>\n",
       "  <tbody>\n",
       "    <tr>\n",
       "      <th>0</th>\n",
       "      <td>1.000000</td>\n",
       "      <td>0.047392</td>\n",
       "      <td>0.114356</td>\n",
       "      <td>0.039288</td>\n",
       "      <td>0.074426</td>\n",
       "      <td>0.046199</td>\n",
       "      <td>0.019880</td>\n",
       "      <td>0.263855</td>\n",
       "    </tr>\n",
       "    <tr>\n",
       "      <th>1</th>\n",
       "      <td>0.047392</td>\n",
       "      <td>1.000000</td>\n",
       "      <td>0.118368</td>\n",
       "      <td>0.107958</td>\n",
       "      <td>0.093170</td>\n",
       "      <td>0.069370</td>\n",
       "      <td>0.241099</td>\n",
       "      <td>0.000000</td>\n",
       "    </tr>\n",
       "    <tr>\n",
       "      <th>2</th>\n",
       "      <td>0.114356</td>\n",
       "      <td>0.118368</td>\n",
       "      <td>1.000000</td>\n",
       "      <td>0.191694</td>\n",
       "      <td>0.095093</td>\n",
       "      <td>0.094363</td>\n",
       "      <td>0.096998</td>\n",
       "      <td>0.000000</td>\n",
       "    </tr>\n",
       "    <tr>\n",
       "      <th>3</th>\n",
       "      <td>0.039288</td>\n",
       "      <td>0.107958</td>\n",
       "      <td>0.191694</td>\n",
       "      <td>1.000000</td>\n",
       "      <td>0.233361</td>\n",
       "      <td>0.209631</td>\n",
       "      <td>0.102418</td>\n",
       "      <td>0.000000</td>\n",
       "    </tr>\n",
       "    <tr>\n",
       "      <th>4</th>\n",
       "      <td>0.074426</td>\n",
       "      <td>0.093170</td>\n",
       "      <td>0.095093</td>\n",
       "      <td>0.233361</td>\n",
       "      <td>1.000000</td>\n",
       "      <td>0.184993</td>\n",
       "      <td>0.118081</td>\n",
       "      <td>0.000000</td>\n",
       "    </tr>\n",
       "    <tr>\n",
       "      <th>5</th>\n",
       "      <td>0.046199</td>\n",
       "      <td>0.069370</td>\n",
       "      <td>0.094363</td>\n",
       "      <td>0.209631</td>\n",
       "      <td>0.184993</td>\n",
       "      <td>1.000000</td>\n",
       "      <td>0.087146</td>\n",
       "      <td>0.000000</td>\n",
       "    </tr>\n",
       "    <tr>\n",
       "      <th>6</th>\n",
       "      <td>0.019880</td>\n",
       "      <td>0.241099</td>\n",
       "      <td>0.096998</td>\n",
       "      <td>0.102418</td>\n",
       "      <td>0.118081</td>\n",
       "      <td>0.087146</td>\n",
       "      <td>1.000000</td>\n",
       "      <td>0.000000</td>\n",
       "    </tr>\n",
       "    <tr>\n",
       "      <th>7</th>\n",
       "      <td>0.263855</td>\n",
       "      <td>0.000000</td>\n",
       "      <td>0.000000</td>\n",
       "      <td>0.000000</td>\n",
       "      <td>0.000000</td>\n",
       "      <td>0.000000</td>\n",
       "      <td>0.000000</td>\n",
       "      <td>1.000000</td>\n",
       "    </tr>\n",
       "  </tbody>\n",
       "</table>\n",
       "</div>"
      ],
      "text/plain": [
       "          0         1         2         3         4         5         6  \\\n",
       "0  1.000000  0.047392  0.114356  0.039288  0.074426  0.046199  0.019880   \n",
       "1  0.047392  1.000000  0.118368  0.107958  0.093170  0.069370  0.241099   \n",
       "2  0.114356  0.118368  1.000000  0.191694  0.095093  0.094363  0.096998   \n",
       "3  0.039288  0.107958  0.191694  1.000000  0.233361  0.209631  0.102418   \n",
       "4  0.074426  0.093170  0.095093  0.233361  1.000000  0.184993  0.118081   \n",
       "5  0.046199  0.069370  0.094363  0.209631  0.184993  1.000000  0.087146   \n",
       "6  0.019880  0.241099  0.096998  0.102418  0.118081  0.087146  1.000000   \n",
       "7  0.263855  0.000000  0.000000  0.000000  0.000000  0.000000  0.000000   \n",
       "\n",
       "          7  \n",
       "0  0.263855  \n",
       "1  0.000000  \n",
       "2  0.000000  \n",
       "3  0.000000  \n",
       "4  0.000000  \n",
       "5  0.000000  \n",
       "6  0.000000  \n",
       "7  1.000000  "
      ]
     },
     "execution_count": 13,
     "metadata": {},
     "output_type": "execute_result"
    }
   ],
   "source": [
    "cossim_prep = cosine_similarity(tfidf, tfidf)\n",
    "\n",
    "similarity_matrix = pd.DataFrame(cossim_prep, \n",
    "\t\t\t\t\t\t\t\t index=range(len(kalimat)), \n",
    "\t\t\t\t\t\t\t\t columns=range(len(kalimat)))\n",
    "\n",
    "similarity_matrix"
   ]
  },
  {
   "cell_type": "markdown",
   "metadata": {},
   "source": [
    "## Graph\n"
   ]
  },
  {
   "cell_type": "markdown",
   "metadata": {},
   "source": [
    "Hasil dari nilai _Cosine Simmilarity_ ini akan dapat digunakan untuk membentuk graph dengan menggunakan modul nx.graph. Graph ini akan menggambarkan ilustrasi dari kedekatan setiap kalimatnya dalam berita tersebut. Dalam proses penggambaran graph tersebut diperlukan ambang batas _(threshold)_ yang digunakan untuk memberikan batasan agar keseluruhan kalimatnya tidak dihubungkan menggunakan garis _(edge)_. Nilai ambang batas _(threshold)_ yang digunakan adalah **0.1**\n"
   ]
  },
  {
   "cell_type": "code",
   "execution_count": 14,
   "metadata": {},
   "outputs": [],
   "source": [
    "# threshold = 0.5\n",
    "# adjacency_matrix = (similarity_matrix > threshold).astype(int)\n",
    "# adjacency_matrix"
   ]
  },
  {
   "cell_type": "code",
   "execution_count": 15,
   "metadata": {},
   "outputs": [
    {
     "data": {
      "image/png": "[encoded data removed]",
      "text/plain": [
       "<Figure size 640x480 with 1 Axes>"
      ]
     },
     "metadata": {},
     "output_type": "display_data"
    }
   ],
   "source": [
    "G = nx.DiGraph()\n",
    "for i in range(len(cossim)):\n",
    "    G.add_node(i)\n",
    "\n",
    "for i in range(len(cossim)):\n",
    "    for j in range(len(cossim)):\n",
    "        similarity = cossim[i][j]\n",
    "        if similarity > 0.1 and i != j:\n",
    "            G.add_edge(i, j)\n",
    "\n",
    "pos = nx.spring_layout(G)\n",
    "nx.draw_networkx_nodes(G, pos, node_size=500, node_color='b')\n",
    "nx.draw_networkx_edges(G, pos, edge_color='red', arrows=True)\n",
    "nx.draw_networkx_labels(G, pos)\n",
    "\n",
    "plt.show()"
   ]
  },
  {
   "cell_type": "code",
   "execution_count": 16,
   "metadata": {},
   "outputs": [
    {
     "data": {
      "image/png": "[encoded data removed]",
      "text/plain": [
       "<Figure size 640x480 with 1 Axes>"
      ]
     },
     "metadata": {},
     "output_type": "display_data"
    }
   ],
   "source": [
    "G_preprocessing = nx.DiGraph()\n",
    "for i in range(len(cossim_prep)):\n",
    "    G_preprocessing.add_node(i)\n",
    "\n",
    "for i in range(len(cossim_prep)):\n",
    "    for j in range(len(cossim_prep)):\n",
    "        similarity_preprocessing = cossim_prep[i][j]\n",
    "        if similarity_preprocessing > 0.1 and i != j:\n",
    "            G_preprocessing.add_edge(i, j)\n",
    "\n",
    "pos = nx.spring_layout(G)\n",
    "nx.draw_networkx_nodes(G, pos, node_size=500, node_color='b')\n",
    "nx.draw_networkx_edges(G, pos, edge_color='red', arrows=True)\n",
    "nx.draw_networkx_labels(G, pos)\n",
    "\n",
    "plt.show()"
   ]
  },
  {
   "cell_type": "markdown",
   "metadata": {},
   "source": [
    "## Matrix Centralitas\n"
   ]
  },
  {
   "cell_type": "markdown",
   "metadata": {},
   "source": [
    "### Closeness Centrality\n"
   ]
  },
  {
   "cell_type": "markdown",
   "metadata": {},
   "source": [
    "$$CC(i) = \\frac{N-1}{\\sum_{j}d(i, j)}$$\n"
   ]
  },
  {
   "cell_type": "markdown",
   "metadata": {},
   "source": [
    "Keterangan:\n",
    "\n",
    "$N$ = nomor dari masing-masing node<br>\n",
    "$d(i, j)$ = $d$ adalah panjang jalur terpendek antara node $i$ dan $j$ dalam jaringan\n"
   ]
  },
  {
   "cell_type": "markdown",
   "metadata": {},
   "source": [
    "#### Closeness Centrality tanpa Preprocessing\n"
   ]
  },
  {
   "cell_type": "code",
   "execution_count": 17,
   "metadata": {},
   "outputs": [
    {
     "name": "stdout",
     "output_type": "stream",
     "text": [
      "Closeness Centrality:\n",
      "Node 3: 0.7000\n",
      "Node 2: 0.6364\n",
      "Node 1: 0.5833\n",
      "Node 4: 0.5000\n",
      "Node 6: 0.5000\n",
      "Node 0: 0.4667\n",
      "Node 5: 0.4667\n",
      "Node 7: 0.3333\n"
     ]
    }
   ],
   "source": [
    "closeness= nx.closeness_centrality(G)\n",
    "\n",
    "sorted_closeness = sorted(closeness.items(), key=lambda x: x[1], reverse=True)\n",
    "print(\"Closeness Centrality:\")\n",
    "for node, closeness in sorted_closeness:\n",
    "    print(f\"Node {node}: {closeness:.4f}\")"
   ]
  },
  {
   "cell_type": "markdown",
   "metadata": {},
   "source": [
    "#### Ringkasan Berita\n"
   ]
  },
  {
   "cell_type": "code",
   "execution_count": 18,
   "metadata": {},
   "outputs": [
    {
     "name": "stdout",
     "output_type": "stream",
     "text": [
      "Tiga Node Tertinggi Closeness Centrality:\n",
      "Node 3: Closeness Centrality = 0.7000\n",
      "Kalimat: Setiap prajurit TNI diberi pangkat.\n",
      "\n",
      "Node 2: Closeness Centrality = 0.6364\n",
      "Kalimat: TNI sendiri terdiri atas TNI Angkatan Darat (TNI AD), TNI Angkatan Udara (TNI AU), dan TNI Angkatan Laut (TNI AL) yang secara keseluruhan dipimpin oleh Panglima TNI.\n",
      "\n",
      "Node 1: Closeness Centrality = 0.5833\n",
      "Kalimat: Pangkat dalam TNI dibagi menjadi tiga golongan utama yakni Perwira, Bintara, dan Tamtama.\n",
      "\n"
     ]
    }
   ],
   "source": [
    "ringkasan_closeness = \"\"\n",
    "print(\"Tiga Node Tertinggi Closeness Centrality:\")\n",
    "for node, closeness in sorted_closeness[:3]:\n",
    "    top_sentence = kalimat[node]\n",
    "    ringkasan_closeness += top_sentence + \" \"\n",
    "    print(f\"Node {node}: Closeness Centrality = {closeness:.4f}\")\n",
    "    print(f\"Kalimat: {top_sentence}\\n\")"
   ]
  },
  {
   "cell_type": "markdown",
   "metadata": {},
   "source": [
    "#### Closeness Centrality menggunakan Preprocessing\n"
   ]
  },
  {
   "cell_type": "code",
   "execution_count": 19,
   "metadata": {},
   "outputs": [
    {
     "name": "stdout",
     "output_type": "stream",
     "text": [
      "Closeness Centrality:\n",
      "Node 3: 0.7000\n",
      "Node 2: 0.6364\n",
      "Node 1: 0.5833\n",
      "Node 4: 0.5000\n",
      "Node 6: 0.5000\n",
      "Node 0: 0.4667\n",
      "Node 5: 0.4667\n",
      "Node 7: 0.3333\n"
     ]
    }
   ],
   "source": [
    "closeness_preprocessing = nx.closeness_centrality(G_preprocessing)\n",
    "\n",
    "sorted_closeness_preprocessing = sorted(closeness_preprocessing.items(), key=lambda x: x[1], reverse=True)\n",
    "print(\"Closeness Centrality:\")\n",
    "for node, closeness in sorted_closeness_preprocessing:\n",
    "    print(f\"Node {node}: {closeness:.4f}\")"
   ]
  },
  {
   "cell_type": "markdown",
   "metadata": {},
   "source": [
    "#### Ringkasan Berita\n"
   ]
  },
  {
   "cell_type": "code",
   "execution_count": 20,
   "metadata": {},
   "outputs": [
    {
     "name": "stdout",
     "output_type": "stream",
     "text": [
      "Tiga Node Tertinggi Closeness Centrality Menggunakan Preprocessing:\n",
      "Node 3: Closeness Centrality = 0.7000\n",
      "Kalimat: Setiap prajurit TNI diberi pangkat.\n",
      "\n",
      "Node 2: Closeness Centrality = 0.6364\n",
      "Kalimat: TNI sendiri terdiri atas TNI Angkatan Darat (TNI AD), TNI Angkatan Udara (TNI AU), dan TNI Angkatan Laut (TNI AL) yang secara keseluruhan dipimpin oleh Panglima TNI.\n",
      "\n",
      "Node 1: Closeness Centrality = 0.5833\n",
      "Kalimat: Pangkat dalam TNI dibagi menjadi tiga golongan utama yakni Perwira, Bintara, dan Tamtama.\n",
      "\n"
     ]
    }
   ],
   "source": [
    "ringkasan_closeness_preprocessing = \"\"\n",
    "print(\"Tiga Node Tertinggi Closeness Centrality Menggunakan Preprocessing:\")\n",
    "for node, closeness_preprocessing in sorted_closeness_preprocessing[:3]:\n",
    "    top_sentence = kalimat[node]\n",
    "    ringkasan_closeness_preprocessing += top_sentence + \" \"\n",
    "    print(f\"Node {node}: Closeness Centrality = {closeness_preprocessing:.4f}\")\n",
    "    print(f\"Kalimat: {top_sentence}\\n\")"
   ]
  },
  {
   "cell_type": "markdown",
   "metadata": {},
   "source": [
    "### Page Rank\n"
   ]
  },
  {
   "cell_type": "code",
   "execution_count": 21,
   "metadata": {},
   "outputs": [
    {
     "name": "stdout",
     "output_type": "stream",
     "text": [
      "Page Rank :\n",
      "Node 3: 0.2046\n",
      "Node 2: 0.1394\n",
      "Node 1: 0.1287\n",
      "Node 4: 0.1273\n",
      "Node 6: 0.1261\n",
      "Node 0: 0.1161\n",
      "Node 5: 0.0896\n",
      "Node 7: 0.0681\n"
     ]
    }
   ],
   "source": [
    "pagerank = nx.pagerank(G)\n",
    "\n",
    "sorted_pagerank= sorted(pagerank.items(), key=lambda x: x[1], reverse=True)\n",
    "print(\"Page Rank :\")\n",
    "for node, pagerank in sorted_pagerank:\n",
    "    print(f\"Node {node}: {pagerank:.4f}\")"
   ]
  },
  {
   "cell_type": "code",
   "execution_count": 22,
   "metadata": {},
   "outputs": [
    {
     "name": "stdout",
     "output_type": "stream",
     "text": [
      "Tiga Node Tertinggi Page Rank :\n",
      "Node 3: Page Rank = 0.2046\n",
      "Kalimat: Setiap prajurit TNI diberi pangkat.\n",
      "\n",
      "Node 2: Page Rank = 0.1394\n",
      "Kalimat: TNI sendiri terdiri atas TNI Angkatan Darat (TNI AD), TNI Angkatan Udara (TNI AU), dan TNI Angkatan Laut (TNI AL) yang secara keseluruhan dipimpin oleh Panglima TNI.\n",
      "\n",
      "Node 1: Page Rank = 0.1287\n",
      "Kalimat: Pangkat dalam TNI dibagi menjadi tiga golongan utama yakni Perwira, Bintara, dan Tamtama.\n",
      "\n"
     ]
    }
   ],
   "source": [
    "ringkasan_pagerank = \"\"\n",
    "print(\"Tiga Node Tertinggi Page Rank :\")\n",
    "for node, pagerank in sorted_pagerank[:3]:\n",
    "    top_sentence = kalimat[node]\n",
    "    ringkasan_pagerank += top_sentence + \" \"\n",
    "    print(f\"Node {node}: Page Rank = {pagerank:.4f}\")\n",
    "    print(f\"Kalimat: {top_sentence}\\n\")"
   ]
  },
  {
   "cell_type": "code",
   "execution_count": 23,
   "metadata": {},
   "outputs": [
    {
     "name": "stdout",
     "output_type": "stream",
     "text": [
      "Page Rank :\n",
      "Node 3: 0.2046\n",
      "Node 2: 0.1394\n",
      "Node 1: 0.1287\n",
      "Node 4: 0.1273\n",
      "Node 6: 0.1261\n",
      "Node 0: 0.1161\n",
      "Node 5: 0.0896\n",
      "Node 7: 0.0681\n"
     ]
    }
   ],
   "source": [
    "pagerank_preprocessing = nx.pagerank(G_preprocessing)\n",
    "\n",
    "sorted_pagerank_preprocessing= sorted(pagerank_preprocessing.items(), key=lambda x: x[1], reverse=True)\n",
    "print(\"Page Rank :\")\n",
    "for node, pagerank_preprocessing in sorted_pagerank_preprocessing:\n",
    "    print(f\"Node {node}: {pagerank_preprocessing:.4f}\")"
   ]
  },
  {
   "cell_type": "code",
   "execution_count": 24,
   "metadata": {},
   "outputs": [
    {
     "name": "stdout",
     "output_type": "stream",
     "text": [
      "Tiga Node Tertinggi Page Rank Menggunakan Preprocessing:\n",
      "Node 3: Page Rank = 0.2046\n",
      "Kalimat: Setiap prajurit TNI diberi pangkat.\n",
      "\n",
      "Node 2: Page Rank = 0.1394\n",
      "Kalimat: TNI sendiri terdiri atas TNI Angkatan Darat (TNI AD), TNI Angkatan Udara (TNI AU), dan TNI Angkatan Laut (TNI AL) yang secara keseluruhan dipimpin oleh Panglima TNI.\n",
      "\n",
      "Node 1: Page Rank = 0.1287\n",
      "Kalimat: Pangkat dalam TNI dibagi menjadi tiga golongan utama yakni Perwira, Bintara, dan Tamtama.\n",
      "\n"
     ]
    }
   ],
   "source": [
    "ringkasan_pagerank_preprocessing = \"\"\n",
    "print(\"Tiga Node Tertinggi Page Rank Menggunakan Preprocessing:\")\n",
    "for node, pagerank_preprocessing in sorted_pagerank_preprocessing[:3]:\n",
    "    top_sentence = kalimat[node]\n",
    "    ringkasan_pagerank_preprocessing += top_sentence + \" \"\n",
    "    print(f\"Node {node}: Page Rank = {pagerank_preprocessing:.4f}\")\n",
    "    print(f\"Kalimat: {top_sentence}\\n\")"
   ]
  }
 ],
 "metadata": {
  "kernelspec": {
   "display_name": "Python 3 (ipykernel)",
   "language": "python",
   "name": "python3"
  },
  "language_info": {
   "codemirror_mode": {
    "name": "ipython",
    "version": 3
   },
   "file_extension": ".py",
   "mimetype": "text/x-python",
   "name": "python",
   "nbconvert_exporter": "python",
   "pygments_lexer": "ipython3",
   "version": "3.11.9"
  }
 },
 "nbformat": 4,
 "nbformat_minor": 4
}
